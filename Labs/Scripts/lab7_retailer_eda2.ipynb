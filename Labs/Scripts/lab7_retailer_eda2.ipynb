{
  "cells": [
    {
      "cell_type": "markdown",
      "metadata": {
        "id": "W1UshwhuEZGO"
      },
      "source": [
        "# IS 4487 Lab 7\n",
        "\n",
        "## Outline\n",
        "\n",
        "Begin where you left on in Lab 6 with the *SuperStore Retail Orders* dataset\n",
        "\n",
        "<a href=\"https://colab.research.google.com/github/Stan-Pugsley/is_4487_base/blob/main/Labs/Scripts/lab7_retailer_eda2.ipynb\" target=\"_parent\"><img src=\"https://colab.research.google.com/assets/colab-badge.svg\" alt=\"Open In Colab\"/></a>"
      ]
    },
    {
      "cell_type": "markdown",
      "metadata": {
        "id": "QxryJvU9EZGb"
      },
      "source": [
        "## Load Libraries\n",
        "\n",
        "➡️ Assignment Tasks\n",
        "- Load any necessary libraries"
      ]
    },
    {
      "cell_type": "code",
      "execution_count": 186,
      "metadata": {
        "vscode": {
          "languageId": "plaintext"
        },
        "id": "QDGmJF2-EZGd"
      },
      "outputs": [],
      "source": [
        "import pandas as pd\n",
        "import matplotlib as mpl\n",
        "import sklearn as sl\n",
        "from matplotlib import pyplot as plt\n",
        "from datetime import datetime\n",
        "import seaborn as sns"
      ]
    },
    {
      "cell_type": "markdown",
      "metadata": {
        "id": "9DcowDzeEZGf"
      },
      "source": [
        "## Import Data into Dataframe\n",
        "\n",
        "➡️ Assignment Tasks\n",
        "- Import data from the SuperStore retail dataset into a dataframe (in GitHub go to Labs > DataSets)\n",
        "- Describe or profile the dataframe"
      ]
    },
    {
      "cell_type": "code",
      "execution_count": 138,
      "metadata": {
        "vscode": {
          "languageId": "plaintext"
        },
        "id": "ffOpvOgIEZGh",
        "outputId": "1d6c221d-1ebf-4704-e71e-68d5ebf55ca3",
        "colab": {
          "base_uri": "https://localhost:8080/"
        }
      },
      "outputs": [
        {
          "output_type": "stream",
          "name": "stdout",
          "text": [
            "Mounted at /content/gdrive\n"
          ]
        }
      ],
      "source": [
        "from google.colab import drive\n",
        "drive.mount('/content/gdrive', force_remount=True)\n",
        "\n",
        "df = pd.read_csv (r'/content/gdrive/MyDrive/Colab Notebooks/superstore_retail_orders.csv')"
      ]
    },
    {
      "cell_type": "markdown",
      "metadata": {
        "id": "R_q3l-nKEZGh"
      },
      "source": [
        "## Prepare Data\n",
        "\n",
        "➡️ Assignment Tasks\n",
        "- Convert any numbers into the correct datatype if they are not already numeric\n",
        "- Convert any character variables in to factors if they are appropriate for that datatype\n",
        "- Check for outliers.   Remove any outliers that appear to be mistakes\n",
        "- Remove rows with empty (NULL) values\n",
        "- Identify at least one variable with a missing value that can be imputed.   Fill in those empty values.\n",
        "- Add a \"total_amount\" variable based on the quantity and price"
      ]
    },
    {
      "cell_type": "code",
      "source": [
        "df.info()"
      ],
      "metadata": {
        "id": "e0tj05fnFE9U",
        "outputId": "d773b832-4890-439f-a694-2490c6649813",
        "colab": {
          "base_uri": "https://localhost:8080/"
        }
      },
      "execution_count": 139,
      "outputs": [
        {
          "output_type": "stream",
          "name": "stdout",
          "text": [
            "<class 'pandas.core.frame.DataFrame'>\n",
            "RangeIndex: 56045 entries, 0 to 56044\n",
            "Data columns (total 10 columns):\n",
            " #   Column            Non-Null Count  Dtype  \n",
            "---  ------            --------------  -----  \n",
            " 0   order_id          56045 non-null  int64  \n",
            " 1   order_date        56013 non-null  object \n",
            " 2   order_year_month  56013 non-null  object \n",
            " 3   customer_name     56045 non-null  object \n",
            " 4   city              55571 non-null  object \n",
            " 5   state_province    55571 non-null  object \n",
            " 6   quantity          56006 non-null  float64\n",
            " 7   product_name      56045 non-null  object \n",
            " 8   product_line      56045 non-null  object \n",
            " 9   product_price     56045 non-null  float64\n",
            "dtypes: float64(2), int64(1), object(7)\n",
            "memory usage: 4.3+ MB\n"
          ]
        }
      ]
    },
    {
      "cell_type": "code",
      "execution_count": 73,
      "metadata": {
        "vscode": {
          "languageId": "plaintext"
        },
        "id": "wj1PjXo6EZGj"
      },
      "outputs": [],
      "source": [
        "#data preparation"
      ]
    },
    {
      "cell_type": "code",
      "source": [
        "df['order_date'] = pd.to_datetime(df['order_date'], errors='coerce')"
      ],
      "metadata": {
        "id": "p1WmDIirExND"
      },
      "execution_count": 140,
      "outputs": []
    },
    {
      "cell_type": "code",
      "source": [
        "df['order_year_month']= pd.to_datetime(df['order_date'], errors='coerce')"
      ],
      "metadata": {
        "id": "goiXj7UkFosa"
      },
      "execution_count": 141,
      "outputs": []
    },
    {
      "cell_type": "code",
      "source": [
        "df.info()"
      ],
      "metadata": {
        "id": "-mNrE8s4Fj33",
        "outputId": "0ba0e766-4e66-4f29-9c03-20357d413412",
        "colab": {
          "base_uri": "https://localhost:8080/"
        }
      },
      "execution_count": 142,
      "outputs": [
        {
          "output_type": "stream",
          "name": "stdout",
          "text": [
            "<class 'pandas.core.frame.DataFrame'>\n",
            "RangeIndex: 56045 entries, 0 to 56044\n",
            "Data columns (total 10 columns):\n",
            " #   Column            Non-Null Count  Dtype         \n",
            "---  ------            --------------  -----         \n",
            " 0   order_id          56045 non-null  int64         \n",
            " 1   order_date        55958 non-null  datetime64[ns]\n",
            " 2   order_year_month  55958 non-null  datetime64[ns]\n",
            " 3   customer_name     56045 non-null  object        \n",
            " 4   city              55571 non-null  object        \n",
            " 5   state_province    55571 non-null  object        \n",
            " 6   quantity          56006 non-null  float64       \n",
            " 7   product_name      56045 non-null  object        \n",
            " 8   product_line      56045 non-null  object        \n",
            " 9   product_price     56045 non-null  float64       \n",
            "dtypes: datetime64[ns](2), float64(2), int64(1), object(5)\n",
            "memory usage: 4.3+ MB\n"
          ]
        }
      ]
    },
    {
      "cell_type": "code",
      "execution_count": 77,
      "metadata": {
        "vscode": {
          "languageId": "plaintext"
        },
        "id": "HstETPlCEZGm"
      },
      "outputs": [],
      "source": [
        "#outlier check and cleanup"
      ]
    },
    {
      "cell_type": "code",
      "source": [
        "df.describe()"
      ],
      "metadata": {
        "id": "pBVa7m2BF4xe",
        "outputId": "07ecfe1c-9ce5-41d8-a6cb-eabe30fdb3a9",
        "colab": {
          "base_uri": "https://localhost:8080/",
          "height": 300
        }
      },
      "execution_count": 143,
      "outputs": [
        {
          "output_type": "execute_result",
          "data": {
            "text/plain": [
              "           order_id       quantity  product_price\n",
              "count  56045.000000   56006.000000   56045.000000\n",
              "mean   61668.066340       3.348498    6195.540505\n",
              "std     7508.229651     422.646565   35784.727716\n",
              "min    45079.000000       1.000000       2.290000\n",
              "25%    55644.000000       1.000000       7.950000\n",
              "50%    61869.000000       1.000000     475.600000\n",
              "75%    68097.000000       2.000000     914.620000\n",
              "max    74147.000000  100000.000000  235481.000000"
            ],
            "text/html": [
              "\n",
              "  <div id=\"df-1a68e177-cf95-493c-a5b7-812aff2c9922\" class=\"colab-df-container\">\n",
              "    <div>\n",
              "<style scoped>\n",
              "    .dataframe tbody tr th:only-of-type {\n",
              "        vertical-align: middle;\n",
              "    }\n",
              "\n",
              "    .dataframe tbody tr th {\n",
              "        vertical-align: top;\n",
              "    }\n",
              "\n",
              "    .dataframe thead th {\n",
              "        text-align: right;\n",
              "    }\n",
              "</style>\n",
              "<table border=\"1\" class=\"dataframe\">\n",
              "  <thead>\n",
              "    <tr style=\"text-align: right;\">\n",
              "      <th></th>\n",
              "      <th>order_id</th>\n",
              "      <th>quantity</th>\n",
              "      <th>product_price</th>\n",
              "    </tr>\n",
              "  </thead>\n",
              "  <tbody>\n",
              "    <tr>\n",
              "      <th>count</th>\n",
              "      <td>56045.000000</td>\n",
              "      <td>56006.000000</td>\n",
              "      <td>56045.000000</td>\n",
              "    </tr>\n",
              "    <tr>\n",
              "      <th>mean</th>\n",
              "      <td>61668.066340</td>\n",
              "      <td>3.348498</td>\n",
              "      <td>6195.540505</td>\n",
              "    </tr>\n",
              "    <tr>\n",
              "      <th>std</th>\n",
              "      <td>7508.229651</td>\n",
              "      <td>422.646565</td>\n",
              "      <td>35784.727716</td>\n",
              "    </tr>\n",
              "    <tr>\n",
              "      <th>min</th>\n",
              "      <td>45079.000000</td>\n",
              "      <td>1.000000</td>\n",
              "      <td>2.290000</td>\n",
              "    </tr>\n",
              "    <tr>\n",
              "      <th>25%</th>\n",
              "      <td>55644.000000</td>\n",
              "      <td>1.000000</td>\n",
              "      <td>7.950000</td>\n",
              "    </tr>\n",
              "    <tr>\n",
              "      <th>50%</th>\n",
              "      <td>61869.000000</td>\n",
              "      <td>1.000000</td>\n",
              "      <td>475.600000</td>\n",
              "    </tr>\n",
              "    <tr>\n",
              "      <th>75%</th>\n",
              "      <td>68097.000000</td>\n",
              "      <td>2.000000</td>\n",
              "      <td>914.620000</td>\n",
              "    </tr>\n",
              "    <tr>\n",
              "      <th>max</th>\n",
              "      <td>74147.000000</td>\n",
              "      <td>100000.000000</td>\n",
              "      <td>235481.000000</td>\n",
              "    </tr>\n",
              "  </tbody>\n",
              "</table>\n",
              "</div>\n",
              "    <div class=\"colab-df-buttons\">\n",
              "\n",
              "  <div class=\"colab-df-container\">\n",
              "    <button class=\"colab-df-convert\" onclick=\"convertToInteractive('df-1a68e177-cf95-493c-a5b7-812aff2c9922')\"\n",
              "            title=\"Convert this dataframe to an interactive table.\"\n",
              "            style=\"display:none;\">\n",
              "\n",
              "  <svg xmlns=\"http://www.w3.org/2000/svg\" height=\"24px\" viewBox=\"0 -960 960 960\">\n",
              "    <path d=\"M120-120v-720h720v720H120Zm60-500h600v-160H180v160Zm220 220h160v-160H400v160Zm0 220h160v-160H400v160ZM180-400h160v-160H180v160Zm440 0h160v-160H620v160ZM180-180h160v-160H180v160Zm440 0h160v-160H620v160Z\"/>\n",
              "  </svg>\n",
              "    </button>\n",
              "\n",
              "  <style>\n",
              "    .colab-df-container {\n",
              "      display:flex;\n",
              "      gap: 12px;\n",
              "    }\n",
              "\n",
              "    .colab-df-convert {\n",
              "      background-color: #E8F0FE;\n",
              "      border: none;\n",
              "      border-radius: 50%;\n",
              "      cursor: pointer;\n",
              "      display: none;\n",
              "      fill: #1967D2;\n",
              "      height: 32px;\n",
              "      padding: 0 0 0 0;\n",
              "      width: 32px;\n",
              "    }\n",
              "\n",
              "    .colab-df-convert:hover {\n",
              "      background-color: #E2EBFA;\n",
              "      box-shadow: 0px 1px 2px rgba(60, 64, 67, 0.3), 0px 1px 3px 1px rgba(60, 64, 67, 0.15);\n",
              "      fill: #174EA6;\n",
              "    }\n",
              "\n",
              "    .colab-df-buttons div {\n",
              "      margin-bottom: 4px;\n",
              "    }\n",
              "\n",
              "    [theme=dark] .colab-df-convert {\n",
              "      background-color: #3B4455;\n",
              "      fill: #D2E3FC;\n",
              "    }\n",
              "\n",
              "    [theme=dark] .colab-df-convert:hover {\n",
              "      background-color: #434B5C;\n",
              "      box-shadow: 0px 1px 3px 1px rgba(0, 0, 0, 0.15);\n",
              "      filter: drop-shadow(0px 1px 2px rgba(0, 0, 0, 0.3));\n",
              "      fill: #FFFFFF;\n",
              "    }\n",
              "  </style>\n",
              "\n",
              "    <script>\n",
              "      const buttonEl =\n",
              "        document.querySelector('#df-1a68e177-cf95-493c-a5b7-812aff2c9922 button.colab-df-convert');\n",
              "      buttonEl.style.display =\n",
              "        google.colab.kernel.accessAllowed ? 'block' : 'none';\n",
              "\n",
              "      async function convertToInteractive(key) {\n",
              "        const element = document.querySelector('#df-1a68e177-cf95-493c-a5b7-812aff2c9922');\n",
              "        const dataTable =\n",
              "          await google.colab.kernel.invokeFunction('convertToInteractive',\n",
              "                                                    [key], {});\n",
              "        if (!dataTable) return;\n",
              "\n",
              "        const docLinkHtml = 'Like what you see? Visit the ' +\n",
              "          '<a target=\"_blank\" href=https://colab.research.google.com/notebooks/data_table.ipynb>data table notebook</a>'\n",
              "          + ' to learn more about interactive tables.';\n",
              "        element.innerHTML = '';\n",
              "        dataTable['output_type'] = 'display_data';\n",
              "        await google.colab.output.renderOutput(dataTable, element);\n",
              "        const docLink = document.createElement('div');\n",
              "        docLink.innerHTML = docLinkHtml;\n",
              "        element.appendChild(docLink);\n",
              "      }\n",
              "    </script>\n",
              "  </div>\n",
              "\n",
              "\n",
              "<div id=\"df-59c1af9f-4221-4c0c-9e98-cb866bd04fb0\">\n",
              "  <button class=\"colab-df-quickchart\" onclick=\"quickchart('df-59c1af9f-4221-4c0c-9e98-cb866bd04fb0')\"\n",
              "            title=\"Suggest charts\"\n",
              "            style=\"display:none;\">\n",
              "\n",
              "<svg xmlns=\"http://www.w3.org/2000/svg\" height=\"24px\"viewBox=\"0 0 24 24\"\n",
              "     width=\"24px\">\n",
              "    <g>\n",
              "        <path d=\"M19 3H5c-1.1 0-2 .9-2 2v14c0 1.1.9 2 2 2h14c1.1 0 2-.9 2-2V5c0-1.1-.9-2-2-2zM9 17H7v-7h2v7zm4 0h-2V7h2v10zm4 0h-2v-4h2v4z\"/>\n",
              "    </g>\n",
              "</svg>\n",
              "  </button>\n",
              "\n",
              "<style>\n",
              "  .colab-df-quickchart {\n",
              "      --bg-color: #E8F0FE;\n",
              "      --fill-color: #1967D2;\n",
              "      --hover-bg-color: #E2EBFA;\n",
              "      --hover-fill-color: #174EA6;\n",
              "      --disabled-fill-color: #AAA;\n",
              "      --disabled-bg-color: #DDD;\n",
              "  }\n",
              "\n",
              "  [theme=dark] .colab-df-quickchart {\n",
              "      --bg-color: #3B4455;\n",
              "      --fill-color: #D2E3FC;\n",
              "      --hover-bg-color: #434B5C;\n",
              "      --hover-fill-color: #FFFFFF;\n",
              "      --disabled-bg-color: #3B4455;\n",
              "      --disabled-fill-color: #666;\n",
              "  }\n",
              "\n",
              "  .colab-df-quickchart {\n",
              "    background-color: var(--bg-color);\n",
              "    border: none;\n",
              "    border-radius: 50%;\n",
              "    cursor: pointer;\n",
              "    display: none;\n",
              "    fill: var(--fill-color);\n",
              "    height: 32px;\n",
              "    padding: 0;\n",
              "    width: 32px;\n",
              "  }\n",
              "\n",
              "  .colab-df-quickchart:hover {\n",
              "    background-color: var(--hover-bg-color);\n",
              "    box-shadow: 0 1px 2px rgba(60, 64, 67, 0.3), 0 1px 3px 1px rgba(60, 64, 67, 0.15);\n",
              "    fill: var(--button-hover-fill-color);\n",
              "  }\n",
              "\n",
              "  .colab-df-quickchart-complete:disabled,\n",
              "  .colab-df-quickchart-complete:disabled:hover {\n",
              "    background-color: var(--disabled-bg-color);\n",
              "    fill: var(--disabled-fill-color);\n",
              "    box-shadow: none;\n",
              "  }\n",
              "\n",
              "  .colab-df-spinner {\n",
              "    border: 2px solid var(--fill-color);\n",
              "    border-color: transparent;\n",
              "    border-bottom-color: var(--fill-color);\n",
              "    animation:\n",
              "      spin 1s steps(1) infinite;\n",
              "  }\n",
              "\n",
              "  @keyframes spin {\n",
              "    0% {\n",
              "      border-color: transparent;\n",
              "      border-bottom-color: var(--fill-color);\n",
              "      border-left-color: var(--fill-color);\n",
              "    }\n",
              "    20% {\n",
              "      border-color: transparent;\n",
              "      border-left-color: var(--fill-color);\n",
              "      border-top-color: var(--fill-color);\n",
              "    }\n",
              "    30% {\n",
              "      border-color: transparent;\n",
              "      border-left-color: var(--fill-color);\n",
              "      border-top-color: var(--fill-color);\n",
              "      border-right-color: var(--fill-color);\n",
              "    }\n",
              "    40% {\n",
              "      border-color: transparent;\n",
              "      border-right-color: var(--fill-color);\n",
              "      border-top-color: var(--fill-color);\n",
              "    }\n",
              "    60% {\n",
              "      border-color: transparent;\n",
              "      border-right-color: var(--fill-color);\n",
              "    }\n",
              "    80% {\n",
              "      border-color: transparent;\n",
              "      border-right-color: var(--fill-color);\n",
              "      border-bottom-color: var(--fill-color);\n",
              "    }\n",
              "    90% {\n",
              "      border-color: transparent;\n",
              "      border-bottom-color: var(--fill-color);\n",
              "    }\n",
              "  }\n",
              "</style>\n",
              "\n",
              "  <script>\n",
              "    async function quickchart(key) {\n",
              "      const quickchartButtonEl =\n",
              "        document.querySelector('#' + key + ' button');\n",
              "      quickchartButtonEl.disabled = true;  // To prevent multiple clicks.\n",
              "      quickchartButtonEl.classList.add('colab-df-spinner');\n",
              "      try {\n",
              "        const charts = await google.colab.kernel.invokeFunction(\n",
              "            'suggestCharts', [key], {});\n",
              "      } catch (error) {\n",
              "        console.error('Error during call to suggestCharts:', error);\n",
              "      }\n",
              "      quickchartButtonEl.classList.remove('colab-df-spinner');\n",
              "      quickchartButtonEl.classList.add('colab-df-quickchart-complete');\n",
              "    }\n",
              "    (() => {\n",
              "      let quickchartButtonEl =\n",
              "        document.querySelector('#df-59c1af9f-4221-4c0c-9e98-cb866bd04fb0 button');\n",
              "      quickchartButtonEl.style.display =\n",
              "        google.colab.kernel.accessAllowed ? 'block' : 'none';\n",
              "    })();\n",
              "  </script>\n",
              "</div>\n",
              "\n",
              "    </div>\n",
              "  </div>\n"
            ],
            "application/vnd.google.colaboratory.intrinsic+json": {
              "type": "dataframe",
              "summary": "{\n  \"name\": \"df\",\n  \"rows\": 8,\n  \"fields\": [\n    {\n      \"column\": \"order_id\",\n      \"properties\": {\n        \"dtype\": \"number\",\n        \"std\": 20608.005969435795,\n        \"min\": 7508.229650559143,\n        \"max\": 74147.0,\n        \"num_unique_values\": 8,\n        \"samples\": [\n          61668.066339548575,\n          61869.0,\n          56045.0\n        ],\n        \"semantic_type\": \"\",\n        \"description\": \"\"\n      }\n    },\n    {\n      \"column\": \"quantity\",\n      \"properties\": {\n        \"dtype\": \"number\",\n        \"std\": 37943.160509739755,\n        \"min\": 1.0,\n        \"max\": 100000.0,\n        \"num_unique_values\": 6,\n        \"samples\": [\n          56006.0,\n          3.3484983751740884,\n          100000.0\n        ],\n        \"semantic_type\": \"\",\n        \"description\": \"\"\n      }\n    },\n    {\n      \"column\": \"product_price\",\n      \"properties\": {\n        \"dtype\": \"number\",\n        \"std\": 80969.15026589678,\n        \"min\": 2.29,\n        \"max\": 235481.0,\n        \"num_unique_values\": 8,\n        \"samples\": [\n          6195.540504594523,\n          475.6,\n          56045.0\n        ],\n        \"semantic_type\": \"\",\n        \"description\": \"\"\n      }\n    }\n  ]\n}"
            }
          },
          "metadata": {},
          "execution_count": 143
        }
      ]
    },
    {
      "cell_type": "code",
      "source": [
        "dfclean = df[(df['quantity'] < 100000) & (df['product_price'] < 2000)]"
      ],
      "metadata": {
        "id": "eCHrHpHRE8DP"
      },
      "execution_count": 144,
      "outputs": []
    },
    {
      "cell_type": "code",
      "source": [
        "dfclean.describe()\n"
      ],
      "metadata": {
        "id": "TCoPYZmAGI4q",
        "outputId": "b353046d-29a6-47b1-da91-3fced56fa5b6",
        "colab": {
          "base_uri": "https://localhost:8080/",
          "height": 300
        }
      },
      "execution_count": 145,
      "outputs": [
        {
          "output_type": "execute_result",
          "data": {
            "text/plain": [
              "           order_id      quantity  product_price\n",
              "count  47010.000000  47010.000000   47010.000000\n",
              "mean   62468.454754      1.616954     329.518517\n",
              "std     6879.615086      9.283286     402.553807\n",
              "min    45080.000000      1.000000       2.290000\n",
              "25%    56595.000000      1.000000       4.990000\n",
              "50%    62479.500000      1.000000      53.990000\n",
              "75%    68368.000000      2.000000     609.630000\n",
              "max    74147.000000   2000.000000    1700.990000"
            ],
            "text/html": [
              "\n",
              "  <div id=\"df-fc1b6f48-9b37-49de-888a-e3c8386d3c40\" class=\"colab-df-container\">\n",
              "    <div>\n",
              "<style scoped>\n",
              "    .dataframe tbody tr th:only-of-type {\n",
              "        vertical-align: middle;\n",
              "    }\n",
              "\n",
              "    .dataframe tbody tr th {\n",
              "        vertical-align: top;\n",
              "    }\n",
              "\n",
              "    .dataframe thead th {\n",
              "        text-align: right;\n",
              "    }\n",
              "</style>\n",
              "<table border=\"1\" class=\"dataframe\">\n",
              "  <thead>\n",
              "    <tr style=\"text-align: right;\">\n",
              "      <th></th>\n",
              "      <th>order_id</th>\n",
              "      <th>quantity</th>\n",
              "      <th>product_price</th>\n",
              "    </tr>\n",
              "  </thead>\n",
              "  <tbody>\n",
              "    <tr>\n",
              "      <th>count</th>\n",
              "      <td>47010.000000</td>\n",
              "      <td>47010.000000</td>\n",
              "      <td>47010.000000</td>\n",
              "    </tr>\n",
              "    <tr>\n",
              "      <th>mean</th>\n",
              "      <td>62468.454754</td>\n",
              "      <td>1.616954</td>\n",
              "      <td>329.518517</td>\n",
              "    </tr>\n",
              "    <tr>\n",
              "      <th>std</th>\n",
              "      <td>6879.615086</td>\n",
              "      <td>9.283286</td>\n",
              "      <td>402.553807</td>\n",
              "    </tr>\n",
              "    <tr>\n",
              "      <th>min</th>\n",
              "      <td>45080.000000</td>\n",
              "      <td>1.000000</td>\n",
              "      <td>2.290000</td>\n",
              "    </tr>\n",
              "    <tr>\n",
              "      <th>25%</th>\n",
              "      <td>56595.000000</td>\n",
              "      <td>1.000000</td>\n",
              "      <td>4.990000</td>\n",
              "    </tr>\n",
              "    <tr>\n",
              "      <th>50%</th>\n",
              "      <td>62479.500000</td>\n",
              "      <td>1.000000</td>\n",
              "      <td>53.990000</td>\n",
              "    </tr>\n",
              "    <tr>\n",
              "      <th>75%</th>\n",
              "      <td>68368.000000</td>\n",
              "      <td>2.000000</td>\n",
              "      <td>609.630000</td>\n",
              "    </tr>\n",
              "    <tr>\n",
              "      <th>max</th>\n",
              "      <td>74147.000000</td>\n",
              "      <td>2000.000000</td>\n",
              "      <td>1700.990000</td>\n",
              "    </tr>\n",
              "  </tbody>\n",
              "</table>\n",
              "</div>\n",
              "    <div class=\"colab-df-buttons\">\n",
              "\n",
              "  <div class=\"colab-df-container\">\n",
              "    <button class=\"colab-df-convert\" onclick=\"convertToInteractive('df-fc1b6f48-9b37-49de-888a-e3c8386d3c40')\"\n",
              "            title=\"Convert this dataframe to an interactive table.\"\n",
              "            style=\"display:none;\">\n",
              "\n",
              "  <svg xmlns=\"http://www.w3.org/2000/svg\" height=\"24px\" viewBox=\"0 -960 960 960\">\n",
              "    <path d=\"M120-120v-720h720v720H120Zm60-500h600v-160H180v160Zm220 220h160v-160H400v160Zm0 220h160v-160H400v160ZM180-400h160v-160H180v160Zm440 0h160v-160H620v160ZM180-180h160v-160H180v160Zm440 0h160v-160H620v160Z\"/>\n",
              "  </svg>\n",
              "    </button>\n",
              "\n",
              "  <style>\n",
              "    .colab-df-container {\n",
              "      display:flex;\n",
              "      gap: 12px;\n",
              "    }\n",
              "\n",
              "    .colab-df-convert {\n",
              "      background-color: #E8F0FE;\n",
              "      border: none;\n",
              "      border-radius: 50%;\n",
              "      cursor: pointer;\n",
              "      display: none;\n",
              "      fill: #1967D2;\n",
              "      height: 32px;\n",
              "      padding: 0 0 0 0;\n",
              "      width: 32px;\n",
              "    }\n",
              "\n",
              "    .colab-df-convert:hover {\n",
              "      background-color: #E2EBFA;\n",
              "      box-shadow: 0px 1px 2px rgba(60, 64, 67, 0.3), 0px 1px 3px 1px rgba(60, 64, 67, 0.15);\n",
              "      fill: #174EA6;\n",
              "    }\n",
              "\n",
              "    .colab-df-buttons div {\n",
              "      margin-bottom: 4px;\n",
              "    }\n",
              "\n",
              "    [theme=dark] .colab-df-convert {\n",
              "      background-color: #3B4455;\n",
              "      fill: #D2E3FC;\n",
              "    }\n",
              "\n",
              "    [theme=dark] .colab-df-convert:hover {\n",
              "      background-color: #434B5C;\n",
              "      box-shadow: 0px 1px 3px 1px rgba(0, 0, 0, 0.15);\n",
              "      filter: drop-shadow(0px 1px 2px rgba(0, 0, 0, 0.3));\n",
              "      fill: #FFFFFF;\n",
              "    }\n",
              "  </style>\n",
              "\n",
              "    <script>\n",
              "      const buttonEl =\n",
              "        document.querySelector('#df-fc1b6f48-9b37-49de-888a-e3c8386d3c40 button.colab-df-convert');\n",
              "      buttonEl.style.display =\n",
              "        google.colab.kernel.accessAllowed ? 'block' : 'none';\n",
              "\n",
              "      async function convertToInteractive(key) {\n",
              "        const element = document.querySelector('#df-fc1b6f48-9b37-49de-888a-e3c8386d3c40');\n",
              "        const dataTable =\n",
              "          await google.colab.kernel.invokeFunction('convertToInteractive',\n",
              "                                                    [key], {});\n",
              "        if (!dataTable) return;\n",
              "\n",
              "        const docLinkHtml = 'Like what you see? Visit the ' +\n",
              "          '<a target=\"_blank\" href=https://colab.research.google.com/notebooks/data_table.ipynb>data table notebook</a>'\n",
              "          + ' to learn more about interactive tables.';\n",
              "        element.innerHTML = '';\n",
              "        dataTable['output_type'] = 'display_data';\n",
              "        await google.colab.output.renderOutput(dataTable, element);\n",
              "        const docLink = document.createElement('div');\n",
              "        docLink.innerHTML = docLinkHtml;\n",
              "        element.appendChild(docLink);\n",
              "      }\n",
              "    </script>\n",
              "  </div>\n",
              "\n",
              "\n",
              "<div id=\"df-b774e5b7-f4ae-4b26-b9c4-9954d2415cad\">\n",
              "  <button class=\"colab-df-quickchart\" onclick=\"quickchart('df-b774e5b7-f4ae-4b26-b9c4-9954d2415cad')\"\n",
              "            title=\"Suggest charts\"\n",
              "            style=\"display:none;\">\n",
              "\n",
              "<svg xmlns=\"http://www.w3.org/2000/svg\" height=\"24px\"viewBox=\"0 0 24 24\"\n",
              "     width=\"24px\">\n",
              "    <g>\n",
              "        <path d=\"M19 3H5c-1.1 0-2 .9-2 2v14c0 1.1.9 2 2 2h14c1.1 0 2-.9 2-2V5c0-1.1-.9-2-2-2zM9 17H7v-7h2v7zm4 0h-2V7h2v10zm4 0h-2v-4h2v4z\"/>\n",
              "    </g>\n",
              "</svg>\n",
              "  </button>\n",
              "\n",
              "<style>\n",
              "  .colab-df-quickchart {\n",
              "      --bg-color: #E8F0FE;\n",
              "      --fill-color: #1967D2;\n",
              "      --hover-bg-color: #E2EBFA;\n",
              "      --hover-fill-color: #174EA6;\n",
              "      --disabled-fill-color: #AAA;\n",
              "      --disabled-bg-color: #DDD;\n",
              "  }\n",
              "\n",
              "  [theme=dark] .colab-df-quickchart {\n",
              "      --bg-color: #3B4455;\n",
              "      --fill-color: #D2E3FC;\n",
              "      --hover-bg-color: #434B5C;\n",
              "      --hover-fill-color: #FFFFFF;\n",
              "      --disabled-bg-color: #3B4455;\n",
              "      --disabled-fill-color: #666;\n",
              "  }\n",
              "\n",
              "  .colab-df-quickchart {\n",
              "    background-color: var(--bg-color);\n",
              "    border: none;\n",
              "    border-radius: 50%;\n",
              "    cursor: pointer;\n",
              "    display: none;\n",
              "    fill: var(--fill-color);\n",
              "    height: 32px;\n",
              "    padding: 0;\n",
              "    width: 32px;\n",
              "  }\n",
              "\n",
              "  .colab-df-quickchart:hover {\n",
              "    background-color: var(--hover-bg-color);\n",
              "    box-shadow: 0 1px 2px rgba(60, 64, 67, 0.3), 0 1px 3px 1px rgba(60, 64, 67, 0.15);\n",
              "    fill: var(--button-hover-fill-color);\n",
              "  }\n",
              "\n",
              "  .colab-df-quickchart-complete:disabled,\n",
              "  .colab-df-quickchart-complete:disabled:hover {\n",
              "    background-color: var(--disabled-bg-color);\n",
              "    fill: var(--disabled-fill-color);\n",
              "    box-shadow: none;\n",
              "  }\n",
              "\n",
              "  .colab-df-spinner {\n",
              "    border: 2px solid var(--fill-color);\n",
              "    border-color: transparent;\n",
              "    border-bottom-color: var(--fill-color);\n",
              "    animation:\n",
              "      spin 1s steps(1) infinite;\n",
              "  }\n",
              "\n",
              "  @keyframes spin {\n",
              "    0% {\n",
              "      border-color: transparent;\n",
              "      border-bottom-color: var(--fill-color);\n",
              "      border-left-color: var(--fill-color);\n",
              "    }\n",
              "    20% {\n",
              "      border-color: transparent;\n",
              "      border-left-color: var(--fill-color);\n",
              "      border-top-color: var(--fill-color);\n",
              "    }\n",
              "    30% {\n",
              "      border-color: transparent;\n",
              "      border-left-color: var(--fill-color);\n",
              "      border-top-color: var(--fill-color);\n",
              "      border-right-color: var(--fill-color);\n",
              "    }\n",
              "    40% {\n",
              "      border-color: transparent;\n",
              "      border-right-color: var(--fill-color);\n",
              "      border-top-color: var(--fill-color);\n",
              "    }\n",
              "    60% {\n",
              "      border-color: transparent;\n",
              "      border-right-color: var(--fill-color);\n",
              "    }\n",
              "    80% {\n",
              "      border-color: transparent;\n",
              "      border-right-color: var(--fill-color);\n",
              "      border-bottom-color: var(--fill-color);\n",
              "    }\n",
              "    90% {\n",
              "      border-color: transparent;\n",
              "      border-bottom-color: var(--fill-color);\n",
              "    }\n",
              "  }\n",
              "</style>\n",
              "\n",
              "  <script>\n",
              "    async function quickchart(key) {\n",
              "      const quickchartButtonEl =\n",
              "        document.querySelector('#' + key + ' button');\n",
              "      quickchartButtonEl.disabled = true;  // To prevent multiple clicks.\n",
              "      quickchartButtonEl.classList.add('colab-df-spinner');\n",
              "      try {\n",
              "        const charts = await google.colab.kernel.invokeFunction(\n",
              "            'suggestCharts', [key], {});\n",
              "      } catch (error) {\n",
              "        console.error('Error during call to suggestCharts:', error);\n",
              "      }\n",
              "      quickchartButtonEl.classList.remove('colab-df-spinner');\n",
              "      quickchartButtonEl.classList.add('colab-df-quickchart-complete');\n",
              "    }\n",
              "    (() => {\n",
              "      let quickchartButtonEl =\n",
              "        document.querySelector('#df-b774e5b7-f4ae-4b26-b9c4-9954d2415cad button');\n",
              "      quickchartButtonEl.style.display =\n",
              "        google.colab.kernel.accessAllowed ? 'block' : 'none';\n",
              "    })();\n",
              "  </script>\n",
              "</div>\n",
              "\n",
              "    </div>\n",
              "  </div>\n"
            ],
            "application/vnd.google.colaboratory.intrinsic+json": {
              "type": "dataframe",
              "summary": "{\n  \"name\": \"dfclean\",\n  \"rows\": 8,\n  \"fields\": [\n    {\n      \"column\": \"order_id\",\n      \"properties\": {\n        \"dtype\": \"number\",\n        \"std\": 21048.874471953266,\n        \"min\": 6879.61508595253,\n        \"max\": 74147.0,\n        \"num_unique_values\": 8,\n        \"samples\": [\n          62468.4547543076,\n          62479.5,\n          47010.0\n        ],\n        \"semantic_type\": \"\",\n        \"description\": \"\"\n      }\n    },\n    {\n      \"column\": \"quantity\",\n      \"properties\": {\n        \"dtype\": \"number\",\n        \"std\": 16533.506386389112,\n        \"min\": 1.0,\n        \"max\": 47010.0,\n        \"num_unique_values\": 6,\n        \"samples\": [\n          47010.0,\n          1.6169538396085938,\n          2000.0\n        ],\n        \"semantic_type\": \"\",\n        \"description\": \"\"\n      }\n    },\n    {\n      \"column\": \"product_price\",\n      \"properties\": {\n        \"dtype\": \"number\",\n        \"std\": 16473.149323000413,\n        \"min\": 2.29,\n        \"max\": 47010.0,\n        \"num_unique_values\": 8,\n        \"samples\": [\n          329.5185171240162,\n          53.99,\n          47010.0\n        ],\n        \"semantic_type\": \"\",\n        \"description\": \"\"\n      }\n    }\n  ]\n}"
            }
          },
          "metadata": {},
          "execution_count": 145
        }
      ]
    },
    {
      "cell_type": "code",
      "execution_count": 81,
      "metadata": {
        "vscode": {
          "languageId": "plaintext"
        },
        "id": "zJ2zOouoEZGo"
      },
      "outputs": [],
      "source": [
        "#impute values"
      ]
    },
    {
      "cell_type": "code",
      "source": [
        "dfclean['quantity'] = df['quantity'].fillna(df['quantity'].median())"
      ],
      "metadata": {
        "id": "6mAortQXnYbw",
        "outputId": "2c4377e5-c10e-4287-e971-418681d5f84c",
        "colab": {
          "base_uri": "https://localhost:8080/"
        }
      },
      "execution_count": 171,
      "outputs": [
        {
          "output_type": "stream",
          "name": "stderr",
          "text": [
            "<ipython-input-171-8e6ceb15d2e3>:1: SettingWithCopyWarning: \n",
            "A value is trying to be set on a copy of a slice from a DataFrame.\n",
            "Try using .loc[row_indexer,col_indexer] = value instead\n",
            "\n",
            "See the caveats in the documentation: https://pandas.pydata.org/pandas-docs/stable/user_guide/indexing.html#returning-a-view-versus-a-copy\n",
            "  dfclean['quantity'] = df['quantity'].fillna(df['quantity'].median())\n"
          ]
        }
      ]
    },
    {
      "cell_type": "code",
      "source": [
        "dfclean = df.dropna()\n",
        "\n",
        "dfclean['total_amount'] = (df['product_price']*df['quantity'])\n",
        "\n",
        "dfclean.head()"
      ],
      "metadata": {
        "id": "zWdG5Sawzmom",
        "outputId": "f45898dd-4673-4fd2-f29d-4c7d55ed467f",
        "colab": {
          "base_uri": "https://localhost:8080/",
          "height": 397
        }
      },
      "execution_count": 180,
      "outputs": [
        {
          "output_type": "stream",
          "name": "stderr",
          "text": [
            "<ipython-input-180-0961080b8133>:3: SettingWithCopyWarning: \n",
            "A value is trying to be set on a copy of a slice from a DataFrame.\n",
            "Try using .loc[row_indexer,col_indexer] = value instead\n",
            "\n",
            "See the caveats in the documentation: https://pandas.pydata.org/pandas-docs/stable/user_guide/indexing.html#returning-a-view-versus-a-copy\n",
            "  dfclean['total_amount'] = (df['product_price']*df['quantity'])\n"
          ]
        },
        {
          "output_type": "execute_result",
          "data": {
            "text/plain": [
              "   order_id order_date order_year_month  customer_name               city  \\\n",
              "0     51188 2021-07-01       2021-07-01  Audrey Blanco  North Cherylmouth   \n",
              "1     51187 2021-07-01       2021-07-01    Isaac Allen         Traceyland   \n",
              "2     51199 2021-07-02       2021-07-02     Ian Morgan          Dylanberg   \n",
              "3     51241 2021-07-04       2021-07-04     Alexa Bell     Lake Tracytown   \n",
              "4     51297 2021-07-08       2021-07-08     Casey Diaz        Byrdchester   \n",
              "\n",
              "              state_province  quantity  \\\n",
              "0  NEW HAMPSHIRE                   3.0   \n",
              "1  WEST VIRGINIA                   4.0   \n",
              "2  SOUTH DAKOTA                    5.0   \n",
              "3  WISCONSIN                       1.0   \n",
              "4  MISSISSIPPI                     1.0   \n",
              "\n",
              "                                        product_name product_line  \\\n",
              "0  Apple iPhone XR (Yellow, 256 GB) (Includes Ear...       Mobile   \n",
              "1  Apple iPhone XR (Yellow, 256 GB) (Includes Ear...       Mobile   \n",
              "2  Apple iPhone XR (Yellow, 256 GB) (Includes Ear...       Mobile   \n",
              "3  Apple iPhone XR (Yellow, 256 GB) (Includes Ear...       Mobile   \n",
              "4  Apple iPhone XR (Yellow, 256 GB) (Includes Ear...       Mobile   \n",
              "\n",
              "   product_price  total_amount  \n",
              "0         649.99       1949.97  \n",
              "1         649.99       2599.96  \n",
              "2         649.99       3249.95  \n",
              "3         649.99        649.99  \n",
              "4         649.99        649.99  "
            ],
            "text/html": [
              "\n",
              "  <div id=\"df-cae4318b-aa4b-4678-8a6c-dbab63fe615b\" class=\"colab-df-container\">\n",
              "    <div>\n",
              "<style scoped>\n",
              "    .dataframe tbody tr th:only-of-type {\n",
              "        vertical-align: middle;\n",
              "    }\n",
              "\n",
              "    .dataframe tbody tr th {\n",
              "        vertical-align: top;\n",
              "    }\n",
              "\n",
              "    .dataframe thead th {\n",
              "        text-align: right;\n",
              "    }\n",
              "</style>\n",
              "<table border=\"1\" class=\"dataframe\">\n",
              "  <thead>\n",
              "    <tr style=\"text-align: right;\">\n",
              "      <th></th>\n",
              "      <th>order_id</th>\n",
              "      <th>order_date</th>\n",
              "      <th>order_year_month</th>\n",
              "      <th>customer_name</th>\n",
              "      <th>city</th>\n",
              "      <th>state_province</th>\n",
              "      <th>quantity</th>\n",
              "      <th>product_name</th>\n",
              "      <th>product_line</th>\n",
              "      <th>product_price</th>\n",
              "      <th>total_amount</th>\n",
              "    </tr>\n",
              "  </thead>\n",
              "  <tbody>\n",
              "    <tr>\n",
              "      <th>0</th>\n",
              "      <td>51188</td>\n",
              "      <td>2021-07-01</td>\n",
              "      <td>2021-07-01</td>\n",
              "      <td>Audrey Blanco</td>\n",
              "      <td>North Cherylmouth</td>\n",
              "      <td>NEW HAMPSHIRE</td>\n",
              "      <td>3.0</td>\n",
              "      <td>Apple iPhone XR (Yellow, 256 GB) (Includes Ear...</td>\n",
              "      <td>Mobile</td>\n",
              "      <td>649.99</td>\n",
              "      <td>1949.97</td>\n",
              "    </tr>\n",
              "    <tr>\n",
              "      <th>1</th>\n",
              "      <td>51187</td>\n",
              "      <td>2021-07-01</td>\n",
              "      <td>2021-07-01</td>\n",
              "      <td>Isaac Allen</td>\n",
              "      <td>Traceyland</td>\n",
              "      <td>WEST VIRGINIA</td>\n",
              "      <td>4.0</td>\n",
              "      <td>Apple iPhone XR (Yellow, 256 GB) (Includes Ear...</td>\n",
              "      <td>Mobile</td>\n",
              "      <td>649.99</td>\n",
              "      <td>2599.96</td>\n",
              "    </tr>\n",
              "    <tr>\n",
              "      <th>2</th>\n",
              "      <td>51199</td>\n",
              "      <td>2021-07-02</td>\n",
              "      <td>2021-07-02</td>\n",
              "      <td>Ian Morgan</td>\n",
              "      <td>Dylanberg</td>\n",
              "      <td>SOUTH DAKOTA</td>\n",
              "      <td>5.0</td>\n",
              "      <td>Apple iPhone XR (Yellow, 256 GB) (Includes Ear...</td>\n",
              "      <td>Mobile</td>\n",
              "      <td>649.99</td>\n",
              "      <td>3249.95</td>\n",
              "    </tr>\n",
              "    <tr>\n",
              "      <th>3</th>\n",
              "      <td>51241</td>\n",
              "      <td>2021-07-04</td>\n",
              "      <td>2021-07-04</td>\n",
              "      <td>Alexa Bell</td>\n",
              "      <td>Lake Tracytown</td>\n",
              "      <td>WISCONSIN</td>\n",
              "      <td>1.0</td>\n",
              "      <td>Apple iPhone XR (Yellow, 256 GB) (Includes Ear...</td>\n",
              "      <td>Mobile</td>\n",
              "      <td>649.99</td>\n",
              "      <td>649.99</td>\n",
              "    </tr>\n",
              "    <tr>\n",
              "      <th>4</th>\n",
              "      <td>51297</td>\n",
              "      <td>2021-07-08</td>\n",
              "      <td>2021-07-08</td>\n",
              "      <td>Casey Diaz</td>\n",
              "      <td>Byrdchester</td>\n",
              "      <td>MISSISSIPPI</td>\n",
              "      <td>1.0</td>\n",
              "      <td>Apple iPhone XR (Yellow, 256 GB) (Includes Ear...</td>\n",
              "      <td>Mobile</td>\n",
              "      <td>649.99</td>\n",
              "      <td>649.99</td>\n",
              "    </tr>\n",
              "  </tbody>\n",
              "</table>\n",
              "</div>\n",
              "    <div class=\"colab-df-buttons\">\n",
              "\n",
              "  <div class=\"colab-df-container\">\n",
              "    <button class=\"colab-df-convert\" onclick=\"convertToInteractive('df-cae4318b-aa4b-4678-8a6c-dbab63fe615b')\"\n",
              "            title=\"Convert this dataframe to an interactive table.\"\n",
              "            style=\"display:none;\">\n",
              "\n",
              "  <svg xmlns=\"http://www.w3.org/2000/svg\" height=\"24px\" viewBox=\"0 -960 960 960\">\n",
              "    <path d=\"M120-120v-720h720v720H120Zm60-500h600v-160H180v160Zm220 220h160v-160H400v160Zm0 220h160v-160H400v160ZM180-400h160v-160H180v160Zm440 0h160v-160H620v160ZM180-180h160v-160H180v160Zm440 0h160v-160H620v160Z\"/>\n",
              "  </svg>\n",
              "    </button>\n",
              "\n",
              "  <style>\n",
              "    .colab-df-container {\n",
              "      display:flex;\n",
              "      gap: 12px;\n",
              "    }\n",
              "\n",
              "    .colab-df-convert {\n",
              "      background-color: #E8F0FE;\n",
              "      border: none;\n",
              "      border-radius: 50%;\n",
              "      cursor: pointer;\n",
              "      display: none;\n",
              "      fill: #1967D2;\n",
              "      height: 32px;\n",
              "      padding: 0 0 0 0;\n",
              "      width: 32px;\n",
              "    }\n",
              "\n",
              "    .colab-df-convert:hover {\n",
              "      background-color: #E2EBFA;\n",
              "      box-shadow: 0px 1px 2px rgba(60, 64, 67, 0.3), 0px 1px 3px 1px rgba(60, 64, 67, 0.15);\n",
              "      fill: #174EA6;\n",
              "    }\n",
              "\n",
              "    .colab-df-buttons div {\n",
              "      margin-bottom: 4px;\n",
              "    }\n",
              "\n",
              "    [theme=dark] .colab-df-convert {\n",
              "      background-color: #3B4455;\n",
              "      fill: #D2E3FC;\n",
              "    }\n",
              "\n",
              "    [theme=dark] .colab-df-convert:hover {\n",
              "      background-color: #434B5C;\n",
              "      box-shadow: 0px 1px 3px 1px rgba(0, 0, 0, 0.15);\n",
              "      filter: drop-shadow(0px 1px 2px rgba(0, 0, 0, 0.3));\n",
              "      fill: #FFFFFF;\n",
              "    }\n",
              "  </style>\n",
              "\n",
              "    <script>\n",
              "      const buttonEl =\n",
              "        document.querySelector('#df-cae4318b-aa4b-4678-8a6c-dbab63fe615b button.colab-df-convert');\n",
              "      buttonEl.style.display =\n",
              "        google.colab.kernel.accessAllowed ? 'block' : 'none';\n",
              "\n",
              "      async function convertToInteractive(key) {\n",
              "        const element = document.querySelector('#df-cae4318b-aa4b-4678-8a6c-dbab63fe615b');\n",
              "        const dataTable =\n",
              "          await google.colab.kernel.invokeFunction('convertToInteractive',\n",
              "                                                    [key], {});\n",
              "        if (!dataTable) return;\n",
              "\n",
              "        const docLinkHtml = 'Like what you see? Visit the ' +\n",
              "          '<a target=\"_blank\" href=https://colab.research.google.com/notebooks/data_table.ipynb>data table notebook</a>'\n",
              "          + ' to learn more about interactive tables.';\n",
              "        element.innerHTML = '';\n",
              "        dataTable['output_type'] = 'display_data';\n",
              "        await google.colab.output.renderOutput(dataTable, element);\n",
              "        const docLink = document.createElement('div');\n",
              "        docLink.innerHTML = docLinkHtml;\n",
              "        element.appendChild(docLink);\n",
              "      }\n",
              "    </script>\n",
              "  </div>\n",
              "\n",
              "\n",
              "<div id=\"df-74dc8666-37cc-4ead-9091-a7130cf14a02\">\n",
              "  <button class=\"colab-df-quickchart\" onclick=\"quickchart('df-74dc8666-37cc-4ead-9091-a7130cf14a02')\"\n",
              "            title=\"Suggest charts\"\n",
              "            style=\"display:none;\">\n",
              "\n",
              "<svg xmlns=\"http://www.w3.org/2000/svg\" height=\"24px\"viewBox=\"0 0 24 24\"\n",
              "     width=\"24px\">\n",
              "    <g>\n",
              "        <path d=\"M19 3H5c-1.1 0-2 .9-2 2v14c0 1.1.9 2 2 2h14c1.1 0 2-.9 2-2V5c0-1.1-.9-2-2-2zM9 17H7v-7h2v7zm4 0h-2V7h2v10zm4 0h-2v-4h2v4z\"/>\n",
              "    </g>\n",
              "</svg>\n",
              "  </button>\n",
              "\n",
              "<style>\n",
              "  .colab-df-quickchart {\n",
              "      --bg-color: #E8F0FE;\n",
              "      --fill-color: #1967D2;\n",
              "      --hover-bg-color: #E2EBFA;\n",
              "      --hover-fill-color: #174EA6;\n",
              "      --disabled-fill-color: #AAA;\n",
              "      --disabled-bg-color: #DDD;\n",
              "  }\n",
              "\n",
              "  [theme=dark] .colab-df-quickchart {\n",
              "      --bg-color: #3B4455;\n",
              "      --fill-color: #D2E3FC;\n",
              "      --hover-bg-color: #434B5C;\n",
              "      --hover-fill-color: #FFFFFF;\n",
              "      --disabled-bg-color: #3B4455;\n",
              "      --disabled-fill-color: #666;\n",
              "  }\n",
              "\n",
              "  .colab-df-quickchart {\n",
              "    background-color: var(--bg-color);\n",
              "    border: none;\n",
              "    border-radius: 50%;\n",
              "    cursor: pointer;\n",
              "    display: none;\n",
              "    fill: var(--fill-color);\n",
              "    height: 32px;\n",
              "    padding: 0;\n",
              "    width: 32px;\n",
              "  }\n",
              "\n",
              "  .colab-df-quickchart:hover {\n",
              "    background-color: var(--hover-bg-color);\n",
              "    box-shadow: 0 1px 2px rgba(60, 64, 67, 0.3), 0 1px 3px 1px rgba(60, 64, 67, 0.15);\n",
              "    fill: var(--button-hover-fill-color);\n",
              "  }\n",
              "\n",
              "  .colab-df-quickchart-complete:disabled,\n",
              "  .colab-df-quickchart-complete:disabled:hover {\n",
              "    background-color: var(--disabled-bg-color);\n",
              "    fill: var(--disabled-fill-color);\n",
              "    box-shadow: none;\n",
              "  }\n",
              "\n",
              "  .colab-df-spinner {\n",
              "    border: 2px solid var(--fill-color);\n",
              "    border-color: transparent;\n",
              "    border-bottom-color: var(--fill-color);\n",
              "    animation:\n",
              "      spin 1s steps(1) infinite;\n",
              "  }\n",
              "\n",
              "  @keyframes spin {\n",
              "    0% {\n",
              "      border-color: transparent;\n",
              "      border-bottom-color: var(--fill-color);\n",
              "      border-left-color: var(--fill-color);\n",
              "    }\n",
              "    20% {\n",
              "      border-color: transparent;\n",
              "      border-left-color: var(--fill-color);\n",
              "      border-top-color: var(--fill-color);\n",
              "    }\n",
              "    30% {\n",
              "      border-color: transparent;\n",
              "      border-left-color: var(--fill-color);\n",
              "      border-top-color: var(--fill-color);\n",
              "      border-right-color: var(--fill-color);\n",
              "    }\n",
              "    40% {\n",
              "      border-color: transparent;\n",
              "      border-right-color: var(--fill-color);\n",
              "      border-top-color: var(--fill-color);\n",
              "    }\n",
              "    60% {\n",
              "      border-color: transparent;\n",
              "      border-right-color: var(--fill-color);\n",
              "    }\n",
              "    80% {\n",
              "      border-color: transparent;\n",
              "      border-right-color: var(--fill-color);\n",
              "      border-bottom-color: var(--fill-color);\n",
              "    }\n",
              "    90% {\n",
              "      border-color: transparent;\n",
              "      border-bottom-color: var(--fill-color);\n",
              "    }\n",
              "  }\n",
              "</style>\n",
              "\n",
              "  <script>\n",
              "    async function quickchart(key) {\n",
              "      const quickchartButtonEl =\n",
              "        document.querySelector('#' + key + ' button');\n",
              "      quickchartButtonEl.disabled = true;  // To prevent multiple clicks.\n",
              "      quickchartButtonEl.classList.add('colab-df-spinner');\n",
              "      try {\n",
              "        const charts = await google.colab.kernel.invokeFunction(\n",
              "            'suggestCharts', [key], {});\n",
              "      } catch (error) {\n",
              "        console.error('Error during call to suggestCharts:', error);\n",
              "      }\n",
              "      quickchartButtonEl.classList.remove('colab-df-spinner');\n",
              "      quickchartButtonEl.classList.add('colab-df-quickchart-complete');\n",
              "    }\n",
              "    (() => {\n",
              "      let quickchartButtonEl =\n",
              "        document.querySelector('#df-74dc8666-37cc-4ead-9091-a7130cf14a02 button');\n",
              "      quickchartButtonEl.style.display =\n",
              "        google.colab.kernel.accessAllowed ? 'block' : 'none';\n",
              "    })();\n",
              "  </script>\n",
              "</div>\n",
              "\n",
              "    </div>\n",
              "  </div>\n"
            ],
            "application/vnd.google.colaboratory.intrinsic+json": {
              "type": "dataframe",
              "variable_name": "dfclean",
              "summary": "{\n  \"name\": \"dfclean\",\n  \"rows\": 55445,\n  \"fields\": [\n    {\n      \"column\": \"order_id\",\n      \"properties\": {\n        \"dtype\": \"number\",\n        \"std\": 7502,\n        \"min\": 45079,\n        \"max\": 74147,\n        \"num_unique_values\": 24893,\n        \"samples\": [\n          56015,\n          45995,\n          61346\n        ],\n        \"semantic_type\": \"\",\n        \"description\": \"\"\n      }\n    },\n    {\n      \"column\": \"order_date\",\n      \"properties\": {\n        \"dtype\": \"date\",\n        \"min\": \"1922-06-28 00:00:00\",\n        \"max\": \"2029-08-02 00:00:00\",\n        \"num_unique_values\": 946,\n        \"samples\": [\n          \"2022-02-06 00:00:00\",\n          \"2021-08-26 00:00:00\",\n          \"2020-06-06 00:00:00\"\n        ],\n        \"semantic_type\": \"\",\n        \"description\": \"\"\n      }\n    },\n    {\n      \"column\": \"order_year_month\",\n      \"properties\": {\n        \"dtype\": \"date\",\n        \"min\": \"1922-06-28 00:00:00\",\n        \"max\": \"2029-08-02 00:00:00\",\n        \"num_unique_values\": 946,\n        \"samples\": [\n          \"2022-02-06 00:00:00\",\n          \"2021-08-26 00:00:00\",\n          \"2020-06-06 00:00:00\"\n        ],\n        \"semantic_type\": \"\",\n        \"description\": \"\"\n      }\n    },\n    {\n      \"column\": \"customer_name\",\n      \"properties\": {\n        \"dtype\": \"category\",\n        \"num_unique_values\": 17145,\n        \"samples\": [\n          \"Ian Alexander\",\n          \"Gabriella Adams\",\n          \"Vincent Li\"\n        ],\n        \"semantic_type\": \"\",\n        \"description\": \"\"\n      }\n    },\n    {\n      \"column\": \"city\",\n      \"properties\": {\n        \"dtype\": \"category\",\n        \"num_unique_values\": 11906,\n        \"samples\": [\n          \"Jamieville\",\n          \"South Micheletown\",\n          \"Vancefort\"\n        ],\n        \"semantic_type\": \"\",\n        \"description\": \"\"\n      }\n    },\n    {\n      \"column\": \"state_province\",\n      \"properties\": {\n        \"dtype\": \"category\",\n        \"num_unique_values\": 54,\n        \"samples\": [\n          \"NEBRASKA                 \",\n          \"NORTH DAKOTA             \",\n          \"NORTH CAROLINA           \"\n        ],\n        \"semantic_type\": \"\",\n        \"description\": \"\"\n      }\n    },\n    {\n      \"column\": \"quantity\",\n      \"properties\": {\n        \"dtype\": \"number\",\n        \"std\": 424.7793747027831,\n        \"min\": 1.0,\n        \"max\": 100000.0,\n        \"num_unique_values\": 12,\n        \"samples\": [\n          500.0,\n          20.0,\n          3.0\n        ],\n        \"semantic_type\": \"\",\n        \"description\": \"\"\n      }\n    },\n    {\n      \"column\": \"product_name\",\n      \"properties\": {\n        \"dtype\": \"category\",\n        \"num_unique_values\": 131,\n        \"samples\": [\n          \"Short-Sleeve Classic Jersey, XL\",\n          \"Touring-1000 Yellow, 60\",\n          \"Touring-3000 Blue, 44\"\n        ],\n        \"semantic_type\": \"\",\n        \"description\": \"\"\n      }\n    },\n    {\n      \"column\": \"product_line\",\n      \"properties\": {\n        \"dtype\": \"category\",\n        \"num_unique_values\": 9,\n        \"samples\": [\n          \"Laptop\",\n          \"Bikes\",\n          \"Clothing\"\n        ],\n        \"semantic_type\": \"\",\n        \"description\": \"\"\n      }\n    },\n    {\n      \"column\": \"product_price\",\n      \"properties\": {\n        \"dtype\": \"number\",\n        \"std\": 35893.810077093,\n        \"min\": 2.29,\n        \"max\": 235481.0,\n        \"num_unique_values\": 45,\n        \"samples\": [\n          630.09,\n          120.0,\n          8.99\n        ],\n        \"semantic_type\": \"\",\n        \"description\": \"\"\n      }\n    },\n    {\n      \"column\": \"total_amount\",\n      \"properties\": {\n        \"dtype\": \"number\",\n        \"std\": 74998.3866961541,\n        \"min\": 2.29,\n        \"max\": 2024993.9999999998,\n        \"num_unique_values\": 83,\n        \"samples\": [\n          1865.8200000000002,\n          1949.97,\n          21.49\n        ],\n        \"semantic_type\": \"\",\n        \"description\": \"\"\n      }\n    }\n  ]\n}"
            }
          },
          "metadata": {},
          "execution_count": 180
        }
      ]
    },
    {
      "cell_type": "code",
      "source": [
        "years_to_exclude = [2421, 2029, 1922]\n",
        "\n",
        "# Filter out rows with specified years\n",
        "dfclean = df[~df['order_date'].dt.year.isin(years_to_exclude)]"
      ],
      "metadata": {
        "id": "gJ75vyB_0Wbr"
      },
      "execution_count": 178,
      "outputs": []
    },
    {
      "cell_type": "markdown",
      "metadata": {
        "id": "k-BJwDaFEZGo"
      },
      "source": [
        "## Prepare Data - Continued\n",
        "\n",
        "➡️ Assignment Tasks\n",
        "- Create a variable called \"complete_customer_info\".   Use \"1\" for True and \"2\" for False.  All customer fields must be valid and not empty before this variable is True.\n",
        "- Create a bar chart showing the count of customers with complete informaiton versus incomplete information"
      ]
    },
    {
      "cell_type": "code",
      "execution_count": 86,
      "metadata": {
        "vscode": {
          "languageId": "plaintext"
        },
        "id": "1eEPDzEsEZGp"
      },
      "outputs": [],
      "source": [
        "#create variable"
      ]
    },
    {
      "cell_type": "code",
      "source": [
        "dfclean['complete_customer_info'] = df.apply(lambda row: 1 if all(row[['customer_name', 'city', 'state_province']].notna()) and all(row[['customer_name', 'city', 'state_province']] != '') else 2, axis=1)"
      ],
      "metadata": {
        "id": "GG4ILOVvomih",
        "outputId": "d7d7511f-8a1c-4ea8-f9c8-d5c7c6a9a878",
        "colab": {
          "base_uri": "https://localhost:8080/"
        }
      },
      "execution_count": 87,
      "outputs": [
        {
          "output_type": "stream",
          "name": "stderr",
          "text": [
            "<ipython-input-87-f68fe36978d9>:1: SettingWithCopyWarning: \n",
            "A value is trying to be set on a copy of a slice from a DataFrame.\n",
            "Try using .loc[row_indexer,col_indexer] = value instead\n",
            "\n",
            "See the caveats in the documentation: https://pandas.pydata.org/pandas-docs/stable/user_guide/indexing.html#returning-a-view-versus-a-copy\n",
            "  dfclean['complete_customer_info'] = df.apply(lambda row: 1 if all(row[['customer_name', 'city', 'state_province']].notna()) and all(row[['customer_name', 'city', 'state_province']] != '') else 2, axis=1)\n"
          ]
        }
      ]
    },
    {
      "cell_type": "code",
      "source": [
        "complete_count = dfclean['complete_customer_info'].value_counts()"
      ],
      "metadata": {
        "id": "ZgxMMznMqYb0"
      },
      "execution_count": 88,
      "outputs": []
    },
    {
      "cell_type": "code",
      "source": [
        "dfclean.head()"
      ],
      "metadata": {
        "id": "nUnzRLTnqsXr",
        "outputId": "563e57eb-eea2-4dec-83ed-f25035fa6bb7",
        "colab": {
          "base_uri": "https://localhost:8080/",
          "height": 293
        }
      },
      "execution_count": 160,
      "outputs": [
        {
          "output_type": "execute_result",
          "data": {
            "text/plain": [
              "   order_id order_date order_year_month  customer_name               city  \\\n",
              "0     51188 2021-07-01       2021-07-01  Audrey Blanco  North Cherylmouth   \n",
              "1     51187 2021-07-01       2021-07-01    Isaac Allen         Traceyland   \n",
              "2     51199 2021-07-02       2021-07-02     Ian Morgan          Dylanberg   \n",
              "3     51241 2021-07-04       2021-07-04     Alexa Bell     Lake Tracytown   \n",
              "4     51297 2021-07-08       2021-07-08     Casey Diaz        Byrdchester   \n",
              "\n",
              "              state_province  quantity  \\\n",
              "0  NEW HAMPSHIRE                   3.0   \n",
              "1  WEST VIRGINIA                   4.0   \n",
              "2  SOUTH DAKOTA                    5.0   \n",
              "3  WISCONSIN                       1.0   \n",
              "4  MISSISSIPPI                     1.0   \n",
              "\n",
              "                                        product_name product_line  \\\n",
              "0  Apple iPhone XR (Yellow, 256 GB) (Includes Ear...       Mobile   \n",
              "1  Apple iPhone XR (Yellow, 256 GB) (Includes Ear...       Mobile   \n",
              "2  Apple iPhone XR (Yellow, 256 GB) (Includes Ear...       Mobile   \n",
              "3  Apple iPhone XR (Yellow, 256 GB) (Includes Ear...       Mobile   \n",
              "4  Apple iPhone XR (Yellow, 256 GB) (Includes Ear...       Mobile   \n",
              "\n",
              "   product_price  total_amount  \n",
              "0         649.99       1949.97  \n",
              "1         649.99       2599.96  \n",
              "2         649.99       3249.95  \n",
              "3         649.99        649.99  \n",
              "4         649.99        649.99  "
            ],
            "text/html": [
              "\n",
              "  <div id=\"df-cff95b2c-802d-4ada-b45c-785204fd6778\" class=\"colab-df-container\">\n",
              "    <div>\n",
              "<style scoped>\n",
              "    .dataframe tbody tr th:only-of-type {\n",
              "        vertical-align: middle;\n",
              "    }\n",
              "\n",
              "    .dataframe tbody tr th {\n",
              "        vertical-align: top;\n",
              "    }\n",
              "\n",
              "    .dataframe thead th {\n",
              "        text-align: right;\n",
              "    }\n",
              "</style>\n",
              "<table border=\"1\" class=\"dataframe\">\n",
              "  <thead>\n",
              "    <tr style=\"text-align: right;\">\n",
              "      <th></th>\n",
              "      <th>order_id</th>\n",
              "      <th>order_date</th>\n",
              "      <th>order_year_month</th>\n",
              "      <th>customer_name</th>\n",
              "      <th>city</th>\n",
              "      <th>state_province</th>\n",
              "      <th>quantity</th>\n",
              "      <th>product_name</th>\n",
              "      <th>product_line</th>\n",
              "      <th>product_price</th>\n",
              "      <th>total_amount</th>\n",
              "    </tr>\n",
              "  </thead>\n",
              "  <tbody>\n",
              "    <tr>\n",
              "      <th>0</th>\n",
              "      <td>51188</td>\n",
              "      <td>2021-07-01</td>\n",
              "      <td>2021-07-01</td>\n",
              "      <td>Audrey Blanco</td>\n",
              "      <td>North Cherylmouth</td>\n",
              "      <td>NEW HAMPSHIRE</td>\n",
              "      <td>3.0</td>\n",
              "      <td>Apple iPhone XR (Yellow, 256 GB) (Includes Ear...</td>\n",
              "      <td>Mobile</td>\n",
              "      <td>649.99</td>\n",
              "      <td>1949.97</td>\n",
              "    </tr>\n",
              "    <tr>\n",
              "      <th>1</th>\n",
              "      <td>51187</td>\n",
              "      <td>2021-07-01</td>\n",
              "      <td>2021-07-01</td>\n",
              "      <td>Isaac Allen</td>\n",
              "      <td>Traceyland</td>\n",
              "      <td>WEST VIRGINIA</td>\n",
              "      <td>4.0</td>\n",
              "      <td>Apple iPhone XR (Yellow, 256 GB) (Includes Ear...</td>\n",
              "      <td>Mobile</td>\n",
              "      <td>649.99</td>\n",
              "      <td>2599.96</td>\n",
              "    </tr>\n",
              "    <tr>\n",
              "      <th>2</th>\n",
              "      <td>51199</td>\n",
              "      <td>2021-07-02</td>\n",
              "      <td>2021-07-02</td>\n",
              "      <td>Ian Morgan</td>\n",
              "      <td>Dylanberg</td>\n",
              "      <td>SOUTH DAKOTA</td>\n",
              "      <td>5.0</td>\n",
              "      <td>Apple iPhone XR (Yellow, 256 GB) (Includes Ear...</td>\n",
              "      <td>Mobile</td>\n",
              "      <td>649.99</td>\n",
              "      <td>3249.95</td>\n",
              "    </tr>\n",
              "    <tr>\n",
              "      <th>3</th>\n",
              "      <td>51241</td>\n",
              "      <td>2021-07-04</td>\n",
              "      <td>2021-07-04</td>\n",
              "      <td>Alexa Bell</td>\n",
              "      <td>Lake Tracytown</td>\n",
              "      <td>WISCONSIN</td>\n",
              "      <td>1.0</td>\n",
              "      <td>Apple iPhone XR (Yellow, 256 GB) (Includes Ear...</td>\n",
              "      <td>Mobile</td>\n",
              "      <td>649.99</td>\n",
              "      <td>649.99</td>\n",
              "    </tr>\n",
              "    <tr>\n",
              "      <th>4</th>\n",
              "      <td>51297</td>\n",
              "      <td>2021-07-08</td>\n",
              "      <td>2021-07-08</td>\n",
              "      <td>Casey Diaz</td>\n",
              "      <td>Byrdchester</td>\n",
              "      <td>MISSISSIPPI</td>\n",
              "      <td>1.0</td>\n",
              "      <td>Apple iPhone XR (Yellow, 256 GB) (Includes Ear...</td>\n",
              "      <td>Mobile</td>\n",
              "      <td>649.99</td>\n",
              "      <td>649.99</td>\n",
              "    </tr>\n",
              "  </tbody>\n",
              "</table>\n",
              "</div>\n",
              "    <div class=\"colab-df-buttons\">\n",
              "\n",
              "  <div class=\"colab-df-container\">\n",
              "    <button class=\"colab-df-convert\" onclick=\"convertToInteractive('df-cff95b2c-802d-4ada-b45c-785204fd6778')\"\n",
              "            title=\"Convert this dataframe to an interactive table.\"\n",
              "            style=\"display:none;\">\n",
              "\n",
              "  <svg xmlns=\"http://www.w3.org/2000/svg\" height=\"24px\" viewBox=\"0 -960 960 960\">\n",
              "    <path d=\"M120-120v-720h720v720H120Zm60-500h600v-160H180v160Zm220 220h160v-160H400v160Zm0 220h160v-160H400v160ZM180-400h160v-160H180v160Zm440 0h160v-160H620v160ZM180-180h160v-160H180v160Zm440 0h160v-160H620v160Z\"/>\n",
              "  </svg>\n",
              "    </button>\n",
              "\n",
              "  <style>\n",
              "    .colab-df-container {\n",
              "      display:flex;\n",
              "      gap: 12px;\n",
              "    }\n",
              "\n",
              "    .colab-df-convert {\n",
              "      background-color: #E8F0FE;\n",
              "      border: none;\n",
              "      border-radius: 50%;\n",
              "      cursor: pointer;\n",
              "      display: none;\n",
              "      fill: #1967D2;\n",
              "      height: 32px;\n",
              "      padding: 0 0 0 0;\n",
              "      width: 32px;\n",
              "    }\n",
              "\n",
              "    .colab-df-convert:hover {\n",
              "      background-color: #E2EBFA;\n",
              "      box-shadow: 0px 1px 2px rgba(60, 64, 67, 0.3), 0px 1px 3px 1px rgba(60, 64, 67, 0.15);\n",
              "      fill: #174EA6;\n",
              "    }\n",
              "\n",
              "    .colab-df-buttons div {\n",
              "      margin-bottom: 4px;\n",
              "    }\n",
              "\n",
              "    [theme=dark] .colab-df-convert {\n",
              "      background-color: #3B4455;\n",
              "      fill: #D2E3FC;\n",
              "    }\n",
              "\n",
              "    [theme=dark] .colab-df-convert:hover {\n",
              "      background-color: #434B5C;\n",
              "      box-shadow: 0px 1px 3px 1px rgba(0, 0, 0, 0.15);\n",
              "      filter: drop-shadow(0px 1px 2px rgba(0, 0, 0, 0.3));\n",
              "      fill: #FFFFFF;\n",
              "    }\n",
              "  </style>\n",
              "\n",
              "    <script>\n",
              "      const buttonEl =\n",
              "        document.querySelector('#df-cff95b2c-802d-4ada-b45c-785204fd6778 button.colab-df-convert');\n",
              "      buttonEl.style.display =\n",
              "        google.colab.kernel.accessAllowed ? 'block' : 'none';\n",
              "\n",
              "      async function convertToInteractive(key) {\n",
              "        const element = document.querySelector('#df-cff95b2c-802d-4ada-b45c-785204fd6778');\n",
              "        const dataTable =\n",
              "          await google.colab.kernel.invokeFunction('convertToInteractive',\n",
              "                                                    [key], {});\n",
              "        if (!dataTable) return;\n",
              "\n",
              "        const docLinkHtml = 'Like what you see? Visit the ' +\n",
              "          '<a target=\"_blank\" href=https://colab.research.google.com/notebooks/data_table.ipynb>data table notebook</a>'\n",
              "          + ' to learn more about interactive tables.';\n",
              "        element.innerHTML = '';\n",
              "        dataTable['output_type'] = 'display_data';\n",
              "        await google.colab.output.renderOutput(dataTable, element);\n",
              "        const docLink = document.createElement('div');\n",
              "        docLink.innerHTML = docLinkHtml;\n",
              "        element.appendChild(docLink);\n",
              "      }\n",
              "    </script>\n",
              "  </div>\n",
              "\n",
              "\n",
              "<div id=\"df-65edc8ff-68ed-462e-9c53-d32b8d5fe628\">\n",
              "  <button class=\"colab-df-quickchart\" onclick=\"quickchart('df-65edc8ff-68ed-462e-9c53-d32b8d5fe628')\"\n",
              "            title=\"Suggest charts\"\n",
              "            style=\"display:none;\">\n",
              "\n",
              "<svg xmlns=\"http://www.w3.org/2000/svg\" height=\"24px\"viewBox=\"0 0 24 24\"\n",
              "     width=\"24px\">\n",
              "    <g>\n",
              "        <path d=\"M19 3H5c-1.1 0-2 .9-2 2v14c0 1.1.9 2 2 2h14c1.1 0 2-.9 2-2V5c0-1.1-.9-2-2-2zM9 17H7v-7h2v7zm4 0h-2V7h2v10zm4 0h-2v-4h2v4z\"/>\n",
              "    </g>\n",
              "</svg>\n",
              "  </button>\n",
              "\n",
              "<style>\n",
              "  .colab-df-quickchart {\n",
              "      --bg-color: #E8F0FE;\n",
              "      --fill-color: #1967D2;\n",
              "      --hover-bg-color: #E2EBFA;\n",
              "      --hover-fill-color: #174EA6;\n",
              "      --disabled-fill-color: #AAA;\n",
              "      --disabled-bg-color: #DDD;\n",
              "  }\n",
              "\n",
              "  [theme=dark] .colab-df-quickchart {\n",
              "      --bg-color: #3B4455;\n",
              "      --fill-color: #D2E3FC;\n",
              "      --hover-bg-color: #434B5C;\n",
              "      --hover-fill-color: #FFFFFF;\n",
              "      --disabled-bg-color: #3B4455;\n",
              "      --disabled-fill-color: #666;\n",
              "  }\n",
              "\n",
              "  .colab-df-quickchart {\n",
              "    background-color: var(--bg-color);\n",
              "    border: none;\n",
              "    border-radius: 50%;\n",
              "    cursor: pointer;\n",
              "    display: none;\n",
              "    fill: var(--fill-color);\n",
              "    height: 32px;\n",
              "    padding: 0;\n",
              "    width: 32px;\n",
              "  }\n",
              "\n",
              "  .colab-df-quickchart:hover {\n",
              "    background-color: var(--hover-bg-color);\n",
              "    box-shadow: 0 1px 2px rgba(60, 64, 67, 0.3), 0 1px 3px 1px rgba(60, 64, 67, 0.15);\n",
              "    fill: var(--button-hover-fill-color);\n",
              "  }\n",
              "\n",
              "  .colab-df-quickchart-complete:disabled,\n",
              "  .colab-df-quickchart-complete:disabled:hover {\n",
              "    background-color: var(--disabled-bg-color);\n",
              "    fill: var(--disabled-fill-color);\n",
              "    box-shadow: none;\n",
              "  }\n",
              "\n",
              "  .colab-df-spinner {\n",
              "    border: 2px solid var(--fill-color);\n",
              "    border-color: transparent;\n",
              "    border-bottom-color: var(--fill-color);\n",
              "    animation:\n",
              "      spin 1s steps(1) infinite;\n",
              "  }\n",
              "\n",
              "  @keyframes spin {\n",
              "    0% {\n",
              "      border-color: transparent;\n",
              "      border-bottom-color: var(--fill-color);\n",
              "      border-left-color: var(--fill-color);\n",
              "    }\n",
              "    20% {\n",
              "      border-color: transparent;\n",
              "      border-left-color: var(--fill-color);\n",
              "      border-top-color: var(--fill-color);\n",
              "    }\n",
              "    30% {\n",
              "      border-color: transparent;\n",
              "      border-left-color: var(--fill-color);\n",
              "      border-top-color: var(--fill-color);\n",
              "      border-right-color: var(--fill-color);\n",
              "    }\n",
              "    40% {\n",
              "      border-color: transparent;\n",
              "      border-right-color: var(--fill-color);\n",
              "      border-top-color: var(--fill-color);\n",
              "    }\n",
              "    60% {\n",
              "      border-color: transparent;\n",
              "      border-right-color: var(--fill-color);\n",
              "    }\n",
              "    80% {\n",
              "      border-color: transparent;\n",
              "      border-right-color: var(--fill-color);\n",
              "      border-bottom-color: var(--fill-color);\n",
              "    }\n",
              "    90% {\n",
              "      border-color: transparent;\n",
              "      border-bottom-color: var(--fill-color);\n",
              "    }\n",
              "  }\n",
              "</style>\n",
              "\n",
              "  <script>\n",
              "    async function quickchart(key) {\n",
              "      const quickchartButtonEl =\n",
              "        document.querySelector('#' + key + ' button');\n",
              "      quickchartButtonEl.disabled = true;  // To prevent multiple clicks.\n",
              "      quickchartButtonEl.classList.add('colab-df-spinner');\n",
              "      try {\n",
              "        const charts = await google.colab.kernel.invokeFunction(\n",
              "            'suggestCharts', [key], {});\n",
              "      } catch (error) {\n",
              "        console.error('Error during call to suggestCharts:', error);\n",
              "      }\n",
              "      quickchartButtonEl.classList.remove('colab-df-spinner');\n",
              "      quickchartButtonEl.classList.add('colab-df-quickchart-complete');\n",
              "    }\n",
              "    (() => {\n",
              "      let quickchartButtonEl =\n",
              "        document.querySelector('#df-65edc8ff-68ed-462e-9c53-d32b8d5fe628 button');\n",
              "      quickchartButtonEl.style.display =\n",
              "        google.colab.kernel.accessAllowed ? 'block' : 'none';\n",
              "    })();\n",
              "  </script>\n",
              "</div>\n",
              "\n",
              "    </div>\n",
              "  </div>\n"
            ],
            "application/vnd.google.colaboratory.intrinsic+json": {
              "type": "dataframe",
              "variable_name": "dfclean",
              "summary": "{\n  \"name\": \"dfclean\",\n  \"rows\": 55445,\n  \"fields\": [\n    {\n      \"column\": \"order_id\",\n      \"properties\": {\n        \"dtype\": \"number\",\n        \"std\": 7502,\n        \"min\": 45079,\n        \"max\": 74147,\n        \"num_unique_values\": 24893,\n        \"samples\": [\n          56015,\n          45995,\n          61346\n        ],\n        \"semantic_type\": \"\",\n        \"description\": \"\"\n      }\n    },\n    {\n      \"column\": \"order_date\",\n      \"properties\": {\n        \"dtype\": \"date\",\n        \"min\": \"1922-06-28 00:00:00\",\n        \"max\": \"2029-08-02 00:00:00\",\n        \"num_unique_values\": 946,\n        \"samples\": [\n          \"2022-02-06 00:00:00\",\n          \"2021-08-26 00:00:00\",\n          \"2020-06-06 00:00:00\"\n        ],\n        \"semantic_type\": \"\",\n        \"description\": \"\"\n      }\n    },\n    {\n      \"column\": \"order_year_month\",\n      \"properties\": {\n        \"dtype\": \"date\",\n        \"min\": \"1922-06-28 00:00:00\",\n        \"max\": \"2029-08-02 00:00:00\",\n        \"num_unique_values\": 946,\n        \"samples\": [\n          \"2022-02-06 00:00:00\",\n          \"2021-08-26 00:00:00\",\n          \"2020-06-06 00:00:00\"\n        ],\n        \"semantic_type\": \"\",\n        \"description\": \"\"\n      }\n    },\n    {\n      \"column\": \"customer_name\",\n      \"properties\": {\n        \"dtype\": \"category\",\n        \"num_unique_values\": 17145,\n        \"samples\": [\n          \"Ian Alexander\",\n          \"Gabriella Adams\",\n          \"Vincent Li\"\n        ],\n        \"semantic_type\": \"\",\n        \"description\": \"\"\n      }\n    },\n    {\n      \"column\": \"city\",\n      \"properties\": {\n        \"dtype\": \"category\",\n        \"num_unique_values\": 11906,\n        \"samples\": [\n          \"Jamieville\",\n          \"South Micheletown\",\n          \"Vancefort\"\n        ],\n        \"semantic_type\": \"\",\n        \"description\": \"\"\n      }\n    },\n    {\n      \"column\": \"state_province\",\n      \"properties\": {\n        \"dtype\": \"category\",\n        \"num_unique_values\": 54,\n        \"samples\": [\n          \"NEBRASKA                 \",\n          \"NORTH DAKOTA             \",\n          \"NORTH CAROLINA           \"\n        ],\n        \"semantic_type\": \"\",\n        \"description\": \"\"\n      }\n    },\n    {\n      \"column\": \"quantity\",\n      \"properties\": {\n        \"dtype\": \"number\",\n        \"std\": 424.7793747027831,\n        \"min\": 1.0,\n        \"max\": 100000.0,\n        \"num_unique_values\": 12,\n        \"samples\": [\n          500.0,\n          20.0,\n          3.0\n        ],\n        \"semantic_type\": \"\",\n        \"description\": \"\"\n      }\n    },\n    {\n      \"column\": \"product_name\",\n      \"properties\": {\n        \"dtype\": \"category\",\n        \"num_unique_values\": 131,\n        \"samples\": [\n          \"Short-Sleeve Classic Jersey, XL\",\n          \"Touring-1000 Yellow, 60\",\n          \"Touring-3000 Blue, 44\"\n        ],\n        \"semantic_type\": \"\",\n        \"description\": \"\"\n      }\n    },\n    {\n      \"column\": \"product_line\",\n      \"properties\": {\n        \"dtype\": \"category\",\n        \"num_unique_values\": 9,\n        \"samples\": [\n          \"Laptop\",\n          \"Bikes\",\n          \"Clothing\"\n        ],\n        \"semantic_type\": \"\",\n        \"description\": \"\"\n      }\n    },\n    {\n      \"column\": \"product_price\",\n      \"properties\": {\n        \"dtype\": \"number\",\n        \"std\": 35893.810077093,\n        \"min\": 2.29,\n        \"max\": 235481.0,\n        \"num_unique_values\": 45,\n        \"samples\": [\n          630.09,\n          120.0,\n          8.99\n        ],\n        \"semantic_type\": \"\",\n        \"description\": \"\"\n      }\n    },\n    {\n      \"column\": \"total_amount\",\n      \"properties\": {\n        \"dtype\": \"number\",\n        \"std\": 74998.3866961541,\n        \"min\": 2.29,\n        \"max\": 2024993.9999999998,\n        \"num_unique_values\": 83,\n        \"samples\": [\n          1865.8200000000002,\n          1949.97,\n          21.49\n        ],\n        \"semantic_type\": \"\",\n        \"description\": \"\"\n      }\n    }\n  ]\n}"
            }
          },
          "metadata": {},
          "execution_count": 160
        }
      ]
    },
    {
      "cell_type": "code",
      "execution_count": 90,
      "metadata": {
        "vscode": {
          "languageId": "plaintext"
        },
        "id": "c82GC6lhEZGp"
      },
      "outputs": [],
      "source": [
        "#create chart"
      ]
    },
    {
      "cell_type": "code",
      "source": [
        "labels = [\"Complete Information\", \"Incomplete Information\"]\n",
        "counts = [complete_count.get(1, 0), complete_count.get(2, 0)]\n",
        "\n",
        "plt.bar(labels, counts, color=['green', 'red'])\n",
        "plt.title('Customer Information Completeness')\n",
        "plt.xlabel('Information Status')\n",
        "plt.ylabel('Number of Customers')\n",
        "plt.show()"
      ],
      "metadata": {
        "id": "3sKzGduaq-0t",
        "outputId": "1772aafc-f9b5-46c0-eea1-bb155afb7573",
        "colab": {
          "base_uri": "https://localhost:8080/",
          "height": 472
        }
      },
      "execution_count": 167,
      "outputs": [
        {
          "output_type": "display_data",
          "data": {
            "text/plain": [
              "<Figure size 640x480 with 1 Axes>"
            ],
            "image/png": "[encoded data removed]"
          },
          "metadata": {}
        }
      ]
    },
    {
      "cell_type": "markdown",
      "metadata": {
        "id": "tVd6W9WpEZGq"
      },
      "source": [
        "## Prepare Data - Continued\n",
        "\n",
        "➡️ Assignment Tasks\n",
        "- Create seasonal buckets for Winter, Sprint, Summer, Fall\n",
        "- Create a chart to show revenue by season\n",
        "- Create a chart to show revenue by year"
      ]
    },
    {
      "cell_type": "code",
      "execution_count": 92,
      "metadata": {
        "vscode": {
          "languageId": "plaintext"
        },
        "id": "-y6234tIEZGq"
      },
      "outputs": [],
      "source": [
        "#seasonality"
      ]
    },
    {
      "cell_type": "code",
      "source": [
        "dfclean['season'] = dfclean['order_date'].dt.month.map({\n",
        "    12: 'Winter', 1: 'Winter', 2: 'Winter',\n",
        "    3: 'Spring', 4: 'Spring', 5: 'Spring',\n",
        "    6: 'Summer', 7: 'Summer', 8: 'Summer',\n",
        "    9: 'Fall', 10: 'Fall', 11: 'Fall',\n",
        "})"
      ],
      "metadata": {
        "id": "N1aUqab6sLJ5"
      },
      "execution_count": 192,
      "outputs": []
    },
    {
      "cell_type": "code",
      "execution_count": 94,
      "metadata": {
        "vscode": {
          "languageId": "plaintext"
        },
        "id": "jLLe2ML-EZGr"
      },
      "outputs": [],
      "source": [
        "#revenue over time"
      ]
    },
    {
      "cell_type": "code",
      "source": [
        "plt.figure(figsize=(10, 6))\n",
        "dfclean.groupby('season')['total_amount'].sum().plot(kind='bar', color=['blue', 'green', 'orange', 'red'])\n",
        "plt.title('Revenue by Season')\n",
        "plt.xlabel('Season')\n",
        "plt.ylabel('Revenue')\n",
        "plt.xticks(rotation=0)\n",
        "plt.show()"
      ],
      "metadata": {
        "id": "AWsOtvddsUoZ",
        "outputId": "bedd0744-5425-4251-ed75-cdb4b75f8231",
        "colab": {
          "base_uri": "https://localhost:8080/",
          "height": 564
        }
      },
      "execution_count": 176,
      "outputs": [
        {
          "output_type": "display_data",
          "data": {
            "text/plain": [
              "<Figure size 1000x600 with 1 Axes>"
            ],
            "image/png": "[encoded data removed]"
          },
          "metadata": {}
        }
      ]
    },
    {
      "cell_type": "code",
      "source": [
        "plt.figure(figsize=(10, 6))\n",
        "dfclean.groupby(df['order_date'].dt.year)['total_amount'].sum().plot(kind='bar', color='purple')\n",
        "plt.title('Revenue by Year')\n",
        "plt.xlabel('Year')\n",
        "plt.ylabel('Revenue')\n",
        "plt.xticks(rotation=0)\n",
        "plt.show()"
      ],
      "metadata": {
        "id": "ubwOojy8s6Cq",
        "outputId": "f6712ddd-168a-43c6-8be9-bc1e68ff3cd0",
        "colab": {
          "base_uri": "https://localhost:8080/",
          "height": 564
        }
      },
      "execution_count": 181,
      "outputs": [
        {
          "output_type": "display_data",
          "data": {
            "text/plain": [
              "<Figure size 1000x600 with 1 Axes>"
            ],
            "image/png": "[encoded data removed]"
          },
          "metadata": {}
        }
      ]
    },
    {
      "cell_type": "markdown",
      "metadata": {
        "id": "eq7xera_EZGs"
      },
      "source": [
        "## Prepare Data - Continued\n",
        "\n",
        "➡️ Assignment Tasks\n",
        "- Create a variable that will group product lines into \"Outdoor\" versus \"Indoor\" products.\n",
        "- Create a plot to show the correlation between outdoor/indoor versus season  "
      ]
    },
    {
      "cell_type": "code",
      "execution_count": null,
      "metadata": {
        "vscode": {
          "languageId": "plaintext"
        },
        "id": "MXB5KuKvEZGs"
      },
      "outputs": [],
      "source": [
        "#indoor/outdoor variable"
      ]
    },
    {
      "cell_type": "code",
      "source": [
        "dfclean['product_name']"
      ],
      "metadata": {
        "id": "rw6X3L0I3ERA",
        "outputId": "2366a34d-deb6-4de4-9e94-13c5f0622952",
        "colab": {
          "base_uri": "https://localhost:8080/"
        }
      },
      "execution_count": 182,
      "outputs": [
        {
          "output_type": "execute_result",
          "data": {
            "text/plain": [
              "0        Apple iPhone XR (Yellow, 256 GB) (Includes Ear...\n",
              "1        Apple iPhone XR (Yellow, 256 GB) (Includes Ear...\n",
              "2        Apple iPhone XR (Yellow, 256 GB) (Includes Ear...\n",
              "3        Apple iPhone XR (Yellow, 256 GB) (Includes Ear...\n",
              "4        Apple iPhone XR (Yellow, 256 GB) (Includes Ear...\n",
              "                               ...                        \n",
              "56040    Samsung Galaxy S20 FE 5G (Cloud Navy, 8GB RAM,...\n",
              "56041    Samsung Galaxy S20 FE 5G (Cloud Navy, 8GB RAM,...\n",
              "56042    Samsung Galaxy S20 FE 5G (Cloud Navy, 8GB RAM,...\n",
              "56043    Samsung Galaxy S20 FE 5G (Cloud Navy, 8GB RAM,...\n",
              "56044    Samsung Galaxy S20 FE 5G (Cloud Navy, 8GB RAM,...\n",
              "Name: product_name, Length: 55445, dtype: object"
            ]
          },
          "metadata": {},
          "execution_count": 182
        }
      ]
    },
    {
      "cell_type": "code",
      "source": [
        "def categorize_product(product_name):\n",
        "    indoor_keywords = ['GB', 'Camera', 'Security']\n",
        "    for keyword in indoor_keywords:\n",
        "        if keyword in product_name:\n",
        "            return 'Indoor'\n",
        "    return 'Outdoor'"
      ],
      "metadata": {
        "id": "T6zb5fS-4CGI"
      },
      "execution_count": 210,
      "outputs": []
    },
    {
      "cell_type": "code",
      "source": [
        "dfclean = dfclean.copy()\n",
        "dfclean['Product_Category'] = dfclean['product_line'].apply(categorize_product)"
      ],
      "metadata": {
        "id": "FSW1giN_4Qok"
      },
      "execution_count": 211,
      "outputs": []
    },
    {
      "cell_type": "code",
      "source": [
        "dfclean['Product_Category']"
      ],
      "metadata": {
        "id": "q4Dq34Vt6GJN",
        "outputId": "516da5fb-ed46-4240-a741-f9361e0d4458",
        "colab": {
          "base_uri": "https://localhost:8080/"
        }
      },
      "execution_count": 207,
      "outputs": [
        {
          "output_type": "execute_result",
          "data": {
            "text/plain": [
              "0        Outdoor\n",
              "1        Outdoor\n",
              "2        Outdoor\n",
              "3        Outdoor\n",
              "4        Outdoor\n",
              "          ...   \n",
              "56040    Outdoor\n",
              "56041    Outdoor\n",
              "56042    Outdoor\n",
              "56043    Outdoor\n",
              "56044    Outdoor\n",
              "Name: Product_Category, Length: 56045, dtype: object"
            ]
          },
          "metadata": {},
          "execution_count": 207
        }
      ]
    },
    {
      "cell_type": "code",
      "source": [
        "plt.figure(figsize=(10, 6))\n",
        "sns.countplot(x='Product_Category', hue='season', data=dfclean, palette='husl', order=['Outdoor', 'Indoor'])\n",
        "plt.title('Correlation between Outdoor/Indoor and Season')\n",
        "plt.xlabel('Product Category')\n",
        "plt.ylabel('Count')\n",
        "plt.show()"
      ],
      "metadata": {
        "id": "nLDkN3by4Zgl",
        "outputId": "0366cee5-4394-4df7-b138-18988f1b0e34",
        "colab": {
          "base_uri": "https://localhost:8080/",
          "height": 564
        }
      },
      "execution_count": 206,
      "outputs": [
        {
          "output_type": "display_data",
          "data": {
            "text/plain": [
              "<Figure size 1000x600 with 1 Axes>"
            ],
            "image/png": "[encoded data removed]"
          },
          "metadata": {}
        }
      ]
    }
  ],
  "metadata": {
    "language_info": {
      "name": "python"
    },
    "colab": {
      "provenance": []
    },
    "kernelspec": {
      "name": "python3",
      "display_name": "Python 3"
    }
  },
  "nbformat": 4,
  "nbformat_minor": 0
}