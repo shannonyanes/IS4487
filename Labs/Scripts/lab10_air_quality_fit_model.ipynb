{
  "cells": [
    {
      "cell_type": "markdown",
      "metadata": {
        "id": "view-in-github",
        "colab_type": "text"
      },
      "source": [
        "<a href=\"https://colab.research.google.com/github/shannonyanes/IS4487/blob/main/Labs/Scripts/lab10_air_quality_fit_model.ipynb\" target=\"_parent\"><img src=\"https://colab.research.google.com/assets/colab-badge.svg\" alt=\"Open In Colab\"/></a>"
      ]
    },
    {
      "cell_type": "markdown",
      "metadata": {
        "id": "MieQrgaW7xfX"
      },
      "source": [
        "# IS 4487 Lab 10\n",
        "\n",
        "## Outline\n",
        "\n",
        "Repeat exercises from Lab 9, but with the *Air Quality Daily AQI* dataset.\n",
        "\n",
        "Pull the latest \"Daily AQI by County\" file from this link: https://aqs.epa.gov/aqsweb/airdata/download_files.html#AQI\n",
        "\n",
        "Your target variable is *CATEGORY*, indicating if the air is healthy.  You can focus on either the entire country, split the country in regions, or focus on just one area (ex. Utah).   You can reduce noise by aggregating the data to the month of season level.   \n",
        "\n",
        "Can you predict the category based on the location and time of year?  \n",
        "\n",
        "The AQI is divided into six categories:\n",
        "\n",
        "*Air Quality Index*\n",
        "\n",
        "|(AQI) Values\t|Levels of Health Concern\t        |\n",
        "|---------------|--------|\n",
        "|0-50\t        |Good\t |\n",
        "|51-100\t        |Moderate\t |\n",
        "|101-150\t    |Unhealthy for Sensitive Groups\t|\n",
        "|151 to 200\t    |Unhealthy\t |\n",
        "|201 to 300\t    |Very Unhealthy\t |\n",
        "|301 to 500\t    |Hazardous\t |\n",
        "\n",
        "<a href=\"https://colab.research.google.com/github/Stan-Pugsley/is_4487_base/blob/main/Labs/Scripts/lab10_air_quality_fit_model.ipynb\" target=\"_parent\"><img src=\"https://colab.research.google.com/assets/colab-badge.svg\" alt=\"Open In Colab\"/></a>"
      ]
    },
    {
      "cell_type": "markdown",
      "metadata": {
        "id": "XoVKIMCP7xfZ"
      },
      "source": [
        "## Load Libraries\n",
        "\n",
        "➡️ Assignment Tasks\n",
        "- Load any necessary libraries"
      ]
    },
    {
      "cell_type": "code",
      "execution_count": 26,
      "metadata": {
        "vscode": {
          "languageId": "plaintext"
        },
        "id": "y2r_1yhI7xfa"
      },
      "outputs": [],
      "source": [
        "import pandas as pd\n",
        "from sklearn.model_selection import train_test_split\n",
        "from sklearn.linear_model import LinearRegression\n",
        "import numpy as np\n",
        "import matplotlib.pyplot as plt"
      ]
    },
    {
      "cell_type": "markdown",
      "metadata": {
        "id": "kTMezfBc7xfb"
      },
      "source": [
        "## Import Data into Dataframe\n",
        "\n",
        "➡️ Assignment Tasks\n",
        "- Import data from the air quality dataset into a dataframe (in GitHub go to Labs > DataSets)\n",
        "- Describe or profile the dataframe"
      ]
    },
    {
      "cell_type": "code",
      "execution_count": 2,
      "metadata": {
        "vscode": {
          "languageId": "plaintext"
        },
        "colab": {
          "base_uri": "https://localhost:8080/"
        },
        "id": "owvWwKtW7xfc",
        "outputId": "1f38e01c-4dbb-47a7-88ee-de2a70359bad"
      },
      "outputs": [
        {
          "output_type": "stream",
          "name": "stdout",
          "text": [
            "Mounted at /content/gdrive\n"
          ]
        }
      ],
      "source": [
        "from google.colab import drive\n",
        "drive.mount('/content/gdrive', force_remount=True)"
      ]
    },
    {
      "cell_type": "code",
      "source": [
        "df = pd.read_csv (r'/content/gdrive/MyDrive/Colab Notebooks/daily_aqi_by_county_2023.csv')"
      ],
      "metadata": {
        "id": "1_SDmB318iyC"
      },
      "execution_count": 3,
      "outputs": []
    },
    {
      "cell_type": "code",
      "source": [
        "df.describe()"
      ],
      "metadata": {
        "colab": {
          "base_uri": "https://localhost:8080/",
          "height": 300
        },
        "id": "wXx8gp-Y8qcX",
        "outputId": "9ff47516-0883-44a6-c6b2-a4cd72ddac9f"
      },
      "execution_count": 4,
      "outputs": [
        {
          "output_type": "execute_result",
          "data": {
            "text/plain": [
              "          State Code    County Code            AQI  Number of Sites Reporting\n",
              "count  185017.000000  185017.000000  185017.000000              185017.000000\n",
              "mean       29.936773      81.188415      43.498397                   1.878595\n",
              "std        15.904884      93.001539      23.905791                   2.273400\n",
              "min         1.000000       1.000000       0.000000                   1.000000\n",
              "25%        17.000000      23.000000      31.000000                   1.000000\n",
              "50%        30.000000      59.000000      41.000000                   1.000000\n",
              "75%        42.000000     107.000000      50.000000                   2.000000\n",
              "max        80.000000     810.000000    1695.000000                  33.000000"
            ],
            "text/html": [
              "\n",
              "  <div id=\"df-c0e8ada7-0e16-4119-ae38-5adf7900ef55\" class=\"colab-df-container\">\n",
              "    <div>\n",
              "<style scoped>\n",
              "    .dataframe tbody tr th:only-of-type {\n",
              "        vertical-align: middle;\n",
              "    }\n",
              "\n",
              "    .dataframe tbody tr th {\n",
              "        vertical-align: top;\n",
              "    }\n",
              "\n",
              "    .dataframe thead th {\n",
              "        text-align: right;\n",
              "    }\n",
              "</style>\n",
              "<table border=\"1\" class=\"dataframe\">\n",
              "  <thead>\n",
              "    <tr style=\"text-align: right;\">\n",
              "      <th></th>\n",
              "      <th>State Code</th>\n",
              "      <th>County Code</th>\n",
              "      <th>AQI</th>\n",
              "      <th>Number of Sites Reporting</th>\n",
              "    </tr>\n",
              "  </thead>\n",
              "  <tbody>\n",
              "    <tr>\n",
              "      <th>count</th>\n",
              "      <td>185017.000000</td>\n",
              "      <td>185017.000000</td>\n",
              "      <td>185017.000000</td>\n",
              "      <td>185017.000000</td>\n",
              "    </tr>\n",
              "    <tr>\n",
              "      <th>mean</th>\n",
              "      <td>29.936773</td>\n",
              "      <td>81.188415</td>\n",
              "      <td>43.498397</td>\n",
              "      <td>1.878595</td>\n",
              "    </tr>\n",
              "    <tr>\n",
              "      <th>std</th>\n",
              "      <td>15.904884</td>\n",
              "      <td>93.001539</td>\n",
              "      <td>23.905791</td>\n",
              "      <td>2.273400</td>\n",
              "    </tr>\n",
              "    <tr>\n",
              "      <th>min</th>\n",
              "      <td>1.000000</td>\n",
              "      <td>1.000000</td>\n",
              "      <td>0.000000</td>\n",
              "      <td>1.000000</td>\n",
              "    </tr>\n",
              "    <tr>\n",
              "      <th>25%</th>\n",
              "      <td>17.000000</td>\n",
              "      <td>23.000000</td>\n",
              "      <td>31.000000</td>\n",
              "      <td>1.000000</td>\n",
              "    </tr>\n",
              "    <tr>\n",
              "      <th>50%</th>\n",
              "      <td>30.000000</td>\n",
              "      <td>59.000000</td>\n",
              "      <td>41.000000</td>\n",
              "      <td>1.000000</td>\n",
              "    </tr>\n",
              "    <tr>\n",
              "      <th>75%</th>\n",
              "      <td>42.000000</td>\n",
              "      <td>107.000000</td>\n",
              "      <td>50.000000</td>\n",
              "      <td>2.000000</td>\n",
              "    </tr>\n",
              "    <tr>\n",
              "      <th>max</th>\n",
              "      <td>80.000000</td>\n",
              "      <td>810.000000</td>\n",
              "      <td>1695.000000</td>\n",
              "      <td>33.000000</td>\n",
              "    </tr>\n",
              "  </tbody>\n",
              "</table>\n",
              "</div>\n",
              "    <div class=\"colab-df-buttons\">\n",
              "\n",
              "  <div class=\"colab-df-container\">\n",
              "    <button class=\"colab-df-convert\" onclick=\"convertToInteractive('df-c0e8ada7-0e16-4119-ae38-5adf7900ef55')\"\n",
              "            title=\"Convert this dataframe to an interactive table.\"\n",
              "            style=\"display:none;\">\n",
              "\n",
              "  <svg xmlns=\"http://www.w3.org/2000/svg\" height=\"24px\" viewBox=\"0 -960 960 960\">\n",
              "    <path d=\"M120-120v-720h720v720H120Zm60-500h600v-160H180v160Zm220 220h160v-160H400v160Zm0 220h160v-160H400v160ZM180-400h160v-160H180v160Zm440 0h160v-160H620v160ZM180-180h160v-160H180v160Zm440 0h160v-160H620v160Z\"/>\n",
              "  </svg>\n",
              "    </button>\n",
              "\n",
              "  <style>\n",
              "    .colab-df-container {\n",
              "      display:flex;\n",
              "      gap: 12px;\n",
              "    }\n",
              "\n",
              "    .colab-df-convert {\n",
              "      background-color: #E8F0FE;\n",
              "      border: none;\n",
              "      border-radius: 50%;\n",
              "      cursor: pointer;\n",
              "      display: none;\n",
              "      fill: #1967D2;\n",
              "      height: 32px;\n",
              "      padding: 0 0 0 0;\n",
              "      width: 32px;\n",
              "    }\n",
              "\n",
              "    .colab-df-convert:hover {\n",
              "      background-color: #E2EBFA;\n",
              "      box-shadow: 0px 1px 2px rgba(60, 64, 67, 0.3), 0px 1px 3px 1px rgba(60, 64, 67, 0.15);\n",
              "      fill: #174EA6;\n",
              "    }\n",
              "\n",
              "    .colab-df-buttons div {\n",
              "      margin-bottom: 4px;\n",
              "    }\n",
              "\n",
              "    [theme=dark] .colab-df-convert {\n",
              "      background-color: #3B4455;\n",
              "      fill: #D2E3FC;\n",
              "    }\n",
              "\n",
              "    [theme=dark] .colab-df-convert:hover {\n",
              "      background-color: #434B5C;\n",
              "      box-shadow: 0px 1px 3px 1px rgba(0, 0, 0, 0.15);\n",
              "      filter: drop-shadow(0px 1px 2px rgba(0, 0, 0, 0.3));\n",
              "      fill: #FFFFFF;\n",
              "    }\n",
              "  </style>\n",
              "\n",
              "    <script>\n",
              "      const buttonEl =\n",
              "        document.querySelector('#df-c0e8ada7-0e16-4119-ae38-5adf7900ef55 button.colab-df-convert');\n",
              "      buttonEl.style.display =\n",
              "        google.colab.kernel.accessAllowed ? 'block' : 'none';\n",
              "\n",
              "      async function convertToInteractive(key) {\n",
              "        const element = document.querySelector('#df-c0e8ada7-0e16-4119-ae38-5adf7900ef55');\n",
              "        const dataTable =\n",
              "          await google.colab.kernel.invokeFunction('convertToInteractive',\n",
              "                                                    [key], {});\n",
              "        if (!dataTable) return;\n",
              "\n",
              "        const docLinkHtml = 'Like what you see? Visit the ' +\n",
              "          '<a target=\"_blank\" href=https://colab.research.google.com/notebooks/data_table.ipynb>data table notebook</a>'\n",
              "          + ' to learn more about interactive tables.';\n",
              "        element.innerHTML = '';\n",
              "        dataTable['output_type'] = 'display_data';\n",
              "        await google.colab.output.renderOutput(dataTable, element);\n",
              "        const docLink = document.createElement('div');\n",
              "        docLink.innerHTML = docLinkHtml;\n",
              "        element.appendChild(docLink);\n",
              "      }\n",
              "    </script>\n",
              "  </div>\n",
              "\n",
              "\n",
              "<div id=\"df-35ab0d47-be69-460a-9577-fae8a2cfda47\">\n",
              "  <button class=\"colab-df-quickchart\" onclick=\"quickchart('df-35ab0d47-be69-460a-9577-fae8a2cfda47')\"\n",
              "            title=\"Suggest charts\"\n",
              "            style=\"display:none;\">\n",
              "\n",
              "<svg xmlns=\"http://www.w3.org/2000/svg\" height=\"24px\"viewBox=\"0 0 24 24\"\n",
              "     width=\"24px\">\n",
              "    <g>\n",
              "        <path d=\"M19 3H5c-1.1 0-2 .9-2 2v14c0 1.1.9 2 2 2h14c1.1 0 2-.9 2-2V5c0-1.1-.9-2-2-2zM9 17H7v-7h2v7zm4 0h-2V7h2v10zm4 0h-2v-4h2v4z\"/>\n",
              "    </g>\n",
              "</svg>\n",
              "  </button>\n",
              "\n",
              "<style>\n",
              "  .colab-df-quickchart {\n",
              "      --bg-color: #E8F0FE;\n",
              "      --fill-color: #1967D2;\n",
              "      --hover-bg-color: #E2EBFA;\n",
              "      --hover-fill-color: #174EA6;\n",
              "      --disabled-fill-color: #AAA;\n",
              "      --disabled-bg-color: #DDD;\n",
              "  }\n",
              "\n",
              "  [theme=dark] .colab-df-quickchart {\n",
              "      --bg-color: #3B4455;\n",
              "      --fill-color: #D2E3FC;\n",
              "      --hover-bg-color: #434B5C;\n",
              "      --hover-fill-color: #FFFFFF;\n",
              "      --disabled-bg-color: #3B4455;\n",
              "      --disabled-fill-color: #666;\n",
              "  }\n",
              "\n",
              "  .colab-df-quickchart {\n",
              "    background-color: var(--bg-color);\n",
              "    border: none;\n",
              "    border-radius: 50%;\n",
              "    cursor: pointer;\n",
              "    display: none;\n",
              "    fill: var(--fill-color);\n",
              "    height: 32px;\n",
              "    padding: 0;\n",
              "    width: 32px;\n",
              "  }\n",
              "\n",
              "  .colab-df-quickchart:hover {\n",
              "    background-color: var(--hover-bg-color);\n",
              "    box-shadow: 0 1px 2px rgba(60, 64, 67, 0.3), 0 1px 3px 1px rgba(60, 64, 67, 0.15);\n",
              "    fill: var(--button-hover-fill-color);\n",
              "  }\n",
              "\n",
              "  .colab-df-quickchart-complete:disabled,\n",
              "  .colab-df-quickchart-complete:disabled:hover {\n",
              "    background-color: var(--disabled-bg-color);\n",
              "    fill: var(--disabled-fill-color);\n",
              "    box-shadow: none;\n",
              "  }\n",
              "\n",
              "  .colab-df-spinner {\n",
              "    border: 2px solid var(--fill-color);\n",
              "    border-color: transparent;\n",
              "    border-bottom-color: var(--fill-color);\n",
              "    animation:\n",
              "      spin 1s steps(1) infinite;\n",
              "  }\n",
              "\n",
              "  @keyframes spin {\n",
              "    0% {\n",
              "      border-color: transparent;\n",
              "      border-bottom-color: var(--fill-color);\n",
              "      border-left-color: var(--fill-color);\n",
              "    }\n",
              "    20% {\n",
              "      border-color: transparent;\n",
              "      border-left-color: var(--fill-color);\n",
              "      border-top-color: var(--fill-color);\n",
              "    }\n",
              "    30% {\n",
              "      border-color: transparent;\n",
              "      border-left-color: var(--fill-color);\n",
              "      border-top-color: var(--fill-color);\n",
              "      border-right-color: var(--fill-color);\n",
              "    }\n",
              "    40% {\n",
              "      border-color: transparent;\n",
              "      border-right-color: var(--fill-color);\n",
              "      border-top-color: var(--fill-color);\n",
              "    }\n",
              "    60% {\n",
              "      border-color: transparent;\n",
              "      border-right-color: var(--fill-color);\n",
              "    }\n",
              "    80% {\n",
              "      border-color: transparent;\n",
              "      border-right-color: var(--fill-color);\n",
              "      border-bottom-color: var(--fill-color);\n",
              "    }\n",
              "    90% {\n",
              "      border-color: transparent;\n",
              "      border-bottom-color: var(--fill-color);\n",
              "    }\n",
              "  }\n",
              "</style>\n",
              "\n",
              "  <script>\n",
              "    async function quickchart(key) {\n",
              "      const quickchartButtonEl =\n",
              "        document.querySelector('#' + key + ' button');\n",
              "      quickchartButtonEl.disabled = true;  // To prevent multiple clicks.\n",
              "      quickchartButtonEl.classList.add('colab-df-spinner');\n",
              "      try {\n",
              "        const charts = await google.colab.kernel.invokeFunction(\n",
              "            'suggestCharts', [key], {});\n",
              "      } catch (error) {\n",
              "        console.error('Error during call to suggestCharts:', error);\n",
              "      }\n",
              "      quickchartButtonEl.classList.remove('colab-df-spinner');\n",
              "      quickchartButtonEl.classList.add('colab-df-quickchart-complete');\n",
              "    }\n",
              "    (() => {\n",
              "      let quickchartButtonEl =\n",
              "        document.querySelector('#df-35ab0d47-be69-460a-9577-fae8a2cfda47 button');\n",
              "      quickchartButtonEl.style.display =\n",
              "        google.colab.kernel.accessAllowed ? 'block' : 'none';\n",
              "    })();\n",
              "  </script>\n",
              "</div>\n",
              "\n",
              "    </div>\n",
              "  </div>\n"
            ],
            "application/vnd.google.colaboratory.intrinsic+json": {
              "type": "dataframe",
              "summary": "{\n  \"name\": \"df\",\n  \"rows\": 8,\n  \"fields\": [\n    {\n      \"column\": \"State Code\",\n      \"properties\": {\n        \"dtype\": \"number\",\n        \"std\": 65402.490219774074,\n        \"min\": 1.0,\n        \"max\": 185017.0,\n        \"num_unique_values\": 8,\n        \"samples\": [\n          29.93677337758152,\n          30.0,\n          185017.0\n        ],\n        \"semantic_type\": \"\",\n        \"description\": \"\"\n      }\n    },\n    {\n      \"column\": \"County Code\",\n      \"properties\": {\n        \"dtype\": \"number\",\n        \"std\": 65354.61748664401,\n        \"min\": 1.0,\n        \"max\": 185017.0,\n        \"num_unique_values\": 8,\n        \"samples\": [\n          81.18841511861072,\n          59.0,\n          185017.0\n        ],\n        \"semantic_type\": \"\",\n        \"description\": \"\"\n      }\n    },\n    {\n      \"column\": \"AQI\",\n      \"properties\": {\n        \"dtype\": \"number\",\n        \"std\": 65320.806200327206,\n        \"min\": 0.0,\n        \"max\": 185017.0,\n        \"num_unique_values\": 8,\n        \"samples\": [\n          43.498397444559146,\n          41.0,\n          185017.0\n        ],\n        \"semantic_type\": \"\",\n        \"description\": \"\"\n      }\n    },\n    {\n      \"column\": \"Number of Sites Reporting\",\n      \"properties\": {\n        \"dtype\": \"number\",\n        \"std\": 65411.259599291436,\n        \"min\": 1.0,\n        \"max\": 185017.0,\n        \"num_unique_values\": 6,\n        \"samples\": [\n          185017.0,\n          1.8785949399244393,\n          33.0\n        ],\n        \"semantic_type\": \"\",\n        \"description\": \"\"\n      }\n    }\n  ]\n}"
            }
          },
          "metadata": {},
          "execution_count": 4
        }
      ]
    },
    {
      "cell_type": "code",
      "source": [
        "df.info()\n"
      ],
      "metadata": {
        "colab": {
          "base_uri": "https://localhost:8080/"
        },
        "id": "r-gNmWHH_ACi",
        "outputId": "ba33a34d-ca10-4106-db1e-2e425174116d"
      },
      "execution_count": 5,
      "outputs": [
        {
          "output_type": "stream",
          "name": "stdout",
          "text": [
            "<class 'pandas.core.frame.DataFrame'>\n",
            "RangeIndex: 185017 entries, 0 to 185016\n",
            "Data columns (total 10 columns):\n",
            " #   Column                     Non-Null Count   Dtype \n",
            "---  ------                     --------------   ----- \n",
            " 0   State Name                 185017 non-null  object\n",
            " 1   county Name                185017 non-null  object\n",
            " 2   State Code                 185017 non-null  int64 \n",
            " 3   County Code                185017 non-null  int64 \n",
            " 4   Date                       185017 non-null  object\n",
            " 5   AQI                        185017 non-null  int64 \n",
            " 6   Category                   185017 non-null  object\n",
            " 7   Defining Parameter         185017 non-null  object\n",
            " 8   Defining Site              185017 non-null  object\n",
            " 9   Number of Sites Reporting  185017 non-null  int64 \n",
            "dtypes: int64(4), object(6)\n",
            "memory usage: 14.1+ MB\n"
          ]
        }
      ]
    },
    {
      "cell_type": "markdown",
      "metadata": {
        "id": "Ew1HVAx57xfc"
      },
      "source": [
        "## Prepare Data\n",
        "\n",
        "➡️ Assignment Tasks\n",
        "- Create one dummy variable (true/false) for each of the Defining Parameter values    \n",
        "- Create variables for month and season\n",
        "- Perform any other data cleanup needed (remove outliers, nulls, etc.)\n",
        "- Select the data you would like to use in the model.  If you aggregate data, you will have to decide whether to use the min, max or mean value for AQI"
      ]
    },
    {
      "cell_type": "code",
      "execution_count": 6,
      "metadata": {
        "vscode": {
          "languageId": "plaintext"
        },
        "id": "n31YXtvC7xfc"
      },
      "outputs": [],
      "source": [
        "#create columns"
      ]
    },
    {
      "cell_type": "code",
      "source": [
        "##creating dummy variables"
      ],
      "metadata": {
        "id": "ZWeHRT62CSW7"
      },
      "execution_count": 7,
      "outputs": []
    },
    {
      "cell_type": "code",
      "source": [
        "dummy_variables = pd.get_dummies(df['Defining Parameter'])\n",
        "df_with_dummies = pd.concat([df, dummy_variables], axis=1)\n",
        "print(df_with_dummies)"
      ],
      "metadata": {
        "colab": {
          "base_uri": "https://localhost:8080/"
        },
        "id": "hns6MboIAQ3A",
        "outputId": "6ced56f6-e42e-49d4-d0fb-b934a6a6b8d2"
      },
      "execution_count": 8,
      "outputs": [
        {
          "output_type": "stream",
          "name": "stdout",
          "text": [
            "       State Name county Name  State Code  County Code        Date  AQI  \\\n",
            "0         Alabama     Baldwin           1            3  2023-01-10   35   \n",
            "1         Alabama     Baldwin           1            3  2023-01-11   28   \n",
            "2         Alabama     Baldwin           1            3  2023-01-12   23   \n",
            "3         Alabama     Baldwin           1            3  2023-01-13   18   \n",
            "4         Alabama     Baldwin           1            3  2023-01-14   20   \n",
            "...           ...         ...         ...          ...         ...  ...   \n",
            "185012    Wyoming      Weston          56           45  2023-06-26   46   \n",
            "185013    Wyoming      Weston          56           45  2023-06-27   50   \n",
            "185014    Wyoming      Weston          56           45  2023-06-28   48   \n",
            "185015    Wyoming      Weston          56           45  2023-06-29   47   \n",
            "185016    Wyoming      Weston          56           45  2023-06-30   48   \n",
            "\n",
            "       Category Defining Parameter Defining Site  Number of Sites Reporting  \\\n",
            "0          Good              PM2.5   01-003-0010                          1   \n",
            "1          Good              PM2.5   01-003-0010                          1   \n",
            "2          Good              PM2.5   01-003-0010                          1   \n",
            "3          Good              PM2.5   01-003-0010                          1   \n",
            "4          Good              PM2.5   01-003-0010                          1   \n",
            "...         ...                ...           ...                        ...   \n",
            "185012     Good              Ozone   56-045-0003                          1   \n",
            "185013     Good              Ozone   56-045-0003                          1   \n",
            "185014     Good              Ozone   56-045-0003                          1   \n",
            "185015     Good              Ozone   56-045-0003                          1   \n",
            "185016     Good              Ozone   56-045-0003                          1   \n",
            "\n",
            "        CO  NO2  Ozone  PM10  PM2.5  \n",
            "0        0    0      0     0      1  \n",
            "1        0    0      0     0      1  \n",
            "2        0    0      0     0      1  \n",
            "3        0    0      0     0      1  \n",
            "4        0    0      0     0      1  \n",
            "...     ..  ...    ...   ...    ...  \n",
            "185012   0    0      1     0      0  \n",
            "185013   0    0      1     0      0  \n",
            "185014   0    0      1     0      0  \n",
            "185015   0    0      1     0      0  \n",
            "185016   0    0      1     0      0  \n",
            "\n",
            "[185017 rows x 15 columns]\n"
          ]
        }
      ]
    },
    {
      "cell_type": "code",
      "source": [
        "##adding months column"
      ],
      "metadata": {
        "id": "AsTyM0XsCNuY"
      },
      "execution_count": 9,
      "outputs": []
    },
    {
      "cell_type": "code",
      "source": [
        "df['Date'] = pd.to_datetime(df['Date'])"
      ],
      "metadata": {
        "id": "XYcDJLW_AtBI"
      },
      "execution_count": 10,
      "outputs": []
    },
    {
      "cell_type": "code",
      "source": [
        "df['Month'] = df['Date'].dt.month"
      ],
      "metadata": {
        "id": "3pMAu1JoA-p5"
      },
      "execution_count": 11,
      "outputs": []
    },
    {
      "cell_type": "code",
      "source": [
        "##adding season column"
      ],
      "metadata": {
        "id": "Q35VovpVCLTO"
      },
      "execution_count": 12,
      "outputs": []
    },
    {
      "cell_type": "code",
      "source": [
        "def get_season(month):\n",
        "    if month in [12, 1, 2]:\n",
        "        return 'Winter'\n",
        "    elif month in [3, 4, 5]:\n",
        "        return 'Spring'\n",
        "    elif month in [6, 7, 8]:\n",
        "        return 'Summer'\n",
        "    else:\n",
        "        return 'Fall'\n",
        "\n",
        "df['Season'] = df['Month'].apply(get_season)\n",
        "\n",
        "print(df)"
      ],
      "metadata": {
        "colab": {
          "base_uri": "https://localhost:8080/"
        },
        "id": "aZGJHUS2BSYb",
        "outputId": "ef0a9aed-009a-4a47-8e51-d5775728a250"
      },
      "execution_count": 13,
      "outputs": [
        {
          "output_type": "stream",
          "name": "stdout",
          "text": [
            "       State Name county Name  State Code  County Code       Date  AQI  \\\n",
            "0         Alabama     Baldwin           1            3 2023-01-10   35   \n",
            "1         Alabama     Baldwin           1            3 2023-01-11   28   \n",
            "2         Alabama     Baldwin           1            3 2023-01-12   23   \n",
            "3         Alabama     Baldwin           1            3 2023-01-13   18   \n",
            "4         Alabama     Baldwin           1            3 2023-01-14   20   \n",
            "...           ...         ...         ...          ...        ...  ...   \n",
            "185012    Wyoming      Weston          56           45 2023-06-26   46   \n",
            "185013    Wyoming      Weston          56           45 2023-06-27   50   \n",
            "185014    Wyoming      Weston          56           45 2023-06-28   48   \n",
            "185015    Wyoming      Weston          56           45 2023-06-29   47   \n",
            "185016    Wyoming      Weston          56           45 2023-06-30   48   \n",
            "\n",
            "       Category Defining Parameter Defining Site  Number of Sites Reporting  \\\n",
            "0          Good              PM2.5   01-003-0010                          1   \n",
            "1          Good              PM2.5   01-003-0010                          1   \n",
            "2          Good              PM2.5   01-003-0010                          1   \n",
            "3          Good              PM2.5   01-003-0010                          1   \n",
            "4          Good              PM2.5   01-003-0010                          1   \n",
            "...         ...                ...           ...                        ...   \n",
            "185012     Good              Ozone   56-045-0003                          1   \n",
            "185013     Good              Ozone   56-045-0003                          1   \n",
            "185014     Good              Ozone   56-045-0003                          1   \n",
            "185015     Good              Ozone   56-045-0003                          1   \n",
            "185016     Good              Ozone   56-045-0003                          1   \n",
            "\n",
            "        Month  Season  \n",
            "0           1  Winter  \n",
            "1           1  Winter  \n",
            "2           1  Winter  \n",
            "3           1  Winter  \n",
            "4           1  Winter  \n",
            "...       ...     ...  \n",
            "185012      6  Summer  \n",
            "185013      6  Summer  \n",
            "185014      6  Summer  \n",
            "185015      6  Summer  \n",
            "185016      6  Summer  \n",
            "\n",
            "[185017 rows x 12 columns]\n"
          ]
        }
      ]
    },
    {
      "cell_type": "code",
      "source": [
        "##geting rid of outliers and nulls"
      ],
      "metadata": {
        "id": "Rn1A8Vi8CGiO"
      },
      "execution_count": 14,
      "outputs": []
    },
    {
      "cell_type": "code",
      "source": [
        "df_clean = df[(df['AQI'] < 600)]\n",
        "\n",
        "df_clean = df_clean.dropna()"
      ],
      "metadata": {
        "id": "tD6EA9-g81V4"
      },
      "execution_count": 15,
      "outputs": []
    },
    {
      "cell_type": "code",
      "source": [
        "df_clean.describe()"
      ],
      "metadata": {
        "colab": {
          "base_uri": "https://localhost:8080/",
          "height": 300
        },
        "id": "Ur8p77y09pYF",
        "outputId": "0f1de04b-87b1-4706-8403-ca4ecb5510f7"
      },
      "execution_count": 16,
      "outputs": [
        {
          "output_type": "execute_result",
          "data": {
            "text/plain": [
              "          State Code    County Code            AQI  Number of Sites Reporting  \\\n",
              "count  185012.000000  185012.000000  185012.000000              185012.000000   \n",
              "mean       29.937420      81.189285      43.470888                   1.878462   \n",
              "std        15.904612      93.002623      23.216058                   2.273143   \n",
              "min         1.000000       1.000000       0.000000                   1.000000   \n",
              "25%        17.000000      23.000000      31.000000                   1.000000   \n",
              "50%        30.000000      59.000000      41.000000                   1.000000   \n",
              "75%        42.000000     107.000000      50.000000                   2.000000   \n",
              "max        80.000000     810.000000     597.000000                  33.000000   \n",
              "\n",
              "               Month  \n",
              "count  185012.000000  \n",
              "mean        4.251827  \n",
              "std         2.170640  \n",
              "min         1.000000  \n",
              "25%         3.000000  \n",
              "50%         4.000000  \n",
              "75%         6.000000  \n",
              "max        10.000000  "
            ],
            "text/html": [
              "\n",
              "  <div id=\"df-bd071cbe-bde9-42b8-884e-8c86bc745d78\" class=\"colab-df-container\">\n",
              "    <div>\n",
              "<style scoped>\n",
              "    .dataframe tbody tr th:only-of-type {\n",
              "        vertical-align: middle;\n",
              "    }\n",
              "\n",
              "    .dataframe tbody tr th {\n",
              "        vertical-align: top;\n",
              "    }\n",
              "\n",
              "    .dataframe thead th {\n",
              "        text-align: right;\n",
              "    }\n",
              "</style>\n",
              "<table border=\"1\" class=\"dataframe\">\n",
              "  <thead>\n",
              "    <tr style=\"text-align: right;\">\n",
              "      <th></th>\n",
              "      <th>State Code</th>\n",
              "      <th>County Code</th>\n",
              "      <th>AQI</th>\n",
              "      <th>Number of Sites Reporting</th>\n",
              "      <th>Month</th>\n",
              "    </tr>\n",
              "  </thead>\n",
              "  <tbody>\n",
              "    <tr>\n",
              "      <th>count</th>\n",
              "      <td>185012.000000</td>\n",
              "      <td>185012.000000</td>\n",
              "      <td>185012.000000</td>\n",
              "      <td>185012.000000</td>\n",
              "      <td>185012.000000</td>\n",
              "    </tr>\n",
              "    <tr>\n",
              "      <th>mean</th>\n",
              "      <td>29.937420</td>\n",
              "      <td>81.189285</td>\n",
              "      <td>43.470888</td>\n",
              "      <td>1.878462</td>\n",
              "      <td>4.251827</td>\n",
              "    </tr>\n",
              "    <tr>\n",
              "      <th>std</th>\n",
              "      <td>15.904612</td>\n",
              "      <td>93.002623</td>\n",
              "      <td>23.216058</td>\n",
              "      <td>2.273143</td>\n",
              "      <td>2.170640</td>\n",
              "    </tr>\n",
              "    <tr>\n",
              "      <th>min</th>\n",
              "      <td>1.000000</td>\n",
              "      <td>1.000000</td>\n",
              "      <td>0.000000</td>\n",
              "      <td>1.000000</td>\n",
              "      <td>1.000000</td>\n",
              "    </tr>\n",
              "    <tr>\n",
              "      <th>25%</th>\n",
              "      <td>17.000000</td>\n",
              "      <td>23.000000</td>\n",
              "      <td>31.000000</td>\n",
              "      <td>1.000000</td>\n",
              "      <td>3.000000</td>\n",
              "    </tr>\n",
              "    <tr>\n",
              "      <th>50%</th>\n",
              "      <td>30.000000</td>\n",
              "      <td>59.000000</td>\n",
              "      <td>41.000000</td>\n",
              "      <td>1.000000</td>\n",
              "      <td>4.000000</td>\n",
              "    </tr>\n",
              "    <tr>\n",
              "      <th>75%</th>\n",
              "      <td>42.000000</td>\n",
              "      <td>107.000000</td>\n",
              "      <td>50.000000</td>\n",
              "      <td>2.000000</td>\n",
              "      <td>6.000000</td>\n",
              "    </tr>\n",
              "    <tr>\n",
              "      <th>max</th>\n",
              "      <td>80.000000</td>\n",
              "      <td>810.000000</td>\n",
              "      <td>597.000000</td>\n",
              "      <td>33.000000</td>\n",
              "      <td>10.000000</td>\n",
              "    </tr>\n",
              "  </tbody>\n",
              "</table>\n",
              "</div>\n",
              "    <div class=\"colab-df-buttons\">\n",
              "\n",
              "  <div class=\"colab-df-container\">\n",
              "    <button class=\"colab-df-convert\" onclick=\"convertToInteractive('df-bd071cbe-bde9-42b8-884e-8c86bc745d78')\"\n",
              "            title=\"Convert this dataframe to an interactive table.\"\n",
              "            style=\"display:none;\">\n",
              "\n",
              "  <svg xmlns=\"http://www.w3.org/2000/svg\" height=\"24px\" viewBox=\"0 -960 960 960\">\n",
              "    <path d=\"M120-120v-720h720v720H120Zm60-500h600v-160H180v160Zm220 220h160v-160H400v160Zm0 220h160v-160H400v160ZM180-400h160v-160H180v160Zm440 0h160v-160H620v160ZM180-180h160v-160H180v160Zm440 0h160v-160H620v160Z\"/>\n",
              "  </svg>\n",
              "    </button>\n",
              "\n",
              "  <style>\n",
              "    .colab-df-container {\n",
              "      display:flex;\n",
              "      gap: 12px;\n",
              "    }\n",
              "\n",
              "    .colab-df-convert {\n",
              "      background-color: #E8F0FE;\n",
              "      border: none;\n",
              "      border-radius: 50%;\n",
              "      cursor: pointer;\n",
              "      display: none;\n",
              "      fill: #1967D2;\n",
              "      height: 32px;\n",
              "      padding: 0 0 0 0;\n",
              "      width: 32px;\n",
              "    }\n",
              "\n",
              "    .colab-df-convert:hover {\n",
              "      background-color: #E2EBFA;\n",
              "      box-shadow: 0px 1px 2px rgba(60, 64, 67, 0.3), 0px 1px 3px 1px rgba(60, 64, 67, 0.15);\n",
              "      fill: #174EA6;\n",
              "    }\n",
              "\n",
              "    .colab-df-buttons div {\n",
              "      margin-bottom: 4px;\n",
              "    }\n",
              "\n",
              "    [theme=dark] .colab-df-convert {\n",
              "      background-color: #3B4455;\n",
              "      fill: #D2E3FC;\n",
              "    }\n",
              "\n",
              "    [theme=dark] .colab-df-convert:hover {\n",
              "      background-color: #434B5C;\n",
              "      box-shadow: 0px 1px 3px 1px rgba(0, 0, 0, 0.15);\n",
              "      filter: drop-shadow(0px 1px 2px rgba(0, 0, 0, 0.3));\n",
              "      fill: #FFFFFF;\n",
              "    }\n",
              "  </style>\n",
              "\n",
              "    <script>\n",
              "      const buttonEl =\n",
              "        document.querySelector('#df-bd071cbe-bde9-42b8-884e-8c86bc745d78 button.colab-df-convert');\n",
              "      buttonEl.style.display =\n",
              "        google.colab.kernel.accessAllowed ? 'block' : 'none';\n",
              "\n",
              "      async function convertToInteractive(key) {\n",
              "        const element = document.querySelector('#df-bd071cbe-bde9-42b8-884e-8c86bc745d78');\n",
              "        const dataTable =\n",
              "          await google.colab.kernel.invokeFunction('convertToInteractive',\n",
              "                                                    [key], {});\n",
              "        if (!dataTable) return;\n",
              "\n",
              "        const docLinkHtml = 'Like what you see? Visit the ' +\n",
              "          '<a target=\"_blank\" href=https://colab.research.google.com/notebooks/data_table.ipynb>data table notebook</a>'\n",
              "          + ' to learn more about interactive tables.';\n",
              "        element.innerHTML = '';\n",
              "        dataTable['output_type'] = 'display_data';\n",
              "        await google.colab.output.renderOutput(dataTable, element);\n",
              "        const docLink = document.createElement('div');\n",
              "        docLink.innerHTML = docLinkHtml;\n",
              "        element.appendChild(docLink);\n",
              "      }\n",
              "    </script>\n",
              "  </div>\n",
              "\n",
              "\n",
              "<div id=\"df-c7e3b91f-6fb5-472e-8f7e-853348c580d0\">\n",
              "  <button class=\"colab-df-quickchart\" onclick=\"quickchart('df-c7e3b91f-6fb5-472e-8f7e-853348c580d0')\"\n",
              "            title=\"Suggest charts\"\n",
              "            style=\"display:none;\">\n",
              "\n",
              "<svg xmlns=\"http://www.w3.org/2000/svg\" height=\"24px\"viewBox=\"0 0 24 24\"\n",
              "     width=\"24px\">\n",
              "    <g>\n",
              "        <path d=\"M19 3H5c-1.1 0-2 .9-2 2v14c0 1.1.9 2 2 2h14c1.1 0 2-.9 2-2V5c0-1.1-.9-2-2-2zM9 17H7v-7h2v7zm4 0h-2V7h2v10zm4 0h-2v-4h2v4z\"/>\n",
              "    </g>\n",
              "</svg>\n",
              "  </button>\n",
              "\n",
              "<style>\n",
              "  .colab-df-quickchart {\n",
              "      --bg-color: #E8F0FE;\n",
              "      --fill-color: #1967D2;\n",
              "      --hover-bg-color: #E2EBFA;\n",
              "      --hover-fill-color: #174EA6;\n",
              "      --disabled-fill-color: #AAA;\n",
              "      --disabled-bg-color: #DDD;\n",
              "  }\n",
              "\n",
              "  [theme=dark] .colab-df-quickchart {\n",
              "      --bg-color: #3B4455;\n",
              "      --fill-color: #D2E3FC;\n",
              "      --hover-bg-color: #434B5C;\n",
              "      --hover-fill-color: #FFFFFF;\n",
              "      --disabled-bg-color: #3B4455;\n",
              "      --disabled-fill-color: #666;\n",
              "  }\n",
              "\n",
              "  .colab-df-quickchart {\n",
              "    background-color: var(--bg-color);\n",
              "    border: none;\n",
              "    border-radius: 50%;\n",
              "    cursor: pointer;\n",
              "    display: none;\n",
              "    fill: var(--fill-color);\n",
              "    height: 32px;\n",
              "    padding: 0;\n",
              "    width: 32px;\n",
              "  }\n",
              "\n",
              "  .colab-df-quickchart:hover {\n",
              "    background-color: var(--hover-bg-color);\n",
              "    box-shadow: 0 1px 2px rgba(60, 64, 67, 0.3), 0 1px 3px 1px rgba(60, 64, 67, 0.15);\n",
              "    fill: var(--button-hover-fill-color);\n",
              "  }\n",
              "\n",
              "  .colab-df-quickchart-complete:disabled,\n",
              "  .colab-df-quickchart-complete:disabled:hover {\n",
              "    background-color: var(--disabled-bg-color);\n",
              "    fill: var(--disabled-fill-color);\n",
              "    box-shadow: none;\n",
              "  }\n",
              "\n",
              "  .colab-df-spinner {\n",
              "    border: 2px solid var(--fill-color);\n",
              "    border-color: transparent;\n",
              "    border-bottom-color: var(--fill-color);\n",
              "    animation:\n",
              "      spin 1s steps(1) infinite;\n",
              "  }\n",
              "\n",
              "  @keyframes spin {\n",
              "    0% {\n",
              "      border-color: transparent;\n",
              "      border-bottom-color: var(--fill-color);\n",
              "      border-left-color: var(--fill-color);\n",
              "    }\n",
              "    20% {\n",
              "      border-color: transparent;\n",
              "      border-left-color: var(--fill-color);\n",
              "      border-top-color: var(--fill-color);\n",
              "    }\n",
              "    30% {\n",
              "      border-color: transparent;\n",
              "      border-left-color: var(--fill-color);\n",
              "      border-top-color: var(--fill-color);\n",
              "      border-right-color: var(--fill-color);\n",
              "    }\n",
              "    40% {\n",
              "      border-color: transparent;\n",
              "      border-right-color: var(--fill-color);\n",
              "      border-top-color: var(--fill-color);\n",
              "    }\n",
              "    60% {\n",
              "      border-color: transparent;\n",
              "      border-right-color: var(--fill-color);\n",
              "    }\n",
              "    80% {\n",
              "      border-color: transparent;\n",
              "      border-right-color: var(--fill-color);\n",
              "      border-bottom-color: var(--fill-color);\n",
              "    }\n",
              "    90% {\n",
              "      border-color: transparent;\n",
              "      border-bottom-color: var(--fill-color);\n",
              "    }\n",
              "  }\n",
              "</style>\n",
              "\n",
              "  <script>\n",
              "    async function quickchart(key) {\n",
              "      const quickchartButtonEl =\n",
              "        document.querySelector('#' + key + ' button');\n",
              "      quickchartButtonEl.disabled = true;  // To prevent multiple clicks.\n",
              "      quickchartButtonEl.classList.add('colab-df-spinner');\n",
              "      try {\n",
              "        const charts = await google.colab.kernel.invokeFunction(\n",
              "            'suggestCharts', [key], {});\n",
              "      } catch (error) {\n",
              "        console.error('Error during call to suggestCharts:', error);\n",
              "      }\n",
              "      quickchartButtonEl.classList.remove('colab-df-spinner');\n",
              "      quickchartButtonEl.classList.add('colab-df-quickchart-complete');\n",
              "    }\n",
              "    (() => {\n",
              "      let quickchartButtonEl =\n",
              "        document.querySelector('#df-c7e3b91f-6fb5-472e-8f7e-853348c580d0 button');\n",
              "      quickchartButtonEl.style.display =\n",
              "        google.colab.kernel.accessAllowed ? 'block' : 'none';\n",
              "    })();\n",
              "  </script>\n",
              "</div>\n",
              "\n",
              "    </div>\n",
              "  </div>\n"
            ],
            "application/vnd.google.colaboratory.intrinsic+json": {
              "type": "dataframe",
              "summary": "{\n  \"name\": \"df_clean\",\n  \"rows\": 8,\n  \"fields\": [\n    {\n      \"column\": \"State Code\",\n      \"properties\": {\n        \"dtype\": \"number\",\n        \"std\": 65400.72243400149,\n        \"min\": 1.0,\n        \"max\": 185012.0,\n        \"num_unique_values\": 8,\n        \"samples\": [\n          29.937420275441593,\n          30.0,\n          185012.0\n        ],\n        \"semantic_type\": \"\",\n        \"description\": \"\"\n      }\n    },\n    {\n      \"column\": \"County Code\",\n      \"properties\": {\n        \"dtype\": \"number\",\n        \"std\": 65352.84963512955,\n        \"min\": 1.0,\n        \"max\": 185012.0,\n        \"num_unique_values\": 8,\n        \"samples\": [\n          81.1892850193501,\n          59.0,\n          185012.0\n        ],\n        \"semantic_type\": \"\",\n        \"description\": \"\"\n      }\n    },\n    {\n      \"column\": \"AQI\",\n      \"properties\": {\n        \"dtype\": \"number\",\n        \"std\": 65372.238061732,\n        \"min\": 0.0,\n        \"max\": 185012.0,\n        \"num_unique_values\": 8,\n        \"samples\": [\n          43.47088837480812,\n          41.0,\n          185012.0\n        ],\n        \"semantic_type\": \"\",\n        \"description\": \"\"\n      }\n    },\n    {\n      \"column\": \"Number of Sites Reporting\",\n      \"properties\": {\n        \"dtype\": \"number\",\n        \"std\": 65409.49185205805,\n        \"min\": 1.0,\n        \"max\": 185012.0,\n        \"num_unique_values\": 6,\n        \"samples\": [\n          185012.0,\n          1.8784619376040472,\n          33.0\n        ],\n        \"semantic_type\": \"\",\n        \"description\": \"\"\n      }\n    },\n    {\n      \"column\": \"Month\",\n      \"properties\": {\n        \"dtype\": \"number\",\n        \"std\": 65410.08339124167,\n        \"min\": 1.0,\n        \"max\": 185012.0,\n        \"num_unique_values\": 8,\n        \"samples\": [\n          4.251826908524852,\n          4.0,\n          185012.0\n        ],\n        \"semantic_type\": \"\",\n        \"description\": \"\"\n      }\n    }\n  ]\n}"
            }
          },
          "metadata": {},
          "execution_count": 16
        }
      ]
    },
    {
      "cell_type": "code",
      "source": [
        "df_clean.info()"
      ],
      "metadata": {
        "colab": {
          "base_uri": "https://localhost:8080/"
        },
        "id": "DNBCxMk9DoBJ",
        "outputId": "3d146a5f-2464-4850-a339-0e9ba8f65ee4"
      },
      "execution_count": 17,
      "outputs": [
        {
          "output_type": "stream",
          "name": "stdout",
          "text": [
            "<class 'pandas.core.frame.DataFrame'>\n",
            "Int64Index: 185012 entries, 0 to 185016\n",
            "Data columns (total 12 columns):\n",
            " #   Column                     Non-Null Count   Dtype         \n",
            "---  ------                     --------------   -----         \n",
            " 0   State Name                 185012 non-null  object        \n",
            " 1   county Name                185012 non-null  object        \n",
            " 2   State Code                 185012 non-null  int64         \n",
            " 3   County Code                185012 non-null  int64         \n",
            " 4   Date                       185012 non-null  datetime64[ns]\n",
            " 5   AQI                        185012 non-null  int64         \n",
            " 6   Category                   185012 non-null  object        \n",
            " 7   Defining Parameter         185012 non-null  object        \n",
            " 8   Defining Site              185012 non-null  object        \n",
            " 9   Number of Sites Reporting  185012 non-null  int64         \n",
            " 10  Month                      185012 non-null  int64         \n",
            " 11  Season                     185012 non-null  object        \n",
            "dtypes: datetime64[ns](1), int64(5), object(6)\n",
            "memory usage: 18.3+ MB\n"
          ]
        }
      ]
    },
    {
      "cell_type": "code",
      "execution_count": 18,
      "metadata": {
        "vscode": {
          "languageId": "plaintext"
        },
        "id": "D3XGSwbW7xfd"
      },
      "outputs": [],
      "source": [
        "#select final columns for use"
      ]
    },
    {
      "cell_type": "code",
      "source": [
        "columns_to_keep = ['Month','AQI','State Name','Season']"
      ],
      "metadata": {
        "id": "VLDRixhJCecL"
      },
      "execution_count": 19,
      "outputs": []
    },
    {
      "cell_type": "code",
      "source": [
        "df_keep = df_clean[columns_to_keep]"
      ],
      "metadata": {
        "id": "Ui1_M5WRETu7"
      },
      "execution_count": 20,
      "outputs": []
    },
    {
      "cell_type": "code",
      "source": [
        "df_keep.info()"
      ],
      "metadata": {
        "colab": {
          "base_uri": "https://localhost:8080/"
        },
        "id": "mjXrfR7xEcwz",
        "outputId": "5273b7c4-5a2e-40df-fed1-255fd7b36af4"
      },
      "execution_count": 21,
      "outputs": [
        {
          "output_type": "stream",
          "name": "stdout",
          "text": [
            "<class 'pandas.core.frame.DataFrame'>\n",
            "Int64Index: 185012 entries, 0 to 185016\n",
            "Data columns (total 4 columns):\n",
            " #   Column      Non-Null Count   Dtype \n",
            "---  ------      --------------   ----- \n",
            " 0   Month       185012 non-null  int64 \n",
            " 1   AQI         185012 non-null  int64 \n",
            " 2   State Name  185012 non-null  object\n",
            " 3   Season      185012 non-null  object\n",
            "dtypes: int64(2), object(2)\n",
            "memory usage: 7.1+ MB\n"
          ]
        }
      ]
    },
    {
      "cell_type": "markdown",
      "metadata": {
        "id": "GaQocNkG7xfe"
      },
      "source": [
        "## Create Regression\n",
        "\n",
        "➡️ Assignment Tasks\n",
        "- Create a simple linear regression to predict AQI based on as many variables as you can use or derive.\n",
        "- Visualize the regression"
      ]
    },
    {
      "cell_type": "code",
      "execution_count": 22,
      "metadata": {
        "vscode": {
          "languageId": "plaintext"
        },
        "id": "ush6_Ibo7xfe"
      },
      "outputs": [],
      "source": [
        "#create regression"
      ]
    },
    {
      "cell_type": "code",
      "source": [
        "X = df_keep[['Month']]\n",
        "y = df_keep['AQI']\n",
        "\n",
        "X_train, X_test, y_train, y_test = train_test_split(X, y, test_size=0.2, random_state=42)\n",
        "\n",
        "model = LinearRegression()\n",
        "model.fit(X_train, y_train)\n",
        "\n",
        "y_pred_train = model.predict(X_train)\n",
        "y_pred_test = model.predict(X_test)\n",
        "\n",
        "# Plotting\n",
        "plt.figure(figsize=(10, 6))\n",
        "\n",
        "plt.plot(X_train, y_pred_train, color='red', label='Linear Regression')\n",
        "\n",
        "plt.xlabel('Month')\n",
        "plt.ylabel('AQI')\n",
        "plt.title('Linear Regression Only')\n",
        "plt.legend()\n",
        "\n",
        "plt.show()"
      ],
      "metadata": {
        "colab": {
          "base_uri": "https://localhost:8080/",
          "height": 564
        },
        "id": "Sa8U_Ml1cOAD",
        "outputId": "50c88d95-0e4c-4525-f8e6-7db2a3e5e06a"
      },
      "execution_count": 31,
      "outputs": [
        {
          "output_type": "display_data",
          "data": {
            "text/plain": [
              "<Figure size 1000x600 with 1 Axes>"
            ],
            "image/png": "[encoded data removed]"
          },
          "metadata": {}
        }
      ]
    },
    {
      "cell_type": "code",
      "execution_count": 23,
      "metadata": {
        "vscode": {
          "languageId": "plaintext"
        },
        "id": "204UJo0F7xff"
      },
      "outputs": [],
      "source": [
        "#visual"
      ]
    },
    {
      "cell_type": "code",
      "source": [
        "\n",
        "plt.figure(figsize=(10, 6))\n",
        "##making the scatterplot\n",
        "plt.scatter(X_train, y_train, color='yellow', label='Training Data')\n",
        "plt.scatter(X_test, y_test, color='blue', label='Testing Data')\n",
        "\n",
        "##put regression line in\n",
        "plt.plot(X_train, y_pred_train, color='red', label='Linear Regression')\n",
        "\n",
        "plt.xlabel('Month')\n",
        "plt.ylabel('AQI')\n",
        "plt.title('Linear Regression - AQI Prediction based on Month')\n",
        "plt.legend()\n",
        "\n",
        "plt.show()"
      ],
      "metadata": {
        "colab": {
          "base_uri": "https://localhost:8080/",
          "height": 564
        },
        "id": "KlEtiljcebTz",
        "outputId": "1131c645-f52c-4a9f-defe-0b20dad5780e"
      },
      "execution_count": 37,
      "outputs": [
        {
          "output_type": "display_data",
          "data": {
            "text/plain": [
              "<Figure size 1000x600 with 1 Axes>"
            ],
            "image/png": "[encoded data removed]"
          },
          "metadata": {}
        }
      ]
    },
    {
      "cell_type": "markdown",
      "metadata": {
        "id": "gzsPxbeH7xfg"
      },
      "source": [
        "## Make a prediction\n",
        "\n",
        "➡️ Assignment Tasks\n",
        "- What would you predict the average AQI to be in the month of January?  "
      ]
    },
    {
      "cell_type": "code",
      "source": [
        "predicted_aqi_january = model.predict(np.array([[1]]))\n",
        "\n",
        "print(\"Predicted AQI for the month of January:\", predicted_aqi_january[0])"
      ],
      "metadata": {
        "colab": {
          "base_uri": "https://localhost:8080/"
        },
        "id": "1AfYyFRfffbn",
        "outputId": "2eee83ad-7c06-499a-b7cf-1907d052986f"
      },
      "execution_count": 32,
      "outputs": [
        {
          "output_type": "stream",
          "name": "stdout",
          "text": [
            "Predicted AQI for the month of January: 36.37272198955293\n"
          ]
        },
        {
          "output_type": "stream",
          "name": "stderr",
          "text": [
            "/usr/local/lib/python3.10/dist-packages/sklearn/base.py:439: UserWarning: X does not have valid feature names, but LinearRegression was fitted with feature names\n",
            "  warnings.warn(\n"
          ]
        }
      ]
    },
    {
      "cell_type": "markdown",
      "source": [
        "**Jan prediction: 36.37272**"
      ],
      "metadata": {
        "id": "sRL-aR8Tf5tT"
      }
    },
    {
      "cell_type": "markdown",
      "metadata": {
        "id": "PMlHpaP37xfh"
      },
      "source": [
        "## OPTIONAL: Compare Air Quality\n",
        "\n",
        "➡️ Assignment Tasks\n",
        "- Download the data from a year 20 years prior, using this website: https://aqs.epa.gov/aqsweb/airdata/download_files.html#AQI\n",
        "- Append the new data to the previous dataframe\n",
        "- Use the year as a variable in your regression.  Is year a significant factor in predicting AQI?"
      ]
    },
    {
      "cell_type": "code",
      "execution_count": 24,
      "metadata": {
        "vscode": {
          "languageId": "plaintext"
        },
        "id": "yVapSgKs7xfi"
      },
      "outputs": [],
      "source": [
        "#import, append and create new model"
      ]
    }
  ],
  "metadata": {
    "language_info": {
      "name": "python"
    },
    "colab": {
      "provenance": [],
      "include_colab_link": true
    },
    "kernelspec": {
      "name": "python3",
      "display_name": "Python 3"
    }
  },
  "nbformat": 4,
  "nbformat_minor": 0
}