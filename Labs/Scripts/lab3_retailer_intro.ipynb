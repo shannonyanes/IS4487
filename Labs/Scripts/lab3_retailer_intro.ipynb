{
  "cells": [
    {
      "cell_type": "markdown",
      "metadata": {
        "id": "view-in-github",
        "colab_type": "text"
      },
      "source": [
        "<a href=\"https://colab.research.google.com/github/shannonyanes/IS4487/blob/main/Labs/Scripts/lab3_retailer_intro.ipynb\" target=\"_parent\"><img src=\"https://colab.research.google.com/assets/colab-badge.svg\" alt=\"Open In Colab\"/></a>"
      ]
    },
    {
      "cell_type": "markdown",
      "metadata": {
        "id": "jTO34INxryiR"
      },
      "source": [
        "# IS 4487 Lab 3\n",
        "\n",
        "## Outline\n",
        "\n",
        "Repeat exercises from Lab 2, but with the *SuperStore Retail Orders* dataset\n",
        "- Loading installed packages\n",
        "- Inspect data\n",
        "- Explore plot types\n",
        "\n",
        "<a href=\"https://colab.research.google.com/github/Stan-Pugsley/is_4487_base/blob/main/Labs/Scripts/lab3_retailer_intro.ipynb\" target=\"_parent\"><img src=\"https://colab.research.google.com/assets/colab-badge.svg\" alt=\"Open In Colab\"/></a>"
      ]
    },
    {
      "cell_type": "markdown",
      "metadata": {
        "id": "TA7wzybRryid"
      },
      "source": [
        "## Load Libraries\n",
        "\n",
        "➡️ Assignment Tasks\n",
        "- Load any necessary libraries"
      ]
    },
    {
      "cell_type": "code",
      "execution_count": 2,
      "metadata": {
        "vscode": {
          "languageId": "plaintext"
        },
        "id": "YwtOr_Xnryif",
        "outputId": "75f8849e-d52a-4be7-f1c3-401aca52fb28",
        "colab": {
          "base_uri": "https://localhost:8080/"
        }
      },
      "outputs": [
        {
          "output_type": "stream",
          "name": "stdout",
          "text": [
            "Mounted at /content/drive\n"
          ]
        }
      ],
      "source": [
        "from google.colab import drive\n",
        "drive.mount('/content/drive')"
      ]
    },
    {
      "cell_type": "code",
      "source": [
        "import pandas as pd\n",
        "import matplotlib as mpl\n",
        "import sklearn as sl\n",
        "from matplotlib import pyplot as plt"
      ],
      "metadata": {
        "id": "bE7a4hU0srOl"
      },
      "execution_count": 26,
      "outputs": []
    },
    {
      "cell_type": "markdown",
      "metadata": {
        "id": "MBcZ-aU8ryih"
      },
      "source": [
        "## Import Data into Dataframe\n",
        "\n",
        "➡️ Assignment Tasks\n",
        "- Import data from the SuperStore retail dataset into a dataframe (in GitHub go to Labs > DataSets)\n",
        "- Describe or profile the dataframe"
      ]
    },
    {
      "cell_type": "code",
      "execution_count": 4,
      "metadata": {
        "vscode": {
          "languageId": "plaintext"
        },
        "id": "kmVdI7Glryii",
        "outputId": "a0e1d129-13d2-474e-c115-c9e819f692e8",
        "colab": {
          "base_uri": "https://localhost:8080/"
        }
      },
      "outputs": [
        {
          "output_type": "stream",
          "name": "stdout",
          "text": [
            "Mounted at /content/gdrive\n",
            "      customer_id      customer_name          address_line_1          city  \\\n",
            "0              67      Gordy Matteau     59 Northland Circle    Wilmington   \n",
            "1             201     Cort Paskerful         769 Buell Drive    Huntsville   \n",
            "2              45    Willetta Lumley       41 Ridgeway Alley        Irvine   \n",
            "3             106   Alison Batterton           489 Erie Hill      Richmond   \n",
            "4             357  Martelle Paxeford    451 Manitowish Place      Richmond   \n",
            "...           ...                ...                     ...           ...   \n",
            "9564          637  Jayson Andriessen  0819 Crownhardt Circle     Allentown   \n",
            "9565          370    Darby Tesseyman     7468 Jackson Circle        Albany   \n",
            "9566          598   Henka De Ferrari      89 Sunnyside Drive  Redwood City   \n",
            "9567          737    Tommie Penvarne    9630 Washington Hill     Watertown   \n",
            "9568          482       Matelda Bull      6406 Bultman Alley  Gaithersburg   \n",
            "\n",
            "      state_province  postal_code  order_id  order_date  customer_id.1  \\\n",
            "0                DE       19805.0      1001  2020-01-11             67   \n",
            "1                AL       35810.0      1002  2019-11-22            201   \n",
            "2                CA       92612.0      1003  2019-09-17             45   \n",
            "3                VA       23293.0      1004  2019-12-09            106   \n",
            "4                VA       23293.0      1005  2019-06-08            357   \n",
            "...              ...          ...       ...         ...            ...   \n",
            "9564  Pennsylvania            NaN      8143  2021-06-13            637   \n",
            "9565             NY       12210.0      8144  2021-06-16            370   \n",
            "9566     California       94064.0      8145  2021-05-09            598   \n",
            "9567  Massachusetts        2472.0      8146  2021-04-13            737   \n",
            "9568       Maryland       20883.0      8147  2021-03-21            482   \n",
            "\n",
            "      order_id.1  product_id  quantity  product_id.1            product_name  \\\n",
            "0           1001         106       3.0           106       Great value Juice   \n",
            "1           1002         104       2.0           104                    Desk   \n",
            "2           1003         107       5.0           107          Dove deodorant   \n",
            "3           1004         106       8.0           106       Great value Juice   \n",
            "4           1005         107       7.0           107          Dove deodorant   \n",
            "...          ...         ...       ...           ...                     ...   \n",
            "9564        8143         113      16.0           113          Extension cord   \n",
            "9565        8144         109       1.0           109  Samsung Galaxy Note 10   \n",
            "9566        8145         110       1.0           110         Apple iPad Mini   \n",
            "9567        8146         113       2.0           113          Extension cord   \n",
            "9568        8147         113       5.0           113          Extension cord   \n",
            "\n",
            "     product_price total_amount order_year_month order_month  \n",
            "0            $1.99        $5.97          2020-01    January   \n",
            "1           $85.98      $171.96          2019-11   November   \n",
            "2            $3.99       $19.95          2019-09   September  \n",
            "3            $1.99       $15.92          2019-12   December   \n",
            "4            $3.99       $27.93          2019-06       June   \n",
            "...            ...          ...              ...         ...  \n",
            "9564        $15.59      $249.44          2021-06       June   \n",
            "9565       $749.99      $749.99          2021-06       June   \n",
            "9566       $329.99      $329.99          2021-05        May   \n",
            "9567        $15.59       $31.18          2021-04      April   \n",
            "9568        $15.59       $77.95          2021-03      March   \n",
            "\n",
            "[9569 rows x 18 columns]\n"
          ]
        }
      ],
      "source": [
        "from google.colab import drive\n",
        "drive.mount('/content/gdrive', force_remount=True)\n",
        "\n",
        "df = pd.read_csv (r'/content/gdrive/MyDrive/Colab Notebooks/superstore_retail_orders.csv')\n",
        "\n",
        "print (df)"
      ]
    },
    {
      "cell_type": "code",
      "source": [
        "df.info()"
      ],
      "metadata": {
        "id": "06ig36AltDJd",
        "outputId": "a1ee257c-bdcc-4d9e-addc-a7ee1f582a92",
        "colab": {
          "base_uri": "https://localhost:8080/"
        }
      },
      "execution_count": 5,
      "outputs": [
        {
          "output_type": "stream",
          "name": "stdout",
          "text": [
            "<class 'pandas.core.frame.DataFrame'>\n",
            "RangeIndex: 9569 entries, 0 to 9568\n",
            "Data columns (total 18 columns):\n",
            " #   Column            Non-Null Count  Dtype  \n",
            "---  ------            --------------  -----  \n",
            " 0   customer_id       9569 non-null   int64  \n",
            " 1   customer_name     9569 non-null   object \n",
            " 2   address_line_1    9448 non-null   object \n",
            " 3   city              9516 non-null   object \n",
            " 4   state_province    9569 non-null   object \n",
            " 5   postal_code       9416 non-null   float64\n",
            " 6   order_id          9569 non-null   int64  \n",
            " 7   order_date        9312 non-null   object \n",
            " 8   customer_id.1     9569 non-null   int64  \n",
            " 9   order_id.1        9569 non-null   int64  \n",
            " 10  product_id        9569 non-null   int64  \n",
            " 11  quantity          9513 non-null   float64\n",
            " 12  product_id.1      9569 non-null   int64  \n",
            " 13  product_name      9569 non-null   object \n",
            " 14  product_price     9569 non-null   object \n",
            " 15  total_amount      9513 non-null   object \n",
            " 16  order_year_month  9312 non-null   object \n",
            " 17  order_month       9312 non-null   object \n",
            "dtypes: float64(2), int64(6), object(10)\n",
            "memory usage: 1.3+ MB\n"
          ]
        }
      ]
    },
    {
      "cell_type": "markdown",
      "metadata": {
        "id": "wA68A8A-ryii"
      },
      "source": [
        "## Prepare Data\n",
        "\n",
        "➡️ Assignment Tasks\n",
        "- Convert the Total_Amount into a number (not a string)\n",
        "- Remove rows with empty (NULL) values\n",
        "- Optional: Locate outliers in any of the variables.   Filter them out if they are mistakes; keep them if they are exceptional cases."
      ]
    },
    {
      "cell_type": "code",
      "execution_count": 6,
      "metadata": {
        "vscode": {
          "languageId": "plaintext"
        },
        "id": "03VLOWL0ryij"
      },
      "outputs": [],
      "source": [
        "df['total_amount'] = pd.to_numeric(df['total_amount'].replace('[\\$,]', '', regex=True), errors='coerce')\n",
        "\n",
        "df = df.dropna()"
      ]
    },
    {
      "cell_type": "code",
      "source": [
        "df['product_price'] = pd.to_numeric(df['product_price'].replace('[\\$,]', '', regex=True), errors='coerce')\n",
        "\n",
        "df = df.dropna()"
      ],
      "metadata": {
        "id": "8bih1AU_ycpe",
        "outputId": "f192114b-b563-4829-a09c-4f20f958a770",
        "colab": {
          "base_uri": "https://localhost:8080/"
        }
      },
      "execution_count": 7,
      "outputs": [
        {
          "output_type": "stream",
          "name": "stderr",
          "text": [
            "<ipython-input-7-761271405493>:1: SettingWithCopyWarning: \n",
            "A value is trying to be set on a copy of a slice from a DataFrame.\n",
            "Try using .loc[row_indexer,col_indexer] = value instead\n",
            "\n",
            "See the caveats in the documentation: https://pandas.pydata.org/pandas-docs/stable/user_guide/indexing.html#returning-a-view-versus-a-copy\n",
            "  df['product_price'] = pd.to_numeric(df['product_price'].replace('[\\$,]', '', regex=True), errors='coerce')\n"
          ]
        }
      ]
    },
    {
      "cell_type": "code",
      "source": [
        "df.info()"
      ],
      "metadata": {
        "id": "2O4TefAOuF2E",
        "outputId": "dc89cbae-7729-4590-fb7d-5c8c5acd2026",
        "colab": {
          "base_uri": "https://localhost:8080/"
        }
      },
      "execution_count": 8,
      "outputs": [
        {
          "output_type": "stream",
          "name": "stdout",
          "text": [
            "<class 'pandas.core.frame.DataFrame'>\n",
            "Int64Index: 8981 entries, 0 to 9568\n",
            "Data columns (total 18 columns):\n",
            " #   Column            Non-Null Count  Dtype  \n",
            "---  ------            --------------  -----  \n",
            " 0   customer_id       8981 non-null   int64  \n",
            " 1   customer_name     8981 non-null   object \n",
            " 2   address_line_1    8981 non-null   object \n",
            " 3   city              8981 non-null   object \n",
            " 4   state_province    8981 non-null   object \n",
            " 5   postal_code       8981 non-null   float64\n",
            " 6   order_id          8981 non-null   int64  \n",
            " 7   order_date        8981 non-null   object \n",
            " 8   customer_id.1     8981 non-null   int64  \n",
            " 9   order_id.1        8981 non-null   int64  \n",
            " 10  product_id        8981 non-null   int64  \n",
            " 11  quantity          8981 non-null   float64\n",
            " 12  product_id.1      8981 non-null   int64  \n",
            " 13  product_name      8981 non-null   object \n",
            " 14  product_price     8981 non-null   float64\n",
            " 15  total_amount      8981 non-null   float64\n",
            " 16  order_year_month  8981 non-null   object \n",
            " 17  order_month       8981 non-null   object \n",
            "dtypes: float64(4), int64(6), object(8)\n",
            "memory usage: 1.3+ MB\n"
          ]
        }
      ]
    },
    {
      "cell_type": "code",
      "source": [
        "print (df)"
      ],
      "metadata": {
        "id": "XfEIupvfwD1t",
        "outputId": "f8fb44cc-a318-4fa3-8c5e-b497d80836e7",
        "colab": {
          "base_uri": "https://localhost:8080/"
        }
      },
      "execution_count": 9,
      "outputs": [
        {
          "output_type": "stream",
          "name": "stdout",
          "text": [
            "      customer_id      customer_name        address_line_1          city  \\\n",
            "0              67      Gordy Matteau   59 Northland Circle    Wilmington   \n",
            "1             201     Cort Paskerful       769 Buell Drive    Huntsville   \n",
            "2              45    Willetta Lumley     41 Ridgeway Alley        Irvine   \n",
            "3             106   Alison Batterton         489 Erie Hill      Richmond   \n",
            "4             357  Martelle Paxeford  451 Manitowish Place      Richmond   \n",
            "...           ...                ...                   ...           ...   \n",
            "9561          240     Barnard Hatley        5541 Kim Alley        Duluth   \n",
            "9565          370    Darby Tesseyman   7468 Jackson Circle        Albany   \n",
            "9566          598   Henka De Ferrari    89 Sunnyside Drive  Redwood City   \n",
            "9567          737    Tommie Penvarne  9630 Washington Hill     Watertown   \n",
            "9568          482       Matelda Bull    6406 Bultman Alley  Gaithersburg   \n",
            "\n",
            "      state_province  postal_code  order_id  order_date  customer_id.1  \\\n",
            "0                DE       19805.0      1001  2020-01-11             67   \n",
            "1                AL       35810.0      1002  2019-11-22            201   \n",
            "2                CA       92612.0      1003  2019-09-17             45   \n",
            "3                VA       23293.0      1004  2019-12-09            106   \n",
            "4                VA       23293.0      1005  2019-06-08            357   \n",
            "...              ...          ...       ...         ...            ...   \n",
            "9561             GA       30195.0      8140  2021-03-04            240   \n",
            "9565             NY       12210.0      8144  2021-06-16            370   \n",
            "9566     California       94064.0      8145  2021-05-09            598   \n",
            "9567  Massachusetts        2472.0      8146  2021-04-13            737   \n",
            "9568       Maryland       20883.0      8147  2021-03-21            482   \n",
            "\n",
            "      order_id.1  product_id  quantity  product_id.1            product_name  \\\n",
            "0           1001         106       3.0           106       Great value Juice   \n",
            "1           1002         104       2.0           104                    Desk   \n",
            "2           1003         107       5.0           107          Dove deodorant   \n",
            "3           1004         106       8.0           106       Great value Juice   \n",
            "4           1005         107       7.0           107          Dove deodorant   \n",
            "...          ...         ...       ...           ...                     ...   \n",
            "9561        8140         110       1.0           110         Apple iPad Mini   \n",
            "9565        8144         109       1.0           109  Samsung Galaxy Note 10   \n",
            "9566        8145         110       1.0           110         Apple iPad Mini   \n",
            "9567        8146         113       2.0           113          Extension cord   \n",
            "9568        8147         113       5.0           113          Extension cord   \n",
            "\n",
            "      product_price  total_amount order_year_month order_month  \n",
            "0              1.99          5.97          2020-01    January   \n",
            "1             85.98        171.96          2019-11   November   \n",
            "2              3.99         19.95          2019-09   September  \n",
            "3              1.99         15.92          2019-12   December   \n",
            "4              3.99         27.93          2019-06       June   \n",
            "...             ...           ...              ...         ...  \n",
            "9561         329.99        329.99          2021-03      March   \n",
            "9565         749.99        749.99          2021-06       June   \n",
            "9566         329.99        329.99          2021-05        May   \n",
            "9567          15.59         31.18          2021-04      April   \n",
            "9568          15.59         77.95          2021-03      March   \n",
            "\n",
            "[8981 rows x 18 columns]\n"
          ]
        }
      ]
    },
    {
      "cell_type": "markdown",
      "metadata": {
        "id": "8aTezA33ryil"
      },
      "source": [
        "## Summarize Data\n",
        "\n",
        "➡️ Assignment Tasks\n",
        "- Display the average price per month\n",
        "- Display the total revenue for all months"
      ]
    },
    {
      "cell_type": "code",
      "execution_count": 10,
      "metadata": {
        "vscode": {
          "languageId": "plaintext"
        },
        "id": "y_Dgjf_jryio"
      },
      "outputs": [],
      "source": [
        "#average price"
      ]
    },
    {
      "cell_type": "code",
      "source": [
        "dfavgprice= df[['product_price','order_month']]"
      ],
      "metadata": {
        "id": "vlGJCjb8PSLA"
      },
      "execution_count": 11,
      "outputs": []
    },
    {
      "cell_type": "code",
      "source": [
        "\n",
        "avgprice = dfavgprice.groupby('order_month')['product_price'].mean()"
      ],
      "metadata": {
        "id": "3Alu1g1ouL2I"
      },
      "execution_count": 12,
      "outputs": []
    },
    {
      "cell_type": "code",
      "source": [
        "avgprice.info"
      ],
      "metadata": {
        "id": "-xaUYS4Ezvkx",
        "outputId": "1c8eb3f1-2c90-4698-91c1-2808d39cc86a",
        "colab": {
          "base_uri": "https://localhost:8080/"
        }
      },
      "execution_count": 13,
      "outputs": [
        {
          "output_type": "execute_result",
          "data": {
            "text/plain": [
              "<bound method Series.info of order_month\n",
              "April        299.760160\n",
              "August       293.173883\n",
              "December     283.992620\n",
              "February     283.792108\n",
              "January      265.446161\n",
              "July         270.360883\n",
              "June         307.944639\n",
              "March        277.310963\n",
              "May          295.478285\n",
              "November     276.719409\n",
              "October      328.592027\n",
              "September    296.696968\n",
              "Name: product_price, dtype: float64>"
            ]
          },
          "metadata": {},
          "execution_count": 13
        }
      ]
    },
    {
      "cell_type": "code",
      "source": [
        "fig,axs = plt.subplots(1,1, figsize=(6,3))\n",
        "avgprice.plot(kind='bar', ax=axs)\n",
        "axs.set_title('Average Price per Month')\n",
        "axs.set_ylabel(\"Avg Price\")\n",
        "plt.show()"
      ],
      "metadata": {
        "id": "tox9tfAzuL5L",
        "outputId": "0d9bd3ac-2fe4-4799-e734-3969df49b869",
        "colab": {
          "base_uri": "https://localhost:8080/",
          "height": 396
        }
      },
      "execution_count": 28,
      "outputs": [
        {
          "output_type": "display_data",
          "data": {
            "text/plain": [
              "<Figure size 600x300 with 1 Axes>"
            ],
            "image/png": "[encoded data removed]"
          },
          "metadata": {}
        }
      ]
    },
    {
      "cell_type": "code",
      "execution_count": 16,
      "metadata": {
        "vscode": {
          "languageId": "plaintext"
        },
        "id": "xPPMQJD2ryir"
      },
      "outputs": [],
      "source": [
        "#total revenue"
      ]
    },
    {
      "cell_type": "code",
      "source": [
        "dftotalrev= df[['order_year_month','total_amount']]"
      ],
      "metadata": {
        "id": "w8HQ_Z0UtVDC"
      },
      "execution_count": 18,
      "outputs": []
    },
    {
      "cell_type": "code",
      "source": [
        "totalrev = dftotalrev.groupby('order_year_month')['total_amount'].sum()"
      ],
      "metadata": {
        "id": "JKqma1ZAtuHb"
      },
      "execution_count": 22,
      "outputs": []
    },
    {
      "cell_type": "code",
      "source": [
        "totalrev.info"
      ],
      "metadata": {
        "id": "o9QzzMiYt9xM",
        "outputId": "b75b5d5a-bf15-4650-ad9c-93e629c82bd7",
        "colab": {
          "base_uri": "https://localhost:8080/"
        }
      },
      "execution_count": 23,
      "outputs": [
        {
          "output_type": "execute_result",
          "data": {
            "text/plain": [
              "<bound method Series.info of order_year_month\n",
              "2019-02     63785.07\n",
              "2019-03    210261.46\n",
              "2019-04    239062.11\n",
              "2019-05    231703.01\n",
              "2019-06    242822.69\n",
              "2019-07    203543.83\n",
              "2019-08    230135.80\n",
              "2019-09    198513.63\n",
              "2019-10    238674.58\n",
              "2019-11    208079.16\n",
              "2019-12    219359.45\n",
              "2020-01    180312.31\n",
              "2020-02    135898.78\n",
              "2020-03     32771.50\n",
              "2020-04     52323.70\n",
              "2020-05     51701.74\n",
              "2020-06     41903.60\n",
              "2020-07     37281.10\n",
              "2020-08     48808.88\n",
              "2020-09     45558.78\n",
              "2020-10     39963.98\n",
              "2020-11     43643.86\n",
              "2020-12     32974.41\n",
              "2021-01     41149.47\n",
              "2021-02      1106.19\n",
              "2021-03      3352.33\n",
              "2021-04      4649.84\n",
              "2021-05      2948.02\n",
              "2021-06      3457.14\n",
              "2021-07      2374.08\n",
              "2021-08      1364.69\n",
              "Name: total_amount, dtype: float64>"
            ]
          },
          "metadata": {},
          "execution_count": 23
        }
      ]
    },
    {
      "cell_type": "code",
      "source": [
        "fig,axs = plt.subplots(1,1, figsize=(6,3))\n",
        "totalrev.plot(kind='bar', ax=axs)\n",
        "axs.set_title('Total Revenue for all months')\n",
        "axs.set_ylabel(\"Total Revenue\")\n",
        "plt.show()"
      ],
      "metadata": {
        "id": "DVjQFJTavTnv",
        "outputId": "e623b8f2-5712-4bb6-afc4-490e5d2dca74",
        "colab": {
          "base_uri": "https://localhost:8080/",
          "height": 377
        }
      },
      "execution_count": 30,
      "outputs": [
        {
          "output_type": "display_data",
          "data": {
            "text/plain": [
              "<Figure size 600x300 with 1 Axes>"
            ],
            "image/png": "[encoded data removed]"
          },
          "metadata": {}
        }
      ]
    }
  ],
  "metadata": {
    "language_info": {
      "name": "python"
    },
    "colab": {
      "provenance": [],
      "include_colab_link": true
    },
    "kernelspec": {
      "name": "python3",
      "display_name": "Python 3"
    }
  },
  "nbformat": 4,
  "nbformat_minor": 0
}