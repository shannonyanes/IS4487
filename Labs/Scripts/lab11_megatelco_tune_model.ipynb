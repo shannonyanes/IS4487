{
  "cells": [
    {
      "cell_type": "markdown",
      "metadata": {
        "id": "view-in-github",
        "colab_type": "text"
      },
      "source": [
        "<a href=\"https://colab.research.google.com/github/shannonyanes/IS4487/blob/main/Labs/Scripts/lab11_megatelco_tune_model.ipynb\" target=\"_parent\"><img src=\"https://colab.research.google.com/assets/colab-badge.svg\" alt=\"Open In Colab\"/></a>"
      ]
    },
    {
      "cell_type": "markdown",
      "metadata": {
        "id": "p_Yu45OYdj3Y"
      },
      "source": [
        "# IS 4487 Lab 11\n",
        "\n",
        "## Outline\n",
        "\n",
        "What do you need to know for this module's project?\n",
        "\n",
        "1. Fit a tree model using all the available predictors.\n",
        "2. Create a confusion matrix  and identify numbers of TP, FP, TN and FN.\n",
        "3. Estimate profit (benefits - costs) using a defined cost-benefit matrix and the above confusion matrix.\n",
        "4. Estimate profit for a strategy that consists in calling everyone.\n",
        "5. Estimate profit for a class decision threshold of .3\n",
        "6.  Use the model to predict on a new dataset (without the target), then use these predictions to identify those who should be called--a contact list.\n",
        "7.  Make a recommendation to the Director of Sales based on your analytic work.\n",
        "\n",
        "**NOTE:** For the module 5 project you will predict answering for prospective customers (who have not yet been called). Consequently, the assignment requires an additional dataset, customer_data.csv, that you will need to download and move into your project folder.  Here is code to load that data into memory after you have it saved in your project folder (your working directory). This code is included in the template script.\n",
        "\n",
        "<a href=\"https://colab.research.google.com/github/Stan-Pugsley/is_4487_base/blob/main/Labs/Scripts/lab11_megatelco_tune_model.ipynb\" target=\"_parent\"><img src=\"https://colab.research.google.com/assets/colab-badge.svg\" alt=\"Open In Colab\"/></a>"
      ]
    },
    {
      "cell_type": "markdown",
      "metadata": {
        "id": "UE93RwXhgiJS"
      },
      "source": [
        "##Load Libraries\n",
        "\n",
        "In this class we will be using\n",
        "- Pandas\n",
        "- Scikitlearn\n",
        "- Matplotlib\n"
      ]
    },
    {
      "cell_type": "code",
      "execution_count": 1,
      "metadata": {
        "id": "JYRZY5n0gfNe"
      },
      "outputs": [],
      "source": [
        "import pandas as pd\n",
        "import matplotlib as mpl\n",
        "import seaborn as sns\n",
        "\n",
        "from sklearn.tree import DecisionTreeClassifier, export_graphviz # Import Decision Tree Classifier\n",
        "from sklearn.model_selection import train_test_split # Import train_test_split function\n",
        "from sklearn import metrics  #Import scikit-learn metrics module for accuracy calculation\n",
        "from sklearn.metrics import confusion_matrix\n"
      ]
    },
    {
      "cell_type": "markdown",
      "metadata": {
        "id": "bREaXo8jfu-O"
      },
      "source": [
        "## Getting data into Pandas\n",
        "\n",
        "In this case we will load data from the statsmodels.org library\n",
        "\n",
        "See the Canvas assignments and lectures for a description of the Megatelco_leave_survey.csv data\n",
        "\n",
        "**Note:** you will need to enter a code supplied by Google in the next step.\n"
      ]
    },
    {
      "cell_type": "code",
      "execution_count": 3,
      "metadata": {
        "colab": {
          "base_uri": "https://localhost:8080/"
        },
        "id": "6_FwprxVgR0e",
        "outputId": "00ec94f5-fa65-40b9-fbe9-5c0992f64a0f"
      },
      "outputs": [
        {
          "output_type": "stream",
          "name": "stdout",
          "text": [
            "Mounted at /content/gdrive\n"
          ]
        }
      ],
      "source": [
        "from google.colab import drive\n",
        "drive.mount('/content/gdrive', force_remount=True)\n",
        "\n",
        "df = pd.read_csv (r'/content/gdrive/MyDrive/Colab Notebooks/megatelco_leave_survey.csv')\n"
      ]
    },
    {
      "cell_type": "code",
      "execution_count": 4,
      "metadata": {
        "colab": {
          "base_uri": "https://localhost:8080/",
          "height": 383
        },
        "id": "gSvao0dlhlNn",
        "outputId": "cddf3548-56de-4c6b-cbfd-2a12a8401c6e"
      },
      "outputs": [
        {
          "output_type": "execute_result",
          "data": {
            "text/plain": [
              "  college  income  overage  leftover   house  handset_price  \\\n",
              "0     one   23859       70         0  519105            154   \n",
              "1    zero   72466       67        16  271182            262   \n",
              "2    zero   30883       60         0  647281            211   \n",
              "3     one   44512        0        22  754958            232   \n",
              "4    zero   70535        0         0  653421            310   \n",
              "5    zero  143987        0        56  896544            778   \n",
              "6     one   96668       79        24  259329            365   \n",
              "7     one   50083        0         0  160335            266   \n",
              "8     one  104392        0         0  247836            778   \n",
              "9     one   37852        0        74  264893            857   \n",
              "\n",
              "   over_15mins_calls_per_month  average_call_duration reported_satisfaction  \\\n",
              "0                          5.0                      8                   low   \n",
              "1                          5.0                      5                   low   \n",
              "2                          3.0                      8                   low   \n",
              "3                          0.0                      5                   low   \n",
              "4                          0.0                     14                   low   \n",
              "5                          5.0                      1                   low   \n",
              "6                          5.0                      6                   low   \n",
              "7                          5.0                     10                   low   \n",
              "8                          1.0                      8                  high   \n",
              "9                          0.0                      2                   low   \n",
              "\n",
              "  reported_usage_level considering_change_of_plan  leave     id  \n",
              "0                  low                        yes  LEAVE   8183  \n",
              "1                  low                        yes  LEAVE  12501  \n",
              "2                  low                        yes   STAY   7425  \n",
              "3                  low                         no  LEAVE  13488  \n",
              "4                  low                        yes   STAY  11389  \n",
              "5                 high                        yes   STAY  14674  \n",
              "6                  avg                        yes  LEAVE  19100  \n",
              "7                 high                        yes   STAY  18170  \n",
              "8                  low                         no  LEAVE   3201  \n",
              "9                  low                        yes  LEAVE  12612  "
            ],
            "text/html": [
              "\n",
              "  <div id=\"df-7dd92813-367b-4f1b-9e6f-8d6caee7b0a6\" class=\"colab-df-container\">\n",
              "    <div>\n",
              "<style scoped>\n",
              "    .dataframe tbody tr th:only-of-type {\n",
              "        vertical-align: middle;\n",
              "    }\n",
              "\n",
              "    .dataframe tbody tr th {\n",
              "        vertical-align: top;\n",
              "    }\n",
              "\n",
              "    .dataframe thead th {\n",
              "        text-align: right;\n",
              "    }\n",
              "</style>\n",
              "<table border=\"1\" class=\"dataframe\">\n",
              "  <thead>\n",
              "    <tr style=\"text-align: right;\">\n",
              "      <th></th>\n",
              "      <th>college</th>\n",
              "      <th>income</th>\n",
              "      <th>overage</th>\n",
              "      <th>leftover</th>\n",
              "      <th>house</th>\n",
              "      <th>handset_price</th>\n",
              "      <th>over_15mins_calls_per_month</th>\n",
              "      <th>average_call_duration</th>\n",
              "      <th>reported_satisfaction</th>\n",
              "      <th>reported_usage_level</th>\n",
              "      <th>considering_change_of_plan</th>\n",
              "      <th>leave</th>\n",
              "      <th>id</th>\n",
              "    </tr>\n",
              "  </thead>\n",
              "  <tbody>\n",
              "    <tr>\n",
              "      <th>0</th>\n",
              "      <td>one</td>\n",
              "      <td>23859</td>\n",
              "      <td>70</td>\n",
              "      <td>0</td>\n",
              "      <td>519105</td>\n",
              "      <td>154</td>\n",
              "      <td>5.0</td>\n",
              "      <td>8</td>\n",
              "      <td>low</td>\n",
              "      <td>low</td>\n",
              "      <td>yes</td>\n",
              "      <td>LEAVE</td>\n",
              "      <td>8183</td>\n",
              "    </tr>\n",
              "    <tr>\n",
              "      <th>1</th>\n",
              "      <td>zero</td>\n",
              "      <td>72466</td>\n",
              "      <td>67</td>\n",
              "      <td>16</td>\n",
              "      <td>271182</td>\n",
              "      <td>262</td>\n",
              "      <td>5.0</td>\n",
              "      <td>5</td>\n",
              "      <td>low</td>\n",
              "      <td>low</td>\n",
              "      <td>yes</td>\n",
              "      <td>LEAVE</td>\n",
              "      <td>12501</td>\n",
              "    </tr>\n",
              "    <tr>\n",
              "      <th>2</th>\n",
              "      <td>zero</td>\n",
              "      <td>30883</td>\n",
              "      <td>60</td>\n",
              "      <td>0</td>\n",
              "      <td>647281</td>\n",
              "      <td>211</td>\n",
              "      <td>3.0</td>\n",
              "      <td>8</td>\n",
              "      <td>low</td>\n",
              "      <td>low</td>\n",
              "      <td>yes</td>\n",
              "      <td>STAY</td>\n",
              "      <td>7425</td>\n",
              "    </tr>\n",
              "    <tr>\n",
              "      <th>3</th>\n",
              "      <td>one</td>\n",
              "      <td>44512</td>\n",
              "      <td>0</td>\n",
              "      <td>22</td>\n",
              "      <td>754958</td>\n",
              "      <td>232</td>\n",
              "      <td>0.0</td>\n",
              "      <td>5</td>\n",
              "      <td>low</td>\n",
              "      <td>low</td>\n",
              "      <td>no</td>\n",
              "      <td>LEAVE</td>\n",
              "      <td>13488</td>\n",
              "    </tr>\n",
              "    <tr>\n",
              "      <th>4</th>\n",
              "      <td>zero</td>\n",
              "      <td>70535</td>\n",
              "      <td>0</td>\n",
              "      <td>0</td>\n",
              "      <td>653421</td>\n",
              "      <td>310</td>\n",
              "      <td>0.0</td>\n",
              "      <td>14</td>\n",
              "      <td>low</td>\n",
              "      <td>low</td>\n",
              "      <td>yes</td>\n",
              "      <td>STAY</td>\n",
              "      <td>11389</td>\n",
              "    </tr>\n",
              "    <tr>\n",
              "      <th>5</th>\n",
              "      <td>zero</td>\n",
              "      <td>143987</td>\n",
              "      <td>0</td>\n",
              "      <td>56</td>\n",
              "      <td>896544</td>\n",
              "      <td>778</td>\n",
              "      <td>5.0</td>\n",
              "      <td>1</td>\n",
              "      <td>low</td>\n",
              "      <td>high</td>\n",
              "      <td>yes</td>\n",
              "      <td>STAY</td>\n",
              "      <td>14674</td>\n",
              "    </tr>\n",
              "    <tr>\n",
              "      <th>6</th>\n",
              "      <td>one</td>\n",
              "      <td>96668</td>\n",
              "      <td>79</td>\n",
              "      <td>24</td>\n",
              "      <td>259329</td>\n",
              "      <td>365</td>\n",
              "      <td>5.0</td>\n",
              "      <td>6</td>\n",
              "      <td>low</td>\n",
              "      <td>avg</td>\n",
              "      <td>yes</td>\n",
              "      <td>LEAVE</td>\n",
              "      <td>19100</td>\n",
              "    </tr>\n",
              "    <tr>\n",
              "      <th>7</th>\n",
              "      <td>one</td>\n",
              "      <td>50083</td>\n",
              "      <td>0</td>\n",
              "      <td>0</td>\n",
              "      <td>160335</td>\n",
              "      <td>266</td>\n",
              "      <td>5.0</td>\n",
              "      <td>10</td>\n",
              "      <td>low</td>\n",
              "      <td>high</td>\n",
              "      <td>yes</td>\n",
              "      <td>STAY</td>\n",
              "      <td>18170</td>\n",
              "    </tr>\n",
              "    <tr>\n",
              "      <th>8</th>\n",
              "      <td>one</td>\n",
              "      <td>104392</td>\n",
              "      <td>0</td>\n",
              "      <td>0</td>\n",
              "      <td>247836</td>\n",
              "      <td>778</td>\n",
              "      <td>1.0</td>\n",
              "      <td>8</td>\n",
              "      <td>high</td>\n",
              "      <td>low</td>\n",
              "      <td>no</td>\n",
              "      <td>LEAVE</td>\n",
              "      <td>3201</td>\n",
              "    </tr>\n",
              "    <tr>\n",
              "      <th>9</th>\n",
              "      <td>one</td>\n",
              "      <td>37852</td>\n",
              "      <td>0</td>\n",
              "      <td>74</td>\n",
              "      <td>264893</td>\n",
              "      <td>857</td>\n",
              "      <td>0.0</td>\n",
              "      <td>2</td>\n",
              "      <td>low</td>\n",
              "      <td>low</td>\n",
              "      <td>yes</td>\n",
              "      <td>LEAVE</td>\n",
              "      <td>12612</td>\n",
              "    </tr>\n",
              "  </tbody>\n",
              "</table>\n",
              "</div>\n",
              "    <div class=\"colab-df-buttons\">\n",
              "\n",
              "  <div class=\"colab-df-container\">\n",
              "    <button class=\"colab-df-convert\" onclick=\"convertToInteractive('df-7dd92813-367b-4f1b-9e6f-8d6caee7b0a6')\"\n",
              "            title=\"Convert this dataframe to an interactive table.\"\n",
              "            style=\"display:none;\">\n",
              "\n",
              "  <svg xmlns=\"http://www.w3.org/2000/svg\" height=\"24px\" viewBox=\"0 -960 960 960\">\n",
              "    <path d=\"M120-120v-720h720v720H120Zm60-500h600v-160H180v160Zm220 220h160v-160H400v160Zm0 220h160v-160H400v160ZM180-400h160v-160H180v160Zm440 0h160v-160H620v160ZM180-180h160v-160H180v160Zm440 0h160v-160H620v160Z\"/>\n",
              "  </svg>\n",
              "    </button>\n",
              "\n",
              "  <style>\n",
              "    .colab-df-container {\n",
              "      display:flex;\n",
              "      gap: 12px;\n",
              "    }\n",
              "\n",
              "    .colab-df-convert {\n",
              "      background-color: #E8F0FE;\n",
              "      border: none;\n",
              "      border-radius: 50%;\n",
              "      cursor: pointer;\n",
              "      display: none;\n",
              "      fill: #1967D2;\n",
              "      height: 32px;\n",
              "      padding: 0 0 0 0;\n",
              "      width: 32px;\n",
              "    }\n",
              "\n",
              "    .colab-df-convert:hover {\n",
              "      background-color: #E2EBFA;\n",
              "      box-shadow: 0px 1px 2px rgba(60, 64, 67, 0.3), 0px 1px 3px 1px rgba(60, 64, 67, 0.15);\n",
              "      fill: #174EA6;\n",
              "    }\n",
              "\n",
              "    .colab-df-buttons div {\n",
              "      margin-bottom: 4px;\n",
              "    }\n",
              "\n",
              "    [theme=dark] .colab-df-convert {\n",
              "      background-color: #3B4455;\n",
              "      fill: #D2E3FC;\n",
              "    }\n",
              "\n",
              "    [theme=dark] .colab-df-convert:hover {\n",
              "      background-color: #434B5C;\n",
              "      box-shadow: 0px 1px 3px 1px rgba(0, 0, 0, 0.15);\n",
              "      filter: drop-shadow(0px 1px 2px rgba(0, 0, 0, 0.3));\n",
              "      fill: #FFFFFF;\n",
              "    }\n",
              "  </style>\n",
              "\n",
              "    <script>\n",
              "      const buttonEl =\n",
              "        document.querySelector('#df-7dd92813-367b-4f1b-9e6f-8d6caee7b0a6 button.colab-df-convert');\n",
              "      buttonEl.style.display =\n",
              "        google.colab.kernel.accessAllowed ? 'block' : 'none';\n",
              "\n",
              "      async function convertToInteractive(key) {\n",
              "        const element = document.querySelector('#df-7dd92813-367b-4f1b-9e6f-8d6caee7b0a6');\n",
              "        const dataTable =\n",
              "          await google.colab.kernel.invokeFunction('convertToInteractive',\n",
              "                                                    [key], {});\n",
              "        if (!dataTable) return;\n",
              "\n",
              "        const docLinkHtml = 'Like what you see? Visit the ' +\n",
              "          '<a target=\"_blank\" href=https://colab.research.google.com/notebooks/data_table.ipynb>data table notebook</a>'\n",
              "          + ' to learn more about interactive tables.';\n",
              "        element.innerHTML = '';\n",
              "        dataTable['output_type'] = 'display_data';\n",
              "        await google.colab.output.renderOutput(dataTable, element);\n",
              "        const docLink = document.createElement('div');\n",
              "        docLink.innerHTML = docLinkHtml;\n",
              "        element.appendChild(docLink);\n",
              "      }\n",
              "    </script>\n",
              "  </div>\n",
              "\n",
              "\n",
              "<div id=\"df-f7274049-59d7-4b40-9622-2e9f60b0c1ab\">\n",
              "  <button class=\"colab-df-quickchart\" onclick=\"quickchart('df-f7274049-59d7-4b40-9622-2e9f60b0c1ab')\"\n",
              "            title=\"Suggest charts\"\n",
              "            style=\"display:none;\">\n",
              "\n",
              "<svg xmlns=\"http://www.w3.org/2000/svg\" height=\"24px\"viewBox=\"0 0 24 24\"\n",
              "     width=\"24px\">\n",
              "    <g>\n",
              "        <path d=\"M19 3H5c-1.1 0-2 .9-2 2v14c0 1.1.9 2 2 2h14c1.1 0 2-.9 2-2V5c0-1.1-.9-2-2-2zM9 17H7v-7h2v7zm4 0h-2V7h2v10zm4 0h-2v-4h2v4z\"/>\n",
              "    </g>\n",
              "</svg>\n",
              "  </button>\n",
              "\n",
              "<style>\n",
              "  .colab-df-quickchart {\n",
              "      --bg-color: #E8F0FE;\n",
              "      --fill-color: #1967D2;\n",
              "      --hover-bg-color: #E2EBFA;\n",
              "      --hover-fill-color: #174EA6;\n",
              "      --disabled-fill-color: #AAA;\n",
              "      --disabled-bg-color: #DDD;\n",
              "  }\n",
              "\n",
              "  [theme=dark] .colab-df-quickchart {\n",
              "      --bg-color: #3B4455;\n",
              "      --fill-color: #D2E3FC;\n",
              "      --hover-bg-color: #434B5C;\n",
              "      --hover-fill-color: #FFFFFF;\n",
              "      --disabled-bg-color: #3B4455;\n",
              "      --disabled-fill-color: #666;\n",
              "  }\n",
              "\n",
              "  .colab-df-quickchart {\n",
              "    background-color: var(--bg-color);\n",
              "    border: none;\n",
              "    border-radius: 50%;\n",
              "    cursor: pointer;\n",
              "    display: none;\n",
              "    fill: var(--fill-color);\n",
              "    height: 32px;\n",
              "    padding: 0;\n",
              "    width: 32px;\n",
              "  }\n",
              "\n",
              "  .colab-df-quickchart:hover {\n",
              "    background-color: var(--hover-bg-color);\n",
              "    box-shadow: 0 1px 2px rgba(60, 64, 67, 0.3), 0 1px 3px 1px rgba(60, 64, 67, 0.15);\n",
              "    fill: var(--button-hover-fill-color);\n",
              "  }\n",
              "\n",
              "  .colab-df-quickchart-complete:disabled,\n",
              "  .colab-df-quickchart-complete:disabled:hover {\n",
              "    background-color: var(--disabled-bg-color);\n",
              "    fill: var(--disabled-fill-color);\n",
              "    box-shadow: none;\n",
              "  }\n",
              "\n",
              "  .colab-df-spinner {\n",
              "    border: 2px solid var(--fill-color);\n",
              "    border-color: transparent;\n",
              "    border-bottom-color: var(--fill-color);\n",
              "    animation:\n",
              "      spin 1s steps(1) infinite;\n",
              "  }\n",
              "\n",
              "  @keyframes spin {\n",
              "    0% {\n",
              "      border-color: transparent;\n",
              "      border-bottom-color: var(--fill-color);\n",
              "      border-left-color: var(--fill-color);\n",
              "    }\n",
              "    20% {\n",
              "      border-color: transparent;\n",
              "      border-left-color: var(--fill-color);\n",
              "      border-top-color: var(--fill-color);\n",
              "    }\n",
              "    30% {\n",
              "      border-color: transparent;\n",
              "      border-left-color: var(--fill-color);\n",
              "      border-top-color: var(--fill-color);\n",
              "      border-right-color: var(--fill-color);\n",
              "    }\n",
              "    40% {\n",
              "      border-color: transparent;\n",
              "      border-right-color: var(--fill-color);\n",
              "      border-top-color: var(--fill-color);\n",
              "    }\n",
              "    60% {\n",
              "      border-color: transparent;\n",
              "      border-right-color: var(--fill-color);\n",
              "    }\n",
              "    80% {\n",
              "      border-color: transparent;\n",
              "      border-right-color: var(--fill-color);\n",
              "      border-bottom-color: var(--fill-color);\n",
              "    }\n",
              "    90% {\n",
              "      border-color: transparent;\n",
              "      border-bottom-color: var(--fill-color);\n",
              "    }\n",
              "  }\n",
              "</style>\n",
              "\n",
              "  <script>\n",
              "    async function quickchart(key) {\n",
              "      const quickchartButtonEl =\n",
              "        document.querySelector('#' + key + ' button');\n",
              "      quickchartButtonEl.disabled = true;  // To prevent multiple clicks.\n",
              "      quickchartButtonEl.classList.add('colab-df-spinner');\n",
              "      try {\n",
              "        const charts = await google.colab.kernel.invokeFunction(\n",
              "            'suggestCharts', [key], {});\n",
              "      } catch (error) {\n",
              "        console.error('Error during call to suggestCharts:', error);\n",
              "      }\n",
              "      quickchartButtonEl.classList.remove('colab-df-spinner');\n",
              "      quickchartButtonEl.classList.add('colab-df-quickchart-complete');\n",
              "    }\n",
              "    (() => {\n",
              "      let quickchartButtonEl =\n",
              "        document.querySelector('#df-f7274049-59d7-4b40-9622-2e9f60b0c1ab button');\n",
              "      quickchartButtonEl.style.display =\n",
              "        google.colab.kernel.accessAllowed ? 'block' : 'none';\n",
              "    })();\n",
              "  </script>\n",
              "</div>\n",
              "\n",
              "    </div>\n",
              "  </div>\n"
            ],
            "application/vnd.google.colaboratory.intrinsic+json": {
              "type": "dataframe",
              "variable_name": "df",
              "summary": "{\n  \"name\": \"df\",\n  \"rows\": 5000,\n  \"fields\": [\n    {\n      \"column\": \"college\",\n      \"properties\": {\n        \"dtype\": \"category\",\n        \"num_unique_values\": 2,\n        \"samples\": [\n          \"zero\",\n          \"one\"\n        ],\n        \"semantic_type\": \"\",\n        \"description\": \"\"\n      }\n    },\n    {\n      \"column\": \"income\",\n      \"properties\": {\n        \"dtype\": \"number\",\n        \"std\": 41703,\n        \"min\": -28811,\n        \"max\": 159938,\n        \"num_unique_values\": 4887,\n        \"samples\": [\n          60980,\n          132496\n        ],\n        \"semantic_type\": \"\",\n        \"description\": \"\"\n      }\n    },\n    {\n      \"column\": \"overage\",\n      \"properties\": {\n        \"dtype\": \"number\",\n        \"std\": 85,\n        \"min\": 0,\n        \"max\": 335,\n        \"num_unique_values\": 244,\n        \"samples\": [\n          47,\n          74\n        ],\n        \"semantic_type\": \"\",\n        \"description\": \"\"\n      }\n    },\n    {\n      \"column\": \"leftover\",\n      \"properties\": {\n        \"dtype\": \"number\",\n        \"std\": 26,\n        \"min\": 0,\n        \"max\": 89,\n        \"num_unique_values\": 86,\n        \"samples\": [\n          39,\n          0\n        ],\n        \"semantic_type\": \"\",\n        \"description\": \"\"\n      }\n    },\n    {\n      \"column\": \"house\",\n      \"properties\": {\n        \"dtype\": \"number\",\n        \"std\": 254287,\n        \"min\": -796132,\n        \"max\": 1000000,\n        \"num_unique_values\": 4967,\n        \"samples\": [\n          851118,\n          175852\n        ],\n        \"semantic_type\": \"\",\n        \"description\": \"\"\n      }\n    },\n    {\n      \"column\": \"handset_price\",\n      \"properties\": {\n        \"dtype\": \"number\",\n        \"std\": 28282,\n        \"min\": 130,\n        \"max\": 2000234,\n        \"num_unique_values\": 754,\n        \"samples\": [\n          766,\n          130\n        ],\n        \"semantic_type\": \"\",\n        \"description\": \"\"\n      }\n    },\n    {\n      \"column\": \"over_15mins_calls_per_month\",\n      \"properties\": {\n        \"dtype\": \"number\",\n        \"std\": 8.8060701426574,\n        \"min\": 0.0,\n        \"max\": 29.0,\n        \"num_unique_values\": 25,\n        \"samples\": [\n          18.0,\n          23.0\n        ],\n        \"semantic_type\": \"\",\n        \"description\": \"\"\n      }\n    },\n    {\n      \"column\": \"average_call_duration\",\n      \"properties\": {\n        \"dtype\": \"number\",\n        \"std\": 4,\n        \"min\": 1,\n        \"max\": 15,\n        \"num_unique_values\": 13,\n        \"samples\": [\n          15,\n          12\n        ],\n        \"semantic_type\": \"\",\n        \"description\": \"\"\n      }\n    },\n    {\n      \"column\": \"reported_satisfaction\",\n      \"properties\": {\n        \"dtype\": \"category\",\n        \"num_unique_values\": 3,\n        \"samples\": [\n          \"low\",\n          \"high\"\n        ],\n        \"semantic_type\": \"\",\n        \"description\": \"\"\n      }\n    },\n    {\n      \"column\": \"reported_usage_level\",\n      \"properties\": {\n        \"dtype\": \"category\",\n        \"num_unique_values\": 3,\n        \"samples\": [\n          \"low\",\n          \"high\"\n        ],\n        \"semantic_type\": \"\",\n        \"description\": \"\"\n      }\n    },\n    {\n      \"column\": \"considering_change_of_plan\",\n      \"properties\": {\n        \"dtype\": \"category\",\n        \"num_unique_values\": 3,\n        \"samples\": [\n          \"yes\",\n          \"no\"\n        ],\n        \"semantic_type\": \"\",\n        \"description\": \"\"\n      }\n    },\n    {\n      \"column\": \"leave\",\n      \"properties\": {\n        \"dtype\": \"category\",\n        \"num_unique_values\": 2,\n        \"samples\": [\n          \"STAY\",\n          \"LEAVE\"\n        ],\n        \"semantic_type\": \"\",\n        \"description\": \"\"\n      }\n    },\n    {\n      \"column\": \"id\",\n      \"properties\": {\n        \"dtype\": \"number\",\n        \"std\": 5813,\n        \"min\": 2,\n        \"max\": 20000,\n        \"num_unique_values\": 5000,\n        \"samples\": [\n          10150,\n          5400\n        ],\n        \"semantic_type\": \"\",\n        \"description\": \"\"\n      }\n    }\n  ]\n}"
            }
          },
          "metadata": {},
          "execution_count": 4
        }
      ],
      "source": [
        "#look at the top rows\n",
        "df.head(10)"
      ]
    },
    {
      "cell_type": "code",
      "execution_count": 5,
      "metadata": {
        "id": "AK7y336xJ3-6",
        "outputId": "19357835-aacc-483a-b1c0-3089c412c71d",
        "colab": {
          "base_uri": "https://localhost:8080/"
        }
      },
      "outputs": [
        {
          "output_type": "stream",
          "name": "stdout",
          "text": [
            "<class 'pandas.core.frame.DataFrame'>\n",
            "RangeIndex: 5000 entries, 0 to 4999\n",
            "Data columns (total 13 columns):\n",
            " #   Column                       Non-Null Count  Dtype  \n",
            "---  ------                       --------------  -----  \n",
            " 0   college                      5000 non-null   object \n",
            " 1   income                       5000 non-null   int64  \n",
            " 2   overage                      5000 non-null   int64  \n",
            " 3   leftover                     5000 non-null   int64  \n",
            " 4   house                        5000 non-null   int64  \n",
            " 5   handset_price                5000 non-null   int64  \n",
            " 6   over_15mins_calls_per_month  4997 non-null   float64\n",
            " 7   average_call_duration        5000 non-null   int64  \n",
            " 8   reported_satisfaction        5000 non-null   object \n",
            " 9   reported_usage_level         5000 non-null   object \n",
            " 10  considering_change_of_plan   5000 non-null   object \n",
            " 11  leave                        5000 non-null   object \n",
            " 12  id                           5000 non-null   int64  \n",
            "dtypes: float64(1), int64(7), object(5)\n",
            "memory usage: 507.9+ KB\n"
          ]
        }
      ],
      "source": [
        "#look at the datatypes\n",
        "df.info()"
      ]
    },
    {
      "cell_type": "code",
      "execution_count": 6,
      "metadata": {
        "id": "udYgkb6I3SJo",
        "outputId": "e9d9af77-0ad2-432f-fac2-a1fab860ca49",
        "colab": {
          "base_uri": "https://localhost:8080/",
          "height": 300
        }
      },
      "outputs": [
        {
          "output_type": "execute_result",
          "data": {
            "text/plain": [
              "              income      overage     leftover           house  handset_price  \\\n",
              "count    5000.000000  5000.000000  5000.000000     5000.000000   5.000000e+03   \n",
              "mean    79912.948400    85.119200    24.243600   493656.326600   7.876236e+02   \n",
              "std     41703.042384    85.655622    26.847496   254287.193865   2.828291e+04   \n",
              "min    -28811.000000     0.000000     0.000000  -796132.000000   1.300000e+02   \n",
              "25%     41592.500000     0.000000     0.000000   260586.500000   2.190000e+02   \n",
              "50%     75041.500000    59.000000    15.000000   451865.500000   3.220000e+02   \n",
              "75%    115475.000000   177.000000    42.000000   701608.750000   5.280000e+02   \n",
              "max    159938.000000   335.000000    89.000000  1000000.000000   2.000234e+06   \n",
              "\n",
              "       over_15mins_calls_per_month  average_call_duration            id  \n",
              "count                  4997.000000            5000.000000   5000.000000  \n",
              "mean                      7.744647               5.958800  10036.639400  \n",
              "std                       8.806070               4.390417   5813.620304  \n",
              "min                       0.000000               1.000000      2.000000  \n",
              "25%                       1.000000               2.000000   4950.500000  \n",
              "50%                       4.000000               5.000000  10126.000000  \n",
              "75%                      14.000000               9.000000  15085.250000  \n",
              "max                      29.000000              15.000000  20000.000000  "
            ],
            "text/html": [
              "\n",
              "  <div id=\"df-2fac61bf-e9ae-4965-b790-98a00ed3ffc3\" class=\"colab-df-container\">\n",
              "    <div>\n",
              "<style scoped>\n",
              "    .dataframe tbody tr th:only-of-type {\n",
              "        vertical-align: middle;\n",
              "    }\n",
              "\n",
              "    .dataframe tbody tr th {\n",
              "        vertical-align: top;\n",
              "    }\n",
              "\n",
              "    .dataframe thead th {\n",
              "        text-align: right;\n",
              "    }\n",
              "</style>\n",
              "<table border=\"1\" class=\"dataframe\">\n",
              "  <thead>\n",
              "    <tr style=\"text-align: right;\">\n",
              "      <th></th>\n",
              "      <th>income</th>\n",
              "      <th>overage</th>\n",
              "      <th>leftover</th>\n",
              "      <th>house</th>\n",
              "      <th>handset_price</th>\n",
              "      <th>over_15mins_calls_per_month</th>\n",
              "      <th>average_call_duration</th>\n",
              "      <th>id</th>\n",
              "    </tr>\n",
              "  </thead>\n",
              "  <tbody>\n",
              "    <tr>\n",
              "      <th>count</th>\n",
              "      <td>5000.000000</td>\n",
              "      <td>5000.000000</td>\n",
              "      <td>5000.000000</td>\n",
              "      <td>5000.000000</td>\n",
              "      <td>5.000000e+03</td>\n",
              "      <td>4997.000000</td>\n",
              "      <td>5000.000000</td>\n",
              "      <td>5000.000000</td>\n",
              "    </tr>\n",
              "    <tr>\n",
              "      <th>mean</th>\n",
              "      <td>79912.948400</td>\n",
              "      <td>85.119200</td>\n",
              "      <td>24.243600</td>\n",
              "      <td>493656.326600</td>\n",
              "      <td>7.876236e+02</td>\n",
              "      <td>7.744647</td>\n",
              "      <td>5.958800</td>\n",
              "      <td>10036.639400</td>\n",
              "    </tr>\n",
              "    <tr>\n",
              "      <th>std</th>\n",
              "      <td>41703.042384</td>\n",
              "      <td>85.655622</td>\n",
              "      <td>26.847496</td>\n",
              "      <td>254287.193865</td>\n",
              "      <td>2.828291e+04</td>\n",
              "      <td>8.806070</td>\n",
              "      <td>4.390417</td>\n",
              "      <td>5813.620304</td>\n",
              "    </tr>\n",
              "    <tr>\n",
              "      <th>min</th>\n",
              "      <td>-28811.000000</td>\n",
              "      <td>0.000000</td>\n",
              "      <td>0.000000</td>\n",
              "      <td>-796132.000000</td>\n",
              "      <td>1.300000e+02</td>\n",
              "      <td>0.000000</td>\n",
              "      <td>1.000000</td>\n",
              "      <td>2.000000</td>\n",
              "    </tr>\n",
              "    <tr>\n",
              "      <th>25%</th>\n",
              "      <td>41592.500000</td>\n",
              "      <td>0.000000</td>\n",
              "      <td>0.000000</td>\n",
              "      <td>260586.500000</td>\n",
              "      <td>2.190000e+02</td>\n",
              "      <td>1.000000</td>\n",
              "      <td>2.000000</td>\n",
              "      <td>4950.500000</td>\n",
              "    </tr>\n",
              "    <tr>\n",
              "      <th>50%</th>\n",
              "      <td>75041.500000</td>\n",
              "      <td>59.000000</td>\n",
              "      <td>15.000000</td>\n",
              "      <td>451865.500000</td>\n",
              "      <td>3.220000e+02</td>\n",
              "      <td>4.000000</td>\n",
              "      <td>5.000000</td>\n",
              "      <td>10126.000000</td>\n",
              "    </tr>\n",
              "    <tr>\n",
              "      <th>75%</th>\n",
              "      <td>115475.000000</td>\n",
              "      <td>177.000000</td>\n",
              "      <td>42.000000</td>\n",
              "      <td>701608.750000</td>\n",
              "      <td>5.280000e+02</td>\n",
              "      <td>14.000000</td>\n",
              "      <td>9.000000</td>\n",
              "      <td>15085.250000</td>\n",
              "    </tr>\n",
              "    <tr>\n",
              "      <th>max</th>\n",
              "      <td>159938.000000</td>\n",
              "      <td>335.000000</td>\n",
              "      <td>89.000000</td>\n",
              "      <td>1000000.000000</td>\n",
              "      <td>2.000234e+06</td>\n",
              "      <td>29.000000</td>\n",
              "      <td>15.000000</td>\n",
              "      <td>20000.000000</td>\n",
              "    </tr>\n",
              "  </tbody>\n",
              "</table>\n",
              "</div>\n",
              "    <div class=\"colab-df-buttons\">\n",
              "\n",
              "  <div class=\"colab-df-container\">\n",
              "    <button class=\"colab-df-convert\" onclick=\"convertToInteractive('df-2fac61bf-e9ae-4965-b790-98a00ed3ffc3')\"\n",
              "            title=\"Convert this dataframe to an interactive table.\"\n",
              "            style=\"display:none;\">\n",
              "\n",
              "  <svg xmlns=\"http://www.w3.org/2000/svg\" height=\"24px\" viewBox=\"0 -960 960 960\">\n",
              "    <path d=\"M120-120v-720h720v720H120Zm60-500h600v-160H180v160Zm220 220h160v-160H400v160Zm0 220h160v-160H400v160ZM180-400h160v-160H180v160Zm440 0h160v-160H620v160ZM180-180h160v-160H180v160Zm440 0h160v-160H620v160Z\"/>\n",
              "  </svg>\n",
              "    </button>\n",
              "\n",
              "  <style>\n",
              "    .colab-df-container {\n",
              "      display:flex;\n",
              "      gap: 12px;\n",
              "    }\n",
              "\n",
              "    .colab-df-convert {\n",
              "      background-color: #E8F0FE;\n",
              "      border: none;\n",
              "      border-radius: 50%;\n",
              "      cursor: pointer;\n",
              "      display: none;\n",
              "      fill: #1967D2;\n",
              "      height: 32px;\n",
              "      padding: 0 0 0 0;\n",
              "      width: 32px;\n",
              "    }\n",
              "\n",
              "    .colab-df-convert:hover {\n",
              "      background-color: #E2EBFA;\n",
              "      box-shadow: 0px 1px 2px rgba(60, 64, 67, 0.3), 0px 1px 3px 1px rgba(60, 64, 67, 0.15);\n",
              "      fill: #174EA6;\n",
              "    }\n",
              "\n",
              "    .colab-df-buttons div {\n",
              "      margin-bottom: 4px;\n",
              "    }\n",
              "\n",
              "    [theme=dark] .colab-df-convert {\n",
              "      background-color: #3B4455;\n",
              "      fill: #D2E3FC;\n",
              "    }\n",
              "\n",
              "    [theme=dark] .colab-df-convert:hover {\n",
              "      background-color: #434B5C;\n",
              "      box-shadow: 0px 1px 3px 1px rgba(0, 0, 0, 0.15);\n",
              "      filter: drop-shadow(0px 1px 2px rgba(0, 0, 0, 0.3));\n",
              "      fill: #FFFFFF;\n",
              "    }\n",
              "  </style>\n",
              "\n",
              "    <script>\n",
              "      const buttonEl =\n",
              "        document.querySelector('#df-2fac61bf-e9ae-4965-b790-98a00ed3ffc3 button.colab-df-convert');\n",
              "      buttonEl.style.display =\n",
              "        google.colab.kernel.accessAllowed ? 'block' : 'none';\n",
              "\n",
              "      async function convertToInteractive(key) {\n",
              "        const element = document.querySelector('#df-2fac61bf-e9ae-4965-b790-98a00ed3ffc3');\n",
              "        const dataTable =\n",
              "          await google.colab.kernel.invokeFunction('convertToInteractive',\n",
              "                                                    [key], {});\n",
              "        if (!dataTable) return;\n",
              "\n",
              "        const docLinkHtml = 'Like what you see? Visit the ' +\n",
              "          '<a target=\"_blank\" href=https://colab.research.google.com/notebooks/data_table.ipynb>data table notebook</a>'\n",
              "          + ' to learn more about interactive tables.';\n",
              "        element.innerHTML = '';\n",
              "        dataTable['output_type'] = 'display_data';\n",
              "        await google.colab.output.renderOutput(dataTable, element);\n",
              "        const docLink = document.createElement('div');\n",
              "        docLink.innerHTML = docLinkHtml;\n",
              "        element.appendChild(docLink);\n",
              "      }\n",
              "    </script>\n",
              "  </div>\n",
              "\n",
              "\n",
              "<div id=\"df-ce178e75-d233-4ea2-820b-29c5d120594d\">\n",
              "  <button class=\"colab-df-quickchart\" onclick=\"quickchart('df-ce178e75-d233-4ea2-820b-29c5d120594d')\"\n",
              "            title=\"Suggest charts\"\n",
              "            style=\"display:none;\">\n",
              "\n",
              "<svg xmlns=\"http://www.w3.org/2000/svg\" height=\"24px\"viewBox=\"0 0 24 24\"\n",
              "     width=\"24px\">\n",
              "    <g>\n",
              "        <path d=\"M19 3H5c-1.1 0-2 .9-2 2v14c0 1.1.9 2 2 2h14c1.1 0 2-.9 2-2V5c0-1.1-.9-2-2-2zM9 17H7v-7h2v7zm4 0h-2V7h2v10zm4 0h-2v-4h2v4z\"/>\n",
              "    </g>\n",
              "</svg>\n",
              "  </button>\n",
              "\n",
              "<style>\n",
              "  .colab-df-quickchart {\n",
              "      --bg-color: #E8F0FE;\n",
              "      --fill-color: #1967D2;\n",
              "      --hover-bg-color: #E2EBFA;\n",
              "      --hover-fill-color: #174EA6;\n",
              "      --disabled-fill-color: #AAA;\n",
              "      --disabled-bg-color: #DDD;\n",
              "  }\n",
              "\n",
              "  [theme=dark] .colab-df-quickchart {\n",
              "      --bg-color: #3B4455;\n",
              "      --fill-color: #D2E3FC;\n",
              "      --hover-bg-color: #434B5C;\n",
              "      --hover-fill-color: #FFFFFF;\n",
              "      --disabled-bg-color: #3B4455;\n",
              "      --disabled-fill-color: #666;\n",
              "  }\n",
              "\n",
              "  .colab-df-quickchart {\n",
              "    background-color: var(--bg-color);\n",
              "    border: none;\n",
              "    border-radius: 50%;\n",
              "    cursor: pointer;\n",
              "    display: none;\n",
              "    fill: var(--fill-color);\n",
              "    height: 32px;\n",
              "    padding: 0;\n",
              "    width: 32px;\n",
              "  }\n",
              "\n",
              "  .colab-df-quickchart:hover {\n",
              "    background-color: var(--hover-bg-color);\n",
              "    box-shadow: 0 1px 2px rgba(60, 64, 67, 0.3), 0 1px 3px 1px rgba(60, 64, 67, 0.15);\n",
              "    fill: var(--button-hover-fill-color);\n",
              "  }\n",
              "\n",
              "  .colab-df-quickchart-complete:disabled,\n",
              "  .colab-df-quickchart-complete:disabled:hover {\n",
              "    background-color: var(--disabled-bg-color);\n",
              "    fill: var(--disabled-fill-color);\n",
              "    box-shadow: none;\n",
              "  }\n",
              "\n",
              "  .colab-df-spinner {\n",
              "    border: 2px solid var(--fill-color);\n",
              "    border-color: transparent;\n",
              "    border-bottom-color: var(--fill-color);\n",
              "    animation:\n",
              "      spin 1s steps(1) infinite;\n",
              "  }\n",
              "\n",
              "  @keyframes spin {\n",
              "    0% {\n",
              "      border-color: transparent;\n",
              "      border-bottom-color: var(--fill-color);\n",
              "      border-left-color: var(--fill-color);\n",
              "    }\n",
              "    20% {\n",
              "      border-color: transparent;\n",
              "      border-left-color: var(--fill-color);\n",
              "      border-top-color: var(--fill-color);\n",
              "    }\n",
              "    30% {\n",
              "      border-color: transparent;\n",
              "      border-left-color: var(--fill-color);\n",
              "      border-top-color: var(--fill-color);\n",
              "      border-right-color: var(--fill-color);\n",
              "    }\n",
              "    40% {\n",
              "      border-color: transparent;\n",
              "      border-right-color: var(--fill-color);\n",
              "      border-top-color: var(--fill-color);\n",
              "    }\n",
              "    60% {\n",
              "      border-color: transparent;\n",
              "      border-right-color: var(--fill-color);\n",
              "    }\n",
              "    80% {\n",
              "      border-color: transparent;\n",
              "      border-right-color: var(--fill-color);\n",
              "      border-bottom-color: var(--fill-color);\n",
              "    }\n",
              "    90% {\n",
              "      border-color: transparent;\n",
              "      border-bottom-color: var(--fill-color);\n",
              "    }\n",
              "  }\n",
              "</style>\n",
              "\n",
              "  <script>\n",
              "    async function quickchart(key) {\n",
              "      const quickchartButtonEl =\n",
              "        document.querySelector('#' + key + ' button');\n",
              "      quickchartButtonEl.disabled = true;  // To prevent multiple clicks.\n",
              "      quickchartButtonEl.classList.add('colab-df-spinner');\n",
              "      try {\n",
              "        const charts = await google.colab.kernel.invokeFunction(\n",
              "            'suggestCharts', [key], {});\n",
              "      } catch (error) {\n",
              "        console.error('Error during call to suggestCharts:', error);\n",
              "      }\n",
              "      quickchartButtonEl.classList.remove('colab-df-spinner');\n",
              "      quickchartButtonEl.classList.add('colab-df-quickchart-complete');\n",
              "    }\n",
              "    (() => {\n",
              "      let quickchartButtonEl =\n",
              "        document.querySelector('#df-ce178e75-d233-4ea2-820b-29c5d120594d button');\n",
              "      quickchartButtonEl.style.display =\n",
              "        google.colab.kernel.accessAllowed ? 'block' : 'none';\n",
              "    })();\n",
              "  </script>\n",
              "</div>\n",
              "\n",
              "    </div>\n",
              "  </div>\n"
            ],
            "application/vnd.google.colaboratory.intrinsic+json": {
              "type": "dataframe",
              "summary": "{\n  \"name\": \"df\",\n  \"rows\": 8,\n  \"fields\": [\n    {\n      \"column\": \"income\",\n      \"properties\": {\n        \"dtype\": \"number\",\n        \"std\": 60073.440084593145,\n        \"min\": -28811.0,\n        \"max\": 159938.0,\n        \"num_unique_values\": 8,\n        \"samples\": [\n          79912.9484,\n          75041.5,\n          5000.0\n        ],\n        \"semantic_type\": \"\",\n        \"description\": \"\"\n      }\n    },\n    {\n      \"column\": \"overage\",\n      \"properties\": {\n        \"dtype\": \"number\",\n        \"std\": 1733.7251347709685,\n        \"min\": 0.0,\n        \"max\": 5000.0,\n        \"num_unique_values\": 7,\n        \"samples\": [\n          5000.0,\n          85.1192,\n          177.0\n        ],\n        \"semantic_type\": \"\",\n        \"description\": \"\"\n      }\n    },\n    {\n      \"column\": \"leftover\",\n      \"properties\": {\n        \"dtype\": \"number\",\n        \"std\": 1758.0427045943954,\n        \"min\": 0.0,\n        \"max\": 5000.0,\n        \"num_unique_values\": 7,\n        \"samples\": [\n          5000.0,\n          24.2436,\n          42.0\n        ],\n        \"semantic_type\": \"\",\n        \"description\": \"\"\n      }\n    },\n    {\n      \"column\": \"house\",\n      \"properties\": {\n        \"dtype\": \"number\",\n        \"std\": 535046.4444421816,\n        \"min\": -796132.0,\n        \"max\": 1000000.0,\n        \"num_unique_values\": 8,\n        \"samples\": [\n          493656.3266,\n          451865.5,\n          5000.0\n        ],\n        \"semantic_type\": \"\",\n        \"description\": \"\"\n      }\n    },\n    {\n      \"column\": \"handset_price\",\n      \"properties\": {\n        \"dtype\": \"number\",\n        \"std\": 705473.7737577226,\n        \"min\": 130.0,\n        \"max\": 2000234.0,\n        \"num_unique_values\": 8,\n        \"samples\": [\n          787.6236,\n          322.0,\n          5000.0\n        ],\n        \"semantic_type\": \"\",\n        \"description\": \"\"\n      }\n    },\n    {\n      \"column\": \"over_15mins_calls_per_month\",\n      \"properties\": {\n        \"dtype\": \"number\",\n        \"std\": 1763.4701410618732,\n        \"min\": 0.0,\n        \"max\": 4997.0,\n        \"num_unique_values\": 8,\n        \"samples\": [\n          7.744646788072844,\n          4.0,\n          4997.0\n        ],\n        \"semantic_type\": \"\",\n        \"description\": \"\"\n      }\n    },\n    {\n      \"column\": \"average_call_duration\",\n      \"properties\": {\n        \"dtype\": \"number\",\n        \"std\": 1765.6334387537188,\n        \"min\": 1.0,\n        \"max\": 5000.0,\n        \"num_unique_values\": 8,\n        \"samples\": [\n          5.9588,\n          5.0,\n          5000.0\n        ],\n        \"semantic_type\": \"\",\n        \"description\": \"\"\n      }\n    },\n    {\n      \"column\": \"id\",\n      \"properties\": {\n        \"dtype\": \"number\",\n        \"std\": 6366.953886151563,\n        \"min\": 2.0,\n        \"max\": 20000.0,\n        \"num_unique_values\": 8,\n        \"samples\": [\n          10036.6394,\n          10126.0,\n          5000.0\n        ],\n        \"semantic_type\": \"\",\n        \"description\": \"\"\n      }\n    }\n  ]\n}"
            }
          },
          "metadata": {},
          "execution_count": 6
        }
      ],
      "source": [
        "#describe the data before cleaning it\n",
        "df.describe()"
      ]
    },
    {
      "cell_type": "markdown",
      "metadata": {
        "id": "BtxOWvFlKzgE"
      },
      "source": [
        "## Clean up the data\n",
        "Did you notice anything unusual about the \"house\" amounts?\n",
        "\n",
        "How about the handset price and income?\n",
        "\n",
        "Clean up the data in a  new datafram named \"df_clean\"\n"
      ]
    },
    {
      "cell_type": "code",
      "execution_count": 7,
      "metadata": {
        "colab": {
          "base_uri": "https://localhost:8080/",
          "height": 300
        },
        "id": "7KXLvMcBK8Za",
        "outputId": "56c8f9fc-1869-42d2-9480-2ce8f70f639a"
      },
      "outputs": [
        {
          "output_type": "execute_result",
          "data": {
            "text/plain": [
              "              income      overage     leftover           house  handset_price  \\\n",
              "count    4994.000000  4994.000000  4994.000000     4994.000000    4994.000000   \n",
              "mean    79911.270525    85.114738    24.244694   493946.252903     387.616340   \n",
              "std     41683.689543    85.610045    26.844259   253599.007645     213.659555   \n",
              "min     20028.000000     0.000000     0.000000   150305.000000     130.000000   \n",
              "25%     41591.500000     0.000000     0.000000   260741.500000     219.000000   \n",
              "50%     74962.500000    59.000000    15.000000   452087.500000     322.000000   \n",
              "75%    115497.000000   177.000000    42.000000   701612.250000     528.000000   \n",
              "max    159938.000000   335.000000    89.000000  1000000.000000     899.000000   \n",
              "\n",
              "       over_15mins_calls_per_month  average_call_duration            id  \n",
              "count                  4994.000000            4994.000000   4994.000000  \n",
              "mean                      7.739287               5.957549  10032.925110  \n",
              "std                       8.802897               4.389439   5815.013219  \n",
              "min                       0.000000               1.000000      2.000000  \n",
              "25%                       1.000000               2.000000   4943.000000  \n",
              "50%                       4.000000               5.000000  10124.000000  \n",
              "75%                      14.000000               9.000000  15082.750000  \n",
              "max                      29.000000              15.000000  20000.000000  "
            ],
            "text/html": [
              "\n",
              "  <div id=\"df-ebc47aac-9c55-45bf-8945-e2b0e522616e\" class=\"colab-df-container\">\n",
              "    <div>\n",
              "<style scoped>\n",
              "    .dataframe tbody tr th:only-of-type {\n",
              "        vertical-align: middle;\n",
              "    }\n",
              "\n",
              "    .dataframe tbody tr th {\n",
              "        vertical-align: top;\n",
              "    }\n",
              "\n",
              "    .dataframe thead th {\n",
              "        text-align: right;\n",
              "    }\n",
              "</style>\n",
              "<table border=\"1\" class=\"dataframe\">\n",
              "  <thead>\n",
              "    <tr style=\"text-align: right;\">\n",
              "      <th></th>\n",
              "      <th>income</th>\n",
              "      <th>overage</th>\n",
              "      <th>leftover</th>\n",
              "      <th>house</th>\n",
              "      <th>handset_price</th>\n",
              "      <th>over_15mins_calls_per_month</th>\n",
              "      <th>average_call_duration</th>\n",
              "      <th>id</th>\n",
              "    </tr>\n",
              "  </thead>\n",
              "  <tbody>\n",
              "    <tr>\n",
              "      <th>count</th>\n",
              "      <td>4994.000000</td>\n",
              "      <td>4994.000000</td>\n",
              "      <td>4994.000000</td>\n",
              "      <td>4994.000000</td>\n",
              "      <td>4994.000000</td>\n",
              "      <td>4994.000000</td>\n",
              "      <td>4994.000000</td>\n",
              "      <td>4994.000000</td>\n",
              "    </tr>\n",
              "    <tr>\n",
              "      <th>mean</th>\n",
              "      <td>79911.270525</td>\n",
              "      <td>85.114738</td>\n",
              "      <td>24.244694</td>\n",
              "      <td>493946.252903</td>\n",
              "      <td>387.616340</td>\n",
              "      <td>7.739287</td>\n",
              "      <td>5.957549</td>\n",
              "      <td>10032.925110</td>\n",
              "    </tr>\n",
              "    <tr>\n",
              "      <th>std</th>\n",
              "      <td>41683.689543</td>\n",
              "      <td>85.610045</td>\n",
              "      <td>26.844259</td>\n",
              "      <td>253599.007645</td>\n",
              "      <td>213.659555</td>\n",
              "      <td>8.802897</td>\n",
              "      <td>4.389439</td>\n",
              "      <td>5815.013219</td>\n",
              "    </tr>\n",
              "    <tr>\n",
              "      <th>min</th>\n",
              "      <td>20028.000000</td>\n",
              "      <td>0.000000</td>\n",
              "      <td>0.000000</td>\n",
              "      <td>150305.000000</td>\n",
              "      <td>130.000000</td>\n",
              "      <td>0.000000</td>\n",
              "      <td>1.000000</td>\n",
              "      <td>2.000000</td>\n",
              "    </tr>\n",
              "    <tr>\n",
              "      <th>25%</th>\n",
              "      <td>41591.500000</td>\n",
              "      <td>0.000000</td>\n",
              "      <td>0.000000</td>\n",
              "      <td>260741.500000</td>\n",
              "      <td>219.000000</td>\n",
              "      <td>1.000000</td>\n",
              "      <td>2.000000</td>\n",
              "      <td>4943.000000</td>\n",
              "    </tr>\n",
              "    <tr>\n",
              "      <th>50%</th>\n",
              "      <td>74962.500000</td>\n",
              "      <td>59.000000</td>\n",
              "      <td>15.000000</td>\n",
              "      <td>452087.500000</td>\n",
              "      <td>322.000000</td>\n",
              "      <td>4.000000</td>\n",
              "      <td>5.000000</td>\n",
              "      <td>10124.000000</td>\n",
              "    </tr>\n",
              "    <tr>\n",
              "      <th>75%</th>\n",
              "      <td>115497.000000</td>\n",
              "      <td>177.000000</td>\n",
              "      <td>42.000000</td>\n",
              "      <td>701612.250000</td>\n",
              "      <td>528.000000</td>\n",
              "      <td>14.000000</td>\n",
              "      <td>9.000000</td>\n",
              "      <td>15082.750000</td>\n",
              "    </tr>\n",
              "    <tr>\n",
              "      <th>max</th>\n",
              "      <td>159938.000000</td>\n",
              "      <td>335.000000</td>\n",
              "      <td>89.000000</td>\n",
              "      <td>1000000.000000</td>\n",
              "      <td>899.000000</td>\n",
              "      <td>29.000000</td>\n",
              "      <td>15.000000</td>\n",
              "      <td>20000.000000</td>\n",
              "    </tr>\n",
              "  </tbody>\n",
              "</table>\n",
              "</div>\n",
              "    <div class=\"colab-df-buttons\">\n",
              "\n",
              "  <div class=\"colab-df-container\">\n",
              "    <button class=\"colab-df-convert\" onclick=\"convertToInteractive('df-ebc47aac-9c55-45bf-8945-e2b0e522616e')\"\n",
              "            title=\"Convert this dataframe to an interactive table.\"\n",
              "            style=\"display:none;\">\n",
              "\n",
              "  <svg xmlns=\"http://www.w3.org/2000/svg\" height=\"24px\" viewBox=\"0 -960 960 960\">\n",
              "    <path d=\"M120-120v-720h720v720H120Zm60-500h600v-160H180v160Zm220 220h160v-160H400v160Zm0 220h160v-160H400v160ZM180-400h160v-160H180v160Zm440 0h160v-160H620v160ZM180-180h160v-160H180v160Zm440 0h160v-160H620v160Z\"/>\n",
              "  </svg>\n",
              "    </button>\n",
              "\n",
              "  <style>\n",
              "    .colab-df-container {\n",
              "      display:flex;\n",
              "      gap: 12px;\n",
              "    }\n",
              "\n",
              "    .colab-df-convert {\n",
              "      background-color: #E8F0FE;\n",
              "      border: none;\n",
              "      border-radius: 50%;\n",
              "      cursor: pointer;\n",
              "      display: none;\n",
              "      fill: #1967D2;\n",
              "      height: 32px;\n",
              "      padding: 0 0 0 0;\n",
              "      width: 32px;\n",
              "    }\n",
              "\n",
              "    .colab-df-convert:hover {\n",
              "      background-color: #E2EBFA;\n",
              "      box-shadow: 0px 1px 2px rgba(60, 64, 67, 0.3), 0px 1px 3px 1px rgba(60, 64, 67, 0.15);\n",
              "      fill: #174EA6;\n",
              "    }\n",
              "\n",
              "    .colab-df-buttons div {\n",
              "      margin-bottom: 4px;\n",
              "    }\n",
              "\n",
              "    [theme=dark] .colab-df-convert {\n",
              "      background-color: #3B4455;\n",
              "      fill: #D2E3FC;\n",
              "    }\n",
              "\n",
              "    [theme=dark] .colab-df-convert:hover {\n",
              "      background-color: #434B5C;\n",
              "      box-shadow: 0px 1px 3px 1px rgba(0, 0, 0, 0.15);\n",
              "      filter: drop-shadow(0px 1px 2px rgba(0, 0, 0, 0.3));\n",
              "      fill: #FFFFFF;\n",
              "    }\n",
              "  </style>\n",
              "\n",
              "    <script>\n",
              "      const buttonEl =\n",
              "        document.querySelector('#df-ebc47aac-9c55-45bf-8945-e2b0e522616e button.colab-df-convert');\n",
              "      buttonEl.style.display =\n",
              "        google.colab.kernel.accessAllowed ? 'block' : 'none';\n",
              "\n",
              "      async function convertToInteractive(key) {\n",
              "        const element = document.querySelector('#df-ebc47aac-9c55-45bf-8945-e2b0e522616e');\n",
              "        const dataTable =\n",
              "          await google.colab.kernel.invokeFunction('convertToInteractive',\n",
              "                                                    [key], {});\n",
              "        if (!dataTable) return;\n",
              "\n",
              "        const docLinkHtml = 'Like what you see? Visit the ' +\n",
              "          '<a target=\"_blank\" href=https://colab.research.google.com/notebooks/data_table.ipynb>data table notebook</a>'\n",
              "          + ' to learn more about interactive tables.';\n",
              "        element.innerHTML = '';\n",
              "        dataTable['output_type'] = 'display_data';\n",
              "        await google.colab.output.renderOutput(dataTable, element);\n",
              "        const docLink = document.createElement('div');\n",
              "        docLink.innerHTML = docLinkHtml;\n",
              "        element.appendChild(docLink);\n",
              "      }\n",
              "    </script>\n",
              "  </div>\n",
              "\n",
              "\n",
              "<div id=\"df-398b0855-e666-4341-bd5c-7c1dacaad5ae\">\n",
              "  <button class=\"colab-df-quickchart\" onclick=\"quickchart('df-398b0855-e666-4341-bd5c-7c1dacaad5ae')\"\n",
              "            title=\"Suggest charts\"\n",
              "            style=\"display:none;\">\n",
              "\n",
              "<svg xmlns=\"http://www.w3.org/2000/svg\" height=\"24px\"viewBox=\"0 0 24 24\"\n",
              "     width=\"24px\">\n",
              "    <g>\n",
              "        <path d=\"M19 3H5c-1.1 0-2 .9-2 2v14c0 1.1.9 2 2 2h14c1.1 0 2-.9 2-2V5c0-1.1-.9-2-2-2zM9 17H7v-7h2v7zm4 0h-2V7h2v10zm4 0h-2v-4h2v4z\"/>\n",
              "    </g>\n",
              "</svg>\n",
              "  </button>\n",
              "\n",
              "<style>\n",
              "  .colab-df-quickchart {\n",
              "      --bg-color: #E8F0FE;\n",
              "      --fill-color: #1967D2;\n",
              "      --hover-bg-color: #E2EBFA;\n",
              "      --hover-fill-color: #174EA6;\n",
              "      --disabled-fill-color: #AAA;\n",
              "      --disabled-bg-color: #DDD;\n",
              "  }\n",
              "\n",
              "  [theme=dark] .colab-df-quickchart {\n",
              "      --bg-color: #3B4455;\n",
              "      --fill-color: #D2E3FC;\n",
              "      --hover-bg-color: #434B5C;\n",
              "      --hover-fill-color: #FFFFFF;\n",
              "      --disabled-bg-color: #3B4455;\n",
              "      --disabled-fill-color: #666;\n",
              "  }\n",
              "\n",
              "  .colab-df-quickchart {\n",
              "    background-color: var(--bg-color);\n",
              "    border: none;\n",
              "    border-radius: 50%;\n",
              "    cursor: pointer;\n",
              "    display: none;\n",
              "    fill: var(--fill-color);\n",
              "    height: 32px;\n",
              "    padding: 0;\n",
              "    width: 32px;\n",
              "  }\n",
              "\n",
              "  .colab-df-quickchart:hover {\n",
              "    background-color: var(--hover-bg-color);\n",
              "    box-shadow: 0 1px 2px rgba(60, 64, 67, 0.3), 0 1px 3px 1px rgba(60, 64, 67, 0.15);\n",
              "    fill: var(--button-hover-fill-color);\n",
              "  }\n",
              "\n",
              "  .colab-df-quickchart-complete:disabled,\n",
              "  .colab-df-quickchart-complete:disabled:hover {\n",
              "    background-color: var(--disabled-bg-color);\n",
              "    fill: var(--disabled-fill-color);\n",
              "    box-shadow: none;\n",
              "  }\n",
              "\n",
              "  .colab-df-spinner {\n",
              "    border: 2px solid var(--fill-color);\n",
              "    border-color: transparent;\n",
              "    border-bottom-color: var(--fill-color);\n",
              "    animation:\n",
              "      spin 1s steps(1) infinite;\n",
              "  }\n",
              "\n",
              "  @keyframes spin {\n",
              "    0% {\n",
              "      border-color: transparent;\n",
              "      border-bottom-color: var(--fill-color);\n",
              "      border-left-color: var(--fill-color);\n",
              "    }\n",
              "    20% {\n",
              "      border-color: transparent;\n",
              "      border-left-color: var(--fill-color);\n",
              "      border-top-color: var(--fill-color);\n",
              "    }\n",
              "    30% {\n",
              "      border-color: transparent;\n",
              "      border-left-color: var(--fill-color);\n",
              "      border-top-color: var(--fill-color);\n",
              "      border-right-color: var(--fill-color);\n",
              "    }\n",
              "    40% {\n",
              "      border-color: transparent;\n",
              "      border-right-color: var(--fill-color);\n",
              "      border-top-color: var(--fill-color);\n",
              "    }\n",
              "    60% {\n",
              "      border-color: transparent;\n",
              "      border-right-color: var(--fill-color);\n",
              "    }\n",
              "    80% {\n",
              "      border-color: transparent;\n",
              "      border-right-color: var(--fill-color);\n",
              "      border-bottom-color: var(--fill-color);\n",
              "    }\n",
              "    90% {\n",
              "      border-color: transparent;\n",
              "      border-bottom-color: var(--fill-color);\n",
              "    }\n",
              "  }\n",
              "</style>\n",
              "\n",
              "  <script>\n",
              "    async function quickchart(key) {\n",
              "      const quickchartButtonEl =\n",
              "        document.querySelector('#' + key + ' button');\n",
              "      quickchartButtonEl.disabled = true;  // To prevent multiple clicks.\n",
              "      quickchartButtonEl.classList.add('colab-df-spinner');\n",
              "      try {\n",
              "        const charts = await google.colab.kernel.invokeFunction(\n",
              "            'suggestCharts', [key], {});\n",
              "      } catch (error) {\n",
              "        console.error('Error during call to suggestCharts:', error);\n",
              "      }\n",
              "      quickchartButtonEl.classList.remove('colab-df-spinner');\n",
              "      quickchartButtonEl.classList.add('colab-df-quickchart-complete');\n",
              "    }\n",
              "    (() => {\n",
              "      let quickchartButtonEl =\n",
              "        document.querySelector('#df-398b0855-e666-4341-bd5c-7c1dacaad5ae button');\n",
              "      quickchartButtonEl.style.display =\n",
              "        google.colab.kernel.accessAllowed ? 'block' : 'none';\n",
              "    })();\n",
              "  </script>\n",
              "</div>\n",
              "\n",
              "    </div>\n",
              "  </div>\n"
            ],
            "application/vnd.google.colaboratory.intrinsic+json": {
              "type": "dataframe",
              "summary": "{\n  \"name\": \"df_clean\",\n  \"rows\": 8,\n  \"fields\": [\n    {\n      \"column\": \"income\",\n      \"properties\": {\n        \"dtype\": \"number\",\n        \"std\": 51486.89785448577,\n        \"min\": 4994.0,\n        \"max\": 159938.0,\n        \"num_unique_values\": 8,\n        \"samples\": [\n          79911.27052462955,\n          74962.5,\n          4994.0\n        ],\n        \"semantic_type\": \"\",\n        \"description\": \"\"\n      }\n    },\n    {\n      \"column\": \"overage\",\n      \"properties\": {\n        \"dtype\": \"number\",\n        \"std\": 1731.610614875579,\n        \"min\": 0.0,\n        \"max\": 4994.0,\n        \"num_unique_values\": 7,\n        \"samples\": [\n          4994.0,\n          85.11473768522227,\n          177.0\n        ],\n        \"semantic_type\": \"\",\n        \"description\": \"\"\n      }\n    },\n    {\n      \"column\": \"leftover\",\n      \"properties\": {\n        \"dtype\": \"number\",\n        \"std\": 1755.92177074289,\n        \"min\": 0.0,\n        \"max\": 4994.0,\n        \"num_unique_values\": 7,\n        \"samples\": [\n          4994.0,\n          24.244693632358832,\n          42.0\n        ],\n        \"semantic_type\": \"\",\n        \"description\": \"\"\n      }\n    },\n    {\n      \"column\": \"house\",\n      \"properties\": {\n        \"dtype\": \"number\",\n        \"std\": 320711.9273726603,\n        \"min\": 4994.0,\n        \"max\": 1000000.0,\n        \"num_unique_values\": 8,\n        \"samples\": [\n          493946.25290348416,\n          452087.5,\n          4994.0\n        ],\n        \"semantic_type\": \"\",\n        \"description\": \"\"\n      }\n    },\n    {\n      \"column\": \"handset_price\",\n      \"properties\": {\n        \"dtype\": \"number\",\n        \"std\": 1647.2119771204184,\n        \"min\": 130.0,\n        \"max\": 4994.0,\n        \"num_unique_values\": 8,\n        \"samples\": [\n          387.616339607529,\n          322.0,\n          4994.0\n        ],\n        \"semantic_type\": \"\",\n        \"description\": \"\"\n      }\n    },\n    {\n      \"column\": \"over_15mins_calls_per_month\",\n      \"properties\": {\n        \"dtype\": \"number\",\n        \"std\": 1762.4099271334871,\n        \"min\": 0.0,\n        \"max\": 4994.0,\n        \"num_unique_values\": 8,\n        \"samples\": [\n          7.739287144573488,\n          4.0,\n          4994.0\n        ],\n        \"semantic_type\": \"\",\n        \"description\": \"\"\n      }\n    },\n    {\n      \"column\": \"average_call_duration\",\n      \"properties\": {\n        \"dtype\": \"number\",\n        \"std\": 1763.5122376600102,\n        \"min\": 1.0,\n        \"max\": 4994.0,\n        \"num_unique_values\": 8,\n        \"samples\": [\n          5.957549058870645,\n          5.0,\n          4994.0\n        ],\n        \"semantic_type\": \"\",\n        \"description\": \"\"\n      }\n    },\n    {\n      \"column\": \"id\",\n      \"properties\": {\n        \"dtype\": \"number\",\n        \"std\": 6367.540506858398,\n        \"min\": 2.0,\n        \"max\": 20000.0,\n        \"num_unique_values\": 8,\n        \"samples\": [\n          10032.925110132159,\n          10124.0,\n          4994.0\n        ],\n        \"semantic_type\": \"\",\n        \"description\": \"\"\n      }\n    }\n  ]\n}"
            }
          },
          "metadata": {},
          "execution_count": 7
        }
      ],
      "source": [
        "#delete rows with outlier data; put it in a new dataframe\n",
        "df_clean = df[(df['house'] > 0) & (df['income'] > 0) & (df['handset_price'] < 1000)]\n",
        "\n",
        "#delete any rows with missing values in the clean dataframe\n",
        "df_clean = df_clean.dropna()\n",
        "\n",
        "df_clean.describe()"
      ]
    },
    {
      "cell_type": "markdown",
      "metadata": {
        "id": "Zp7wGDqJ4iuL"
      },
      "source": [
        "# Standardize attributes\n",
        "\n",
        "- Convert \"college\" to 0,1\n",
        "- Convert reported_satisfaction to 1,2,3\n",
        "- Convert reported_usage_level to 1,2,3\n",
        "- Convert considering_change_of_plan to 0,1\n",
        "- Convert leave to 0,1\n",
        "\n",
        "I'm going to leave the \"leave\" variable in place, just in case I need the original value"
      ]
    },
    {
      "cell_type": "code",
      "execution_count": 8,
      "metadata": {
        "colab": {
          "base_uri": "https://localhost:8080/",
          "height": 383
        },
        "id": "gvMekcKg4y5X",
        "outputId": "51e49182-16bb-46eb-a279-89c435ee2423"
      },
      "outputs": [
        {
          "output_type": "execute_result",
          "data": {
            "text/plain": [
              "   college  income  overage  leftover   house  handset_price  \\\n",
              "0        1   23859       70         0  519105            154   \n",
              "1        0   72466       67        16  271182            262   \n",
              "2        0   30883       60         0  647281            211   \n",
              "3        1   44512        0        22  754958            232   \n",
              "4        0   70535        0         0  653421            310   \n",
              "5        0  143987        0        56  896544            778   \n",
              "6        1   96668       79        24  259329            365   \n",
              "7        1   50083        0         0  160335            266   \n",
              "8        1  104392        0         0  247836            778   \n",
              "9        1   37852        0        74  264893            857   \n",
              "\n",
              "   over_15mins_calls_per_month  average_call_duration  reported_satisfaction  \\\n",
              "0                          5.0                      8                      1   \n",
              "1                          5.0                      5                      1   \n",
              "2                          3.0                      8                      1   \n",
              "3                          0.0                      5                      1   \n",
              "4                          0.0                     14                      1   \n",
              "5                          5.0                      1                      1   \n",
              "6                          5.0                      6                      1   \n",
              "7                          5.0                     10                      1   \n",
              "8                          1.0                      8                      3   \n",
              "9                          0.0                      2                      1   \n",
              "\n",
              "   reported_usage_level  considering_change_of_plan  leave     id  leave_flag  \n",
              "0                     1                         1.0  LEAVE   8183        True  \n",
              "1                     1                         1.0  LEAVE  12501        True  \n",
              "2                     1                         1.0   STAY   7425       False  \n",
              "3                     1                         0.0  LEAVE  13488        True  \n",
              "4                     1                         1.0   STAY  11389       False  \n",
              "5                     3                         1.0   STAY  14674       False  \n",
              "6                     2                         1.0  LEAVE  19100        True  \n",
              "7                     3                         1.0   STAY  18170       False  \n",
              "8                     1                         0.0  LEAVE   3201        True  \n",
              "9                     1                         1.0  LEAVE  12612        True  "
            ],
            "text/html": [
              "\n",
              "  <div id=\"df-fe5f7e2b-6658-44d5-94f9-a0a149c23abf\" class=\"colab-df-container\">\n",
              "    <div>\n",
              "<style scoped>\n",
              "    .dataframe tbody tr th:only-of-type {\n",
              "        vertical-align: middle;\n",
              "    }\n",
              "\n",
              "    .dataframe tbody tr th {\n",
              "        vertical-align: top;\n",
              "    }\n",
              "\n",
              "    .dataframe thead th {\n",
              "        text-align: right;\n",
              "    }\n",
              "</style>\n",
              "<table border=\"1\" class=\"dataframe\">\n",
              "  <thead>\n",
              "    <tr style=\"text-align: right;\">\n",
              "      <th></th>\n",
              "      <th>college</th>\n",
              "      <th>income</th>\n",
              "      <th>overage</th>\n",
              "      <th>leftover</th>\n",
              "      <th>house</th>\n",
              "      <th>handset_price</th>\n",
              "      <th>over_15mins_calls_per_month</th>\n",
              "      <th>average_call_duration</th>\n",
              "      <th>reported_satisfaction</th>\n",
              "      <th>reported_usage_level</th>\n",
              "      <th>considering_change_of_plan</th>\n",
              "      <th>leave</th>\n",
              "      <th>id</th>\n",
              "      <th>leave_flag</th>\n",
              "    </tr>\n",
              "  </thead>\n",
              "  <tbody>\n",
              "    <tr>\n",
              "      <th>0</th>\n",
              "      <td>1</td>\n",
              "      <td>23859</td>\n",
              "      <td>70</td>\n",
              "      <td>0</td>\n",
              "      <td>519105</td>\n",
              "      <td>154</td>\n",
              "      <td>5.0</td>\n",
              "      <td>8</td>\n",
              "      <td>1</td>\n",
              "      <td>1</td>\n",
              "      <td>1.0</td>\n",
              "      <td>LEAVE</td>\n",
              "      <td>8183</td>\n",
              "      <td>True</td>\n",
              "    </tr>\n",
              "    <tr>\n",
              "      <th>1</th>\n",
              "      <td>0</td>\n",
              "      <td>72466</td>\n",
              "      <td>67</td>\n",
              "      <td>16</td>\n",
              "      <td>271182</td>\n",
              "      <td>262</td>\n",
              "      <td>5.0</td>\n",
              "      <td>5</td>\n",
              "      <td>1</td>\n",
              "      <td>1</td>\n",
              "      <td>1.0</td>\n",
              "      <td>LEAVE</td>\n",
              "      <td>12501</td>\n",
              "      <td>True</td>\n",
              "    </tr>\n",
              "    <tr>\n",
              "      <th>2</th>\n",
              "      <td>0</td>\n",
              "      <td>30883</td>\n",
              "      <td>60</td>\n",
              "      <td>0</td>\n",
              "      <td>647281</td>\n",
              "      <td>211</td>\n",
              "      <td>3.0</td>\n",
              "      <td>8</td>\n",
              "      <td>1</td>\n",
              "      <td>1</td>\n",
              "      <td>1.0</td>\n",
              "      <td>STAY</td>\n",
              "      <td>7425</td>\n",
              "      <td>False</td>\n",
              "    </tr>\n",
              "    <tr>\n",
              "      <th>3</th>\n",
              "      <td>1</td>\n",
              "      <td>44512</td>\n",
              "      <td>0</td>\n",
              "      <td>22</td>\n",
              "      <td>754958</td>\n",
              "      <td>232</td>\n",
              "      <td>0.0</td>\n",
              "      <td>5</td>\n",
              "      <td>1</td>\n",
              "      <td>1</td>\n",
              "      <td>0.0</td>\n",
              "      <td>LEAVE</td>\n",
              "      <td>13488</td>\n",
              "      <td>True</td>\n",
              "    </tr>\n",
              "    <tr>\n",
              "      <th>4</th>\n",
              "      <td>0</td>\n",
              "      <td>70535</td>\n",
              "      <td>0</td>\n",
              "      <td>0</td>\n",
              "      <td>653421</td>\n",
              "      <td>310</td>\n",
              "      <td>0.0</td>\n",
              "      <td>14</td>\n",
              "      <td>1</td>\n",
              "      <td>1</td>\n",
              "      <td>1.0</td>\n",
              "      <td>STAY</td>\n",
              "      <td>11389</td>\n",
              "      <td>False</td>\n",
              "    </tr>\n",
              "    <tr>\n",
              "      <th>5</th>\n",
              "      <td>0</td>\n",
              "      <td>143987</td>\n",
              "      <td>0</td>\n",
              "      <td>56</td>\n",
              "      <td>896544</td>\n",
              "      <td>778</td>\n",
              "      <td>5.0</td>\n",
              "      <td>1</td>\n",
              "      <td>1</td>\n",
              "      <td>3</td>\n",
              "      <td>1.0</td>\n",
              "      <td>STAY</td>\n",
              "      <td>14674</td>\n",
              "      <td>False</td>\n",
              "    </tr>\n",
              "    <tr>\n",
              "      <th>6</th>\n",
              "      <td>1</td>\n",
              "      <td>96668</td>\n",
              "      <td>79</td>\n",
              "      <td>24</td>\n",
              "      <td>259329</td>\n",
              "      <td>365</td>\n",
              "      <td>5.0</td>\n",
              "      <td>6</td>\n",
              "      <td>1</td>\n",
              "      <td>2</td>\n",
              "      <td>1.0</td>\n",
              "      <td>LEAVE</td>\n",
              "      <td>19100</td>\n",
              "      <td>True</td>\n",
              "    </tr>\n",
              "    <tr>\n",
              "      <th>7</th>\n",
              "      <td>1</td>\n",
              "      <td>50083</td>\n",
              "      <td>0</td>\n",
              "      <td>0</td>\n",
              "      <td>160335</td>\n",
              "      <td>266</td>\n",
              "      <td>5.0</td>\n",
              "      <td>10</td>\n",
              "      <td>1</td>\n",
              "      <td>3</td>\n",
              "      <td>1.0</td>\n",
              "      <td>STAY</td>\n",
              "      <td>18170</td>\n",
              "      <td>False</td>\n",
              "    </tr>\n",
              "    <tr>\n",
              "      <th>8</th>\n",
              "      <td>1</td>\n",
              "      <td>104392</td>\n",
              "      <td>0</td>\n",
              "      <td>0</td>\n",
              "      <td>247836</td>\n",
              "      <td>778</td>\n",
              "      <td>1.0</td>\n",
              "      <td>8</td>\n",
              "      <td>3</td>\n",
              "      <td>1</td>\n",
              "      <td>0.0</td>\n",
              "      <td>LEAVE</td>\n",
              "      <td>3201</td>\n",
              "      <td>True</td>\n",
              "    </tr>\n",
              "    <tr>\n",
              "      <th>9</th>\n",
              "      <td>1</td>\n",
              "      <td>37852</td>\n",
              "      <td>0</td>\n",
              "      <td>74</td>\n",
              "      <td>264893</td>\n",
              "      <td>857</td>\n",
              "      <td>0.0</td>\n",
              "      <td>2</td>\n",
              "      <td>1</td>\n",
              "      <td>1</td>\n",
              "      <td>1.0</td>\n",
              "      <td>LEAVE</td>\n",
              "      <td>12612</td>\n",
              "      <td>True</td>\n",
              "    </tr>\n",
              "  </tbody>\n",
              "</table>\n",
              "</div>\n",
              "    <div class=\"colab-df-buttons\">\n",
              "\n",
              "  <div class=\"colab-df-container\">\n",
              "    <button class=\"colab-df-convert\" onclick=\"convertToInteractive('df-fe5f7e2b-6658-44d5-94f9-a0a149c23abf')\"\n",
              "            title=\"Convert this dataframe to an interactive table.\"\n",
              "            style=\"display:none;\">\n",
              "\n",
              "  <svg xmlns=\"http://www.w3.org/2000/svg\" height=\"24px\" viewBox=\"0 -960 960 960\">\n",
              "    <path d=\"M120-120v-720h720v720H120Zm60-500h600v-160H180v160Zm220 220h160v-160H400v160Zm0 220h160v-160H400v160ZM180-400h160v-160H180v160Zm440 0h160v-160H620v160ZM180-180h160v-160H180v160Zm440 0h160v-160H620v160Z\"/>\n",
              "  </svg>\n",
              "    </button>\n",
              "\n",
              "  <style>\n",
              "    .colab-df-container {\n",
              "      display:flex;\n",
              "      gap: 12px;\n",
              "    }\n",
              "\n",
              "    .colab-df-convert {\n",
              "      background-color: #E8F0FE;\n",
              "      border: none;\n",
              "      border-radius: 50%;\n",
              "      cursor: pointer;\n",
              "      display: none;\n",
              "      fill: #1967D2;\n",
              "      height: 32px;\n",
              "      padding: 0 0 0 0;\n",
              "      width: 32px;\n",
              "    }\n",
              "\n",
              "    .colab-df-convert:hover {\n",
              "      background-color: #E2EBFA;\n",
              "      box-shadow: 0px 1px 2px rgba(60, 64, 67, 0.3), 0px 1px 3px 1px rgba(60, 64, 67, 0.15);\n",
              "      fill: #174EA6;\n",
              "    }\n",
              "\n",
              "    .colab-df-buttons div {\n",
              "      margin-bottom: 4px;\n",
              "    }\n",
              "\n",
              "    [theme=dark] .colab-df-convert {\n",
              "      background-color: #3B4455;\n",
              "      fill: #D2E3FC;\n",
              "    }\n",
              "\n",
              "    [theme=dark] .colab-df-convert:hover {\n",
              "      background-color: #434B5C;\n",
              "      box-shadow: 0px 1px 3px 1px rgba(0, 0, 0, 0.15);\n",
              "      filter: drop-shadow(0px 1px 2px rgba(0, 0, 0, 0.3));\n",
              "      fill: #FFFFFF;\n",
              "    }\n",
              "  </style>\n",
              "\n",
              "    <script>\n",
              "      const buttonEl =\n",
              "        document.querySelector('#df-fe5f7e2b-6658-44d5-94f9-a0a149c23abf button.colab-df-convert');\n",
              "      buttonEl.style.display =\n",
              "        google.colab.kernel.accessAllowed ? 'block' : 'none';\n",
              "\n",
              "      async function convertToInteractive(key) {\n",
              "        const element = document.querySelector('#df-fe5f7e2b-6658-44d5-94f9-a0a149c23abf');\n",
              "        const dataTable =\n",
              "          await google.colab.kernel.invokeFunction('convertToInteractive',\n",
              "                                                    [key], {});\n",
              "        if (!dataTable) return;\n",
              "\n",
              "        const docLinkHtml = 'Like what you see? Visit the ' +\n",
              "          '<a target=\"_blank\" href=https://colab.research.google.com/notebooks/data_table.ipynb>data table notebook</a>'\n",
              "          + ' to learn more about interactive tables.';\n",
              "        element.innerHTML = '';\n",
              "        dataTable['output_type'] = 'display_data';\n",
              "        await google.colab.output.renderOutput(dataTable, element);\n",
              "        const docLink = document.createElement('div');\n",
              "        docLink.innerHTML = docLinkHtml;\n",
              "        element.appendChild(docLink);\n",
              "      }\n",
              "    </script>\n",
              "  </div>\n",
              "\n",
              "\n",
              "<div id=\"df-1c1f9313-dbdb-4592-89fe-2c564041f0d1\">\n",
              "  <button class=\"colab-df-quickchart\" onclick=\"quickchart('df-1c1f9313-dbdb-4592-89fe-2c564041f0d1')\"\n",
              "            title=\"Suggest charts\"\n",
              "            style=\"display:none;\">\n",
              "\n",
              "<svg xmlns=\"http://www.w3.org/2000/svg\" height=\"24px\"viewBox=\"0 0 24 24\"\n",
              "     width=\"24px\">\n",
              "    <g>\n",
              "        <path d=\"M19 3H5c-1.1 0-2 .9-2 2v14c0 1.1.9 2 2 2h14c1.1 0 2-.9 2-2V5c0-1.1-.9-2-2-2zM9 17H7v-7h2v7zm4 0h-2V7h2v10zm4 0h-2v-4h2v4z\"/>\n",
              "    </g>\n",
              "</svg>\n",
              "  </button>\n",
              "\n",
              "<style>\n",
              "  .colab-df-quickchart {\n",
              "      --bg-color: #E8F0FE;\n",
              "      --fill-color: #1967D2;\n",
              "      --hover-bg-color: #E2EBFA;\n",
              "      --hover-fill-color: #174EA6;\n",
              "      --disabled-fill-color: #AAA;\n",
              "      --disabled-bg-color: #DDD;\n",
              "  }\n",
              "\n",
              "  [theme=dark] .colab-df-quickchart {\n",
              "      --bg-color: #3B4455;\n",
              "      --fill-color: #D2E3FC;\n",
              "      --hover-bg-color: #434B5C;\n",
              "      --hover-fill-color: #FFFFFF;\n",
              "      --disabled-bg-color: #3B4455;\n",
              "      --disabled-fill-color: #666;\n",
              "  }\n",
              "\n",
              "  .colab-df-quickchart {\n",
              "    background-color: var(--bg-color);\n",
              "    border: none;\n",
              "    border-radius: 50%;\n",
              "    cursor: pointer;\n",
              "    display: none;\n",
              "    fill: var(--fill-color);\n",
              "    height: 32px;\n",
              "    padding: 0;\n",
              "    width: 32px;\n",
              "  }\n",
              "\n",
              "  .colab-df-quickchart:hover {\n",
              "    background-color: var(--hover-bg-color);\n",
              "    box-shadow: 0 1px 2px rgba(60, 64, 67, 0.3), 0 1px 3px 1px rgba(60, 64, 67, 0.15);\n",
              "    fill: var(--button-hover-fill-color);\n",
              "  }\n",
              "\n",
              "  .colab-df-quickchart-complete:disabled,\n",
              "  .colab-df-quickchart-complete:disabled:hover {\n",
              "    background-color: var(--disabled-bg-color);\n",
              "    fill: var(--disabled-fill-color);\n",
              "    box-shadow: none;\n",
              "  }\n",
              "\n",
              "  .colab-df-spinner {\n",
              "    border: 2px solid var(--fill-color);\n",
              "    border-color: transparent;\n",
              "    border-bottom-color: var(--fill-color);\n",
              "    animation:\n",
              "      spin 1s steps(1) infinite;\n",
              "  }\n",
              "\n",
              "  @keyframes spin {\n",
              "    0% {\n",
              "      border-color: transparent;\n",
              "      border-bottom-color: var(--fill-color);\n",
              "      border-left-color: var(--fill-color);\n",
              "    }\n",
              "    20% {\n",
              "      border-color: transparent;\n",
              "      border-left-color: var(--fill-color);\n",
              "      border-top-color: var(--fill-color);\n",
              "    }\n",
              "    30% {\n",
              "      border-color: transparent;\n",
              "      border-left-color: var(--fill-color);\n",
              "      border-top-color: var(--fill-color);\n",
              "      border-right-color: var(--fill-color);\n",
              "    }\n",
              "    40% {\n",
              "      border-color: transparent;\n",
              "      border-right-color: var(--fill-color);\n",
              "      border-top-color: var(--fill-color);\n",
              "    }\n",
              "    60% {\n",
              "      border-color: transparent;\n",
              "      border-right-color: var(--fill-color);\n",
              "    }\n",
              "    80% {\n",
              "      border-color: transparent;\n",
              "      border-right-color: var(--fill-color);\n",
              "      border-bottom-color: var(--fill-color);\n",
              "    }\n",
              "    90% {\n",
              "      border-color: transparent;\n",
              "      border-bottom-color: var(--fill-color);\n",
              "    }\n",
              "  }\n",
              "</style>\n",
              "\n",
              "  <script>\n",
              "    async function quickchart(key) {\n",
              "      const quickchartButtonEl =\n",
              "        document.querySelector('#' + key + ' button');\n",
              "      quickchartButtonEl.disabled = true;  // To prevent multiple clicks.\n",
              "      quickchartButtonEl.classList.add('colab-df-spinner');\n",
              "      try {\n",
              "        const charts = await google.colab.kernel.invokeFunction(\n",
              "            'suggestCharts', [key], {});\n",
              "      } catch (error) {\n",
              "        console.error('Error during call to suggestCharts:', error);\n",
              "      }\n",
              "      quickchartButtonEl.classList.remove('colab-df-spinner');\n",
              "      quickchartButtonEl.classList.add('colab-df-quickchart-complete');\n",
              "    }\n",
              "    (() => {\n",
              "      let quickchartButtonEl =\n",
              "        document.querySelector('#df-1c1f9313-dbdb-4592-89fe-2c564041f0d1 button');\n",
              "      quickchartButtonEl.style.display =\n",
              "        google.colab.kernel.accessAllowed ? 'block' : 'none';\n",
              "    })();\n",
              "  </script>\n",
              "</div>\n",
              "\n",
              "    </div>\n",
              "  </div>\n"
            ],
            "application/vnd.google.colaboratory.intrinsic+json": {
              "type": "dataframe",
              "variable_name": "df_clean",
              "summary": "{\n  \"name\": \"df_clean\",\n  \"rows\": 4994,\n  \"fields\": [\n    {\n      \"column\": \"college\",\n      \"properties\": {\n        \"dtype\": \"number\",\n        \"std\": 0,\n        \"min\": 0,\n        \"max\": 1,\n        \"num_unique_values\": 2,\n        \"samples\": [\n          0,\n          1\n        ],\n        \"semantic_type\": \"\",\n        \"description\": \"\"\n      }\n    },\n    {\n      \"column\": \"income\",\n      \"properties\": {\n        \"dtype\": \"number\",\n        \"std\": 41683,\n        \"min\": 20028,\n        \"max\": 159938,\n        \"num_unique_values\": 4881,\n        \"samples\": [\n          32033,\n          27399\n        ],\n        \"semantic_type\": \"\",\n        \"description\": \"\"\n      }\n    },\n    {\n      \"column\": \"overage\",\n      \"properties\": {\n        \"dtype\": \"number\",\n        \"std\": 85,\n        \"min\": 0,\n        \"max\": 335,\n        \"num_unique_values\": 244,\n        \"samples\": [\n          264,\n          74\n        ],\n        \"semantic_type\": \"\",\n        \"description\": \"\"\n      }\n    },\n    {\n      \"column\": \"leftover\",\n      \"properties\": {\n        \"dtype\": \"number\",\n        \"std\": 26,\n        \"min\": 0,\n        \"max\": 89,\n        \"num_unique_values\": 86,\n        \"samples\": [\n          39,\n          0\n        ],\n        \"semantic_type\": \"\",\n        \"description\": \"\"\n      }\n    },\n    {\n      \"column\": \"house\",\n      \"properties\": {\n        \"dtype\": \"number\",\n        \"std\": 253599,\n        \"min\": 150305,\n        \"max\": 1000000,\n        \"num_unique_values\": 4963,\n        \"samples\": [\n          606971,\n          398255\n        ],\n        \"semantic_type\": \"\",\n        \"description\": \"\"\n      }\n    },\n    {\n      \"column\": \"handset_price\",\n      \"properties\": {\n        \"dtype\": \"number\",\n        \"std\": 213,\n        \"min\": 130,\n        \"max\": 899,\n        \"num_unique_values\": 753,\n        \"samples\": [\n          656,\n          411\n        ],\n        \"semantic_type\": \"\",\n        \"description\": \"\"\n      }\n    },\n    {\n      \"column\": \"over_15mins_calls_per_month\",\n      \"properties\": {\n        \"dtype\": \"number\",\n        \"std\": 8.802897123636287,\n        \"min\": 0.0,\n        \"max\": 29.0,\n        \"num_unique_values\": 25,\n        \"samples\": [\n          18.0,\n          23.0\n        ],\n        \"semantic_type\": \"\",\n        \"description\": \"\"\n      }\n    },\n    {\n      \"column\": \"average_call_duration\",\n      \"properties\": {\n        \"dtype\": \"number\",\n        \"std\": 4,\n        \"min\": 1,\n        \"max\": 15,\n        \"num_unique_values\": 13,\n        \"samples\": [\n          15,\n          12\n        ],\n        \"semantic_type\": \"\",\n        \"description\": \"\"\n      }\n    },\n    {\n      \"column\": \"reported_satisfaction\",\n      \"properties\": {\n        \"dtype\": \"number\",\n        \"std\": 0,\n        \"min\": 1,\n        \"max\": 3,\n        \"num_unique_values\": 3,\n        \"samples\": [\n          1,\n          3\n        ],\n        \"semantic_type\": \"\",\n        \"description\": \"\"\n      }\n    },\n    {\n      \"column\": \"reported_usage_level\",\n      \"properties\": {\n        \"dtype\": \"number\",\n        \"std\": 0,\n        \"min\": 1,\n        \"max\": 3,\n        \"num_unique_values\": 3,\n        \"samples\": [\n          1,\n          3\n        ],\n        \"semantic_type\": \"\",\n        \"description\": \"\"\n      }\n    },\n    {\n      \"column\": \"considering_change_of_plan\",\n      \"properties\": {\n        \"dtype\": \"number\",\n        \"std\": 0.4536584948214585,\n        \"min\": 0.0,\n        \"max\": 1.0,\n        \"num_unique_values\": 3,\n        \"samples\": [\n          1.0,\n          0.0\n        ],\n        \"semantic_type\": \"\",\n        \"description\": \"\"\n      }\n    },\n    {\n      \"column\": \"leave\",\n      \"properties\": {\n        \"dtype\": \"category\",\n        \"num_unique_values\": 2,\n        \"samples\": [\n          \"STAY\",\n          \"LEAVE\"\n        ],\n        \"semantic_type\": \"\",\n        \"description\": \"\"\n      }\n    },\n    {\n      \"column\": \"id\",\n      \"properties\": {\n        \"dtype\": \"number\",\n        \"std\": 5815,\n        \"min\": 2,\n        \"max\": 20000,\n        \"num_unique_values\": 4994,\n        \"samples\": [\n          8356,\n          28\n        ],\n        \"semantic_type\": \"\",\n        \"description\": \"\"\n      }\n    },\n    {\n      \"column\": \"leave_flag\",\n      \"properties\": {\n        \"dtype\": \"boolean\",\n        \"num_unique_values\": 2,\n        \"samples\": [\n          false,\n          true\n        ],\n        \"semantic_type\": \"\",\n        \"description\": \"\"\n      }\n    }\n  ]\n}"
            }
          },
          "metadata": {},
          "execution_count": 8
        }
      ],
      "source": [
        "df_clean.loc[df_clean['college'] == 'one', 'college'] = \"1\"\n",
        "df_clean.loc[df_clean['college'] == 'zero', 'college'] = \"0\"\n",
        "df_clean.loc[df_clean['reported_satisfaction'] == 'low', 'reported_satisfaction'] = \"1\"\n",
        "df_clean.loc[df_clean['reported_satisfaction'] == 'avg', 'reported_satisfaction'] = \"2\"\n",
        "df_clean.loc[df_clean['reported_satisfaction'] == 'high', 'reported_satisfaction'] = \"3\"\n",
        "df_clean.loc[df_clean['reported_usage_level'] == 'low', 'reported_usage_level'] = \"1\"\n",
        "df_clean.loc[df_clean['reported_usage_level'] == 'avg', 'reported_usage_level'] = \"2\"\n",
        "df_clean.loc[df_clean['reported_usage_level'] == 'high', 'reported_usage_level'] = \"3\"\n",
        "df_clean.loc[df_clean['considering_change_of_plan'] == 'yes', 'considering_change_of_plan'] = \"1\"\n",
        "df_clean.loc[df_clean['considering_change_of_plan'] == 'no', 'considering_change_of_plan'] = \"0\"\n",
        "df_clean.loc[df_clean['considering_change_of_plan'] == 'maybe', 'considering_change_of_plan'] = \"0.5\"\n",
        "\n",
        "df_clean['college'] = df_clean['college'].astype('int')\n",
        "df_clean['reported_satisfaction'] = df_clean['reported_satisfaction'].astype('int')\n",
        "df_clean['reported_usage_level'] = df_clean['reported_usage_level'].astype('int')\n",
        "df_clean['considering_change_of_plan'] = df_clean['considering_change_of_plan'].astype('float')\n",
        "\n",
        "#Add new field with binary value for leave\n",
        "df_clean['leave_flag'] = df_clean['leave'].str.replace('STAY','0')\n",
        "df_clean['leave_flag'] = df_clean['leave_flag'].str.replace('LEAVE','1')\n",
        "df_clean['leave_flag'] = df_clean['leave_flag'].astype('int')\n",
        "df_clean['leave_flag'] = df_clean['leave_flag'].astype('bool')\n",
        "\n",
        "df_clean.head(10)"
      ]
    },
    {
      "cell_type": "markdown",
      "metadata": {
        "id": "AuB0G9gJt7gn"
      },
      "source": [
        "# Convert attributes to factors\n",
        "\n",
        "- Leave\n",
        "- College\n",
        "- Reported satisfaction\n",
        "- Reported usage level\n",
        "- Considering change of plan"
      ]
    },
    {
      "cell_type": "code",
      "execution_count": 9,
      "metadata": {
        "colab": {
          "base_uri": "https://localhost:8080/"
        },
        "id": "inCqTVMDt6ex",
        "outputId": "c43885f6-0d79-4d5b-e68e-ffd59e0fbfb7"
      },
      "outputs": [
        {
          "output_type": "stream",
          "name": "stdout",
          "text": [
            "<class 'pandas.core.frame.DataFrame'>\n",
            "Int64Index: 4994 entries, 0 to 4999\n",
            "Data columns (total 14 columns):\n",
            " #   Column                       Non-Null Count  Dtype   \n",
            "---  ------                       --------------  -----   \n",
            " 0   college                      4994 non-null   category\n",
            " 1   income                       4994 non-null   int64   \n",
            " 2   overage                      4994 non-null   int64   \n",
            " 3   leftover                     4994 non-null   int64   \n",
            " 4   house                        4994 non-null   int64   \n",
            " 5   handset_price                4994 non-null   int64   \n",
            " 6   over_15mins_calls_per_month  4994 non-null   float64 \n",
            " 7   average_call_duration        4994 non-null   int64   \n",
            " 8   reported_satisfaction        4994 non-null   category\n",
            " 9   reported_usage_level         4994 non-null   category\n",
            " 10  considering_change_of_plan   4994 non-null   category\n",
            " 11  leave                        4994 non-null   category\n",
            " 12  id                           4994 non-null   int64   \n",
            " 13  leave_flag                   4994 non-null   bool    \n",
            "dtypes: bool(1), category(5), float64(1), int64(7)\n",
            "memory usage: 381.0 KB\n"
          ]
        }
      ],
      "source": [
        "df_clean['leave'] = df_clean['leave'].astype('category')\n",
        "df_clean['college'] = df_clean['college'].astype('category')\n",
        "df_clean['reported_satisfaction'] = df_clean['reported_satisfaction'].astype('category')\n",
        "df_clean['reported_usage_level'] = df_clean['reported_usage_level'].astype('category')\n",
        "df_clean['considering_change_of_plan'] = df_clean['considering_change_of_plan'].astype('category')\n",
        "\n",
        "df_clean.info()"
      ]
    },
    {
      "cell_type": "markdown",
      "metadata": {
        "id": "SxpDe4NWKb3H"
      },
      "source": [
        "# What is the base probability of leaving?\n",
        "\n",
        "If we use no model at all, how good is our chance of predicting someone leaving?"
      ]
    },
    {
      "cell_type": "code",
      "execution_count": 20,
      "metadata": {
        "colab": {
          "base_uri": "https://localhost:8080/"
        },
        "id": "g6JlH3TiKk16",
        "outputId": "91253b99-4e61-43d8-b995-217d86b1cac1"
      },
      "outputs": [
        {
          "output_type": "execute_result",
          "data": {
            "text/plain": [
              "0.4941930316379656"
            ]
          },
          "metadata": {},
          "execution_count": 20
        }
      ],
      "source": [
        "df_clean['leave_flag'].mean()"
      ]
    },
    {
      "cell_type": "markdown",
      "metadata": {
        "id": "0kqsDDZEt4iL"
      },
      "source": [
        "#Split the training and testing datasets"
      ]
    },
    {
      "cell_type": "code",
      "execution_count": 11,
      "metadata": {
        "id": "bRmlBElPt9eh"
      },
      "outputs": [],
      "source": [
        "# split the datafram into independent (x) and dependent (predicted) attributes (y)\n",
        "x = df_clean[['income','house','college','overage','leftover','handset_price','over_15mins_calls_per_month','average_call_duration']] #,'reported_satisfaction','reported_usage_level','considering_change_of_plan']]\n",
        "y = df_clean['leave_flag']\n",
        "\n",
        "#place 20% of data in a test dataframe\n",
        "x_train, x_test, y_train, y_test = train_test_split(x, y, test_size=0.2)"
      ]
    },
    {
      "cell_type": "markdown",
      "metadata": {
        "id": "SoJLJMlceORN"
      },
      "source": [
        "## Fit a basic tree model\n",
        "\n",
        "Use all available attributes"
      ]
    },
    {
      "cell_type": "code",
      "execution_count": 12,
      "metadata": {
        "id": "WBH7aRXbOUf4"
      },
      "outputs": [],
      "source": [
        "\n",
        "\n",
        "megatelco_tree = DecisionTreeClassifier(criterion=\"entropy\", max_depth=4)\n",
        "\n",
        "# Create Decision Tree Classifer\n",
        "megatelco_tree = megatelco_tree.fit(x_train,y_train)\n",
        "\n",
        "# Use the tree to predict \"leave\"\n",
        "y_predict = megatelco_tree.predict(x_test)\n",
        "\n",
        "\n"
      ]
    },
    {
      "cell_type": "markdown",
      "metadata": {
        "id": "kS4-f2osS0s0"
      },
      "source": [
        "## What is the accuracy?\n",
        "\n",
        "Is it better than the 49% base probability?"
      ]
    },
    {
      "cell_type": "code",
      "execution_count": 13,
      "metadata": {
        "colab": {
          "base_uri": "https://localhost:8080/"
        },
        "id": "kl_KUqeqS6Nf",
        "outputId": "f8378325-671d-4191-e9da-2576c182fe6e"
      },
      "outputs": [
        {
          "output_type": "stream",
          "name": "stdout",
          "text": [
            "Accuracy: 0.6956956956956957\n"
          ]
        }
      ],
      "source": [
        "print(\"Accuracy:\",metrics.accuracy_score(y_test, y_predict))"
      ]
    },
    {
      "cell_type": "markdown",
      "metadata": {
        "id": "-I66jKusS_Xe"
      },
      "source": [
        "# Create a confusion matrix\n",
        "\n",
        "This will show false positives, true positives, etc."
      ]
    },
    {
      "cell_type": "code",
      "execution_count": 14,
      "metadata": {
        "colab": {
          "base_uri": "https://localhost:8080/"
        },
        "id": "l_dKmgjmTGsj",
        "outputId": "6f0467af-bef2-45b8-fcfa-ff24f2c0beb0"
      },
      "outputs": [
        {
          "output_type": "stream",
          "name": "stdout",
          "text": [
            "[[313 205]\n",
            " [ 99 382]]\n"
          ]
        }
      ],
      "source": [
        "# create a confusion matrix\n",
        "megatelco_tree_matrix = confusion_matrix(y_test, y_predict)\n",
        "print(megatelco_tree_matrix)"
      ]
    },
    {
      "cell_type": "markdown",
      "metadata": {
        "id": "sSNfQKZA3jg2"
      },
      "source": [
        "## Plot the confusion matrix\n",
        "\n",
        "We will use a Seaborn library for this"
      ]
    },
    {
      "cell_type": "code",
      "execution_count": 15,
      "metadata": {
        "colab": {
          "base_uri": "https://localhost:8080/",
          "height": 490
        },
        "id": "eVOSIP8SeYg3",
        "outputId": "4b721305-c5b2-4109-94d8-c6f4a9a39ee2"
      },
      "outputs": [
        {
          "output_type": "execute_result",
          "data": {
            "text/plain": [
              "[Text(0, 0.5, 'Stay'), Text(0, 1.5, 'Leave')]"
            ]
          },
          "metadata": {},
          "execution_count": 15
        },
        {
          "output_type": "display_data",
          "data": {
            "text/plain": [
              "<Figure size 640x480 with 2 Axes>"
            ],
            "image/png": "[encoded data removed]"
          },
          "metadata": {}
        }
      ],
      "source": [
        "#Create a heatmap from our confusion matrix\n",
        "cm = sns.heatmap(megatelco_tree_matrix, annot=True, fmt='d',cmap='Reds')\n",
        "\n",
        "cm.set_title('Confusion Matrix');\n",
        "cm.set_xlabel('Predicted')\n",
        "cm.set_ylabel('Observered (Actual)');\n",
        "\n",
        "cm.xaxis.set_ticklabels(['Stay','Leave'])\n",
        "cm.yaxis.set_ticklabels(['Stay','Leave'])"
      ]
    },
    {
      "cell_type": "markdown",
      "metadata": {
        "id": "vTC161_b9kWm"
      },
      "source": [
        "## Calculate Profit\n",
        "\n",
        "Using the confusion matrix in the previous question how much profit (revenue - costs) could be expected with these costs-benefits?\n",
        "\n",
        "For MegaTelCo we will assume benefit (revenue) = 800 and cost = 200.  TPs are a benefit, FPs are a cost. Again, we ignore those predicted to stay. (The cost-benefit numbers will be different in the AdviseInvest case! )\n",
        "\n",
        "Why are TPs a benefit? In the MegaTelCo scenario, these are customers who are predicted to leave and actually were going to leave. If your marketing campaign is successful, then you can convince them to stay, thereby saving the company money. (In the AdviseInvest scenario, TPs are customers that you have predicted will answer the phone and do answer, thus providing an opportunity for your sales reps to make a sale.)\n",
        "\n",
        "**Assume you can save 100% of the people who were actually going to leave.**  "
      ]
    },
    {
      "cell_type": "code",
      "execution_count": 16,
      "metadata": {
        "colab": {
          "base_uri": "https://localhost:8080/"
        },
        "id": "y3BHSJu-9s8z",
        "outputId": "d752479c-a3c2-4ded-84e0-1274d08e2a64"
      },
      "outputs": [
        {
          "output_type": "execute_result",
          "data": {
            "text/plain": [
              "202200"
            ]
          },
          "metadata": {},
          "execution_count": 16
        }
      ],
      "source": [
        "# True leavers * 600 -> You rescued these leave-leave people\n",
        "# False leavers * 200 -> You wasted your money on the leave-stay people since they weren't actually going to leave\n",
        "375 * (800-200) - 114 * 200"
      ]
    },
    {
      "cell_type": "markdown",
      "metadata": {
        "id": "fwflt1dBC_q-"
      },
      "source": [
        "## Fine tune the model\n",
        "\n",
        "Adjust the threshold for giving offers down to 0.2.  What happens to profit?\n",
        "\n",
        "The default threshold is 0.5 or 50% likely to make a choice.  If we adjust to 0.20, we are looking for customers with even a 20% chance of leaving.   This will lead to more offers being made and more false positives.  \n",
        "\n"
      ]
    },
    {
      "cell_type": "code",
      "execution_count": 17,
      "metadata": {
        "colab": {
          "base_uri": "https://localhost:8080/"
        },
        "id": "wdCte4KoDeze",
        "outputId": "26446a5d-6b02-474b-f5f6-9043cf9fd6dd"
      },
      "outputs": [
        {
          "output_type": "stream",
          "name": "stdout",
          "text": [
            "[[108 410]\n",
            " [ 19 462]]\n"
          ]
        }
      ],
      "source": [
        "\n",
        "\n",
        "megatelco2_tree = DecisionTreeClassifier(criterion=\"entropy\", max_depth=4)\n",
        "\n",
        "# Create Decision Tree Classifer\n",
        "megatelco2_tree = megatelco2_tree.fit(x_train,y_train)\n",
        "\n",
        "# Use the tree to predict \"leave\"\n",
        "y_predict2 = (megatelco2_tree.predict_proba(x_test)[:,1] >= 0.2)\n",
        "\n",
        "\n",
        "# create a confusion matrix\n",
        "megatelco2_matrix = confusion_matrix(y_test, y_predict2)\n",
        "print(megatelco2_matrix)\n",
        "\n",
        ""
      ]
    },
    {
      "cell_type": "markdown",
      "metadata": {
        "id": "sUjcGGHVJZjM"
      },
      "source": [
        "## Create a new confusion matrix"
      ]
    },
    {
      "cell_type": "code",
      "execution_count": 18,
      "metadata": {
        "colab": {
          "base_uri": "https://localhost:8080/",
          "height": 490
        },
        "id": "EB-7JVcAJYeU",
        "outputId": "3e39a9c4-03f3-4fc1-9f47-cf423a1498b0"
      },
      "outputs": [
        {
          "output_type": "execute_result",
          "data": {
            "text/plain": [
              "[Text(0, 0.5, 'Stay'), Text(0, 1.5, 'Leave')]"
            ]
          },
          "metadata": {},
          "execution_count": 18
        },
        {
          "output_type": "display_data",
          "data": {
            "text/plain": [
              "<Figure size 640x480 with 2 Axes>"
            ],
            "image/png": "[encoded data removed]"
          },
          "metadata": {}
        }
      ],
      "source": [
        "import seaborn as sns\n",
        "\n",
        "#Create a heatmap from our confusion matrix\n",
        "cm = sns.heatmap(megatelco2_matrix , annot=True, fmt='d',cmap='Reds')\n",
        "\n",
        "cm.set_title('Confusion Matrix');\n",
        "cm.set_xlabel('Predicted')\n",
        "cm.set_ylabel('Observered (Actual)');\n",
        "\n",
        "cm.xaxis.set_ticklabels(['Stay','Leave'])\n",
        "cm.yaxis.set_ticklabels(['Stay','Leave'])\n"
      ]
    },
    {
      "cell_type": "markdown",
      "metadata": {
        "id": "ww9cgPXwM98V"
      },
      "source": [
        "## Calculate profite for new model"
      ]
    },
    {
      "cell_type": "code",
      "execution_count": 19,
      "metadata": {
        "colab": {
          "base_uri": "https://localhost:8080/"
        },
        "id": "ATaPW2kHNBrv",
        "outputId": "ce373d1f-c3cd-4866-8788-8f8e95675fa6"
      },
      "outputs": [
        {
          "output_type": "execute_result",
          "data": {
            "text/plain": [
              "277400"
            ]
          },
          "metadata": {},
          "execution_count": 19
        }
      ],
      "source": [
        "# True leavers * 600 -> You rescued these leave-leave people\n",
        "# False leavers * 200 -> You wasted your money on the leave-stay people since they weren't actually going to leave\n",
        "( 469 * (800-200)) - (20 * 200)"
      ]
    },
    {
      "cell_type": "markdown",
      "metadata": {
        "id": "fJjZrIfHziNN"
      },
      "source": [
        "## Optimize the Model\n",
        "\n",
        "➡️ Assignment Tasks\n",
        "What is the optimal profit possible?  Iterate through multiple probability levels to find the shape of the profitability curve.\n",
        "- Create at least 5 different confusion matrix versions at different probability levels.   Your last version should be the most profitable"
      ]
    },
    {
      "cell_type": "code",
      "execution_count": null,
      "metadata": {
        "id": "ALItHiupziNN"
      },
      "outputs": [],
      "source": [
        "#version 1"
      ]
    },
    {
      "cell_type": "code",
      "source": [
        "##increasing max depth"
      ],
      "metadata": {
        "id": "-S-58rRd3myh"
      },
      "execution_count": null,
      "outputs": []
    },
    {
      "cell_type": "code",
      "source": [
        "\n",
        "megatelco3_tree = DecisionTreeClassifier(criterion=\"entropy\", max_depth=6)\n",
        "\n",
        "# Create Decision Tree Classifer\n",
        "megatelco3_tree = megatelco3_tree.fit(x_train,y_train)\n",
        "\n",
        "# Use the tree to predict \"leave\"\n",
        "y_predict3 = (megatelco3_tree.predict_proba(x_test)[:,1] >= 0.2)\n",
        "\n",
        "\n",
        "# create a confusion matrix\n",
        "megatelco3_matrix = confusion_matrix(y_test, y_predict3)\n",
        "print(megatelco3_matrix)"
      ],
      "metadata": {
        "id": "skwEYOi43k-T",
        "outputId": "be0bdb8e-5dc2-4c48-a818-20840c68a698",
        "colab": {
          "base_uri": "https://localhost:8080/"
        }
      },
      "execution_count": 21,
      "outputs": [
        {
          "output_type": "stream",
          "name": "stdout",
          "text": [
            "[[100 418]\n",
            " [ 25 456]]\n"
          ]
        }
      ]
    },
    {
      "cell_type": "code",
      "source": [
        "import seaborn as sns\n",
        "\n",
        "#Create a heatmap from our confusion matrix\n",
        "cm = sns.heatmap(megatelco3_matrix , annot=True, fmt='d',cmap='Reds')\n",
        "\n",
        "cm.set_title('Confusion Matrix');\n",
        "cm.set_xlabel('Predicted')\n",
        "cm.set_ylabel('Observered (Actual)');\n",
        "\n",
        "cm.xaxis.set_ticklabels(['Stay','Leave'])\n",
        "cm.yaxis.set_ticklabels(['Stay','Leave'])"
      ],
      "metadata": {
        "id": "5bGV1XvG30c7",
        "outputId": "4e6d423b-25ca-4a4f-8736-9ccf24a85bdc",
        "colab": {
          "base_uri": "https://localhost:8080/",
          "height": 490
        }
      },
      "execution_count": 22,
      "outputs": [
        {
          "output_type": "execute_result",
          "data": {
            "text/plain": [
              "[Text(0, 0.5, 'Stay'), Text(0, 1.5, 'Leave')]"
            ]
          },
          "metadata": {},
          "execution_count": 22
        },
        {
          "output_type": "display_data",
          "data": {
            "text/plain": [
              "<Figure size 640x480 with 2 Axes>"
            ],
            "image/png": "[encoded data removed]"
          },
          "metadata": {}
        }
      ]
    },
    {
      "cell_type": "code",
      "source": [
        "# True leavers * 600 -> You rescued these leave-leave people\n",
        "# False leavers * 200 -> You wasted your money on the leave-stay people since they weren't actually going to leave\n",
        "( 456 * (800-200)) - (25 * 200)"
      ],
      "metadata": {
        "id": "BLytjJ9V36Wy",
        "outputId": "b38f1c01-1bad-4f71-a5dc-7c34a9d00c5b",
        "colab": {
          "base_uri": "https://localhost:8080/"
        }
      },
      "execution_count": 23,
      "outputs": [
        {
          "output_type": "execute_result",
          "data": {
            "text/plain": [
              "268600"
            ]
          },
          "metadata": {},
          "execution_count": 23
        }
      ]
    },
    {
      "cell_type": "code",
      "execution_count": null,
      "metadata": {
        "id": "YL2tRcqiziNN"
      },
      "outputs": [],
      "source": [
        "#version 2"
      ]
    },
    {
      "cell_type": "code",
      "source": [
        "##descreaing max depth"
      ],
      "metadata": {
        "id": "HgnZq8S_4E5A"
      },
      "execution_count": null,
      "outputs": []
    },
    {
      "cell_type": "code",
      "source": [
        "megatelco4_tree = DecisionTreeClassifier(criterion=\"entropy\", max_depth=3)\n",
        "\n",
        "# Create Decision Tree Classifer\n",
        "megatelco4_tree = megatelco4_tree.fit(x_train,y_train)\n",
        "\n",
        "# Use the tree to predict \"leave\"\n",
        "y_predict4 = (megatelco4_tree.predict_proba(x_test)[:,1] >= 0.2)\n",
        "\n",
        "\n",
        "# create a confusion matrix\n",
        "megatelco4_matrix = confusion_matrix(y_test, y_predict4)\n",
        "print(megatelco4_matrix)"
      ],
      "metadata": {
        "id": "Mnh2LwAR4Igz",
        "outputId": "eb51ca3c-d09a-4097-82ca-b8b85743eba2",
        "colab": {
          "base_uri": "https://localhost:8080/"
        }
      },
      "execution_count": 24,
      "outputs": [
        {
          "output_type": "stream",
          "name": "stdout",
          "text": [
            "[[189 329]\n",
            " [ 39 442]]\n"
          ]
        }
      ]
    },
    {
      "cell_type": "code",
      "source": [
        "#Create a heatmap from our confusion matrix\n",
        "cm = sns.heatmap(megatelco4_matrix , annot=True, fmt='d',cmap='Reds')\n",
        "\n",
        "cm.set_title('Confusion Matrix');\n",
        "cm.set_xlabel('Predicted')\n",
        "cm.set_ylabel('Observered (Actual)');\n",
        "\n",
        "cm.xaxis.set_ticklabels(['Stay','Leave'])\n",
        "cm.yaxis.set_ticklabels(['Stay','Leave'])"
      ],
      "metadata": {
        "id": "PkQSymXZ4iAX",
        "outputId": "7fc93b74-06c2-4bbe-c2dc-1f106e578583",
        "colab": {
          "base_uri": "https://localhost:8080/",
          "height": 490
        }
      },
      "execution_count": 26,
      "outputs": [
        {
          "output_type": "execute_result",
          "data": {
            "text/plain": [
              "[Text(0, 0.5, 'Stay'), Text(0, 1.5, 'Leave')]"
            ]
          },
          "metadata": {},
          "execution_count": 26
        },
        {
          "output_type": "display_data",
          "data": {
            "text/plain": [
              "<Figure size 640x480 with 2 Axes>"
            ],
            "image/png": "[encoded data removed]"
          },
          "metadata": {}
        }
      ]
    },
    {
      "cell_type": "code",
      "source": [
        "# True leavers * 600 -> You rescued these leave-leave people\n",
        "# False leavers * 200 -> You wasted your money on the leave-stay people since they weren't actually going to leave\n",
        "( 442 * (800-200)) - (39 * 200)"
      ],
      "metadata": {
        "id": "NN3ALGm44WA-",
        "outputId": "e39bdff0-60cf-4386-8535-a391a7839d9f",
        "colab": {
          "base_uri": "https://localhost:8080/"
        }
      },
      "execution_count": 25,
      "outputs": [
        {
          "output_type": "execute_result",
          "data": {
            "text/plain": [
              "257400"
            ]
          },
          "metadata": {},
          "execution_count": 25
        }
      ]
    },
    {
      "cell_type": "code",
      "execution_count": null,
      "metadata": {
        "id": "v1WH61ADziNO"
      },
      "outputs": [],
      "source": [
        "#version 3"
      ]
    },
    {
      "cell_type": "code",
      "source": [
        "##increasing threshold to .35"
      ],
      "metadata": {
        "id": "eqtzNGVH4o4z"
      },
      "execution_count": null,
      "outputs": []
    },
    {
      "cell_type": "code",
      "source": [
        "megatelco5_tree = DecisionTreeClassifier(criterion=\"entropy\", max_depth=4)\n",
        "\n",
        "# Create Decision Tree Classifer\n",
        "megatelco5_tree = megatelco5_tree.fit(x_train,y_train)\n",
        "\n",
        "# Use the tree to predict \"leave\"\n",
        "y_predict5 = (megatelco5_tree.predict_proba(x_test)[:,1] >= 0.35)\n",
        "\n",
        "\n",
        "# create a confusion matrix\n",
        "megatelco5_matrix = confusion_matrix(y_test, y_predict5)\n",
        "print(megatelco5_matrix)"
      ],
      "metadata": {
        "id": "juJeCYx840-d",
        "outputId": "5350467d-5a66-4a64-c7e0-2c272b28796a",
        "colab": {
          "base_uri": "https://localhost:8080/"
        }
      },
      "execution_count": 27,
      "outputs": [
        {
          "output_type": "stream",
          "name": "stdout",
          "text": [
            "[[313 205]\n",
            " [ 99 382]]\n"
          ]
        }
      ]
    },
    {
      "cell_type": "code",
      "source": [
        "#Create a heatmap from our confusion matrix\n",
        "cm = sns.heatmap(megatelco5_matrix , annot=True, fmt='d',cmap='Reds')\n",
        "\n",
        "cm.set_title('Confusion Matrix');\n",
        "cm.set_xlabel('Predicted')\n",
        "cm.set_ylabel('Observered (Actual)');\n",
        "\n",
        "cm.xaxis.set_ticklabels(['Stay','Leave'])\n",
        "cm.yaxis.set_ticklabels(['Stay','Leave'])"
      ],
      "metadata": {
        "id": "MAUipBoh5PVs",
        "outputId": "fff1a5d0-056c-42bf-e1a4-66ce485597c7",
        "colab": {
          "base_uri": "https://localhost:8080/",
          "height": 490
        }
      },
      "execution_count": 35,
      "outputs": [
        {
          "output_type": "execute_result",
          "data": {
            "text/plain": [
              "[Text(0, 0.5, 'Stay'), Text(0, 1.5, 'Leave')]"
            ]
          },
          "metadata": {},
          "execution_count": 35
        },
        {
          "output_type": "display_data",
          "data": {
            "text/plain": [
              "<Figure size 640x480 with 2 Axes>"
            ],
            "image/png": "[encoded data removed]"
          },
          "metadata": {}
        }
      ]
    },
    {
      "cell_type": "code",
      "source": [
        "#True leavers * 600 -> You rescued these leave-leave people\n",
        "# False leavers * 200 -> You wasted your money on the leave-stay people since they weren't actually going to leave\n",
        "( 382 * (800-200)) - (99 * 200)"
      ],
      "metadata": {
        "id": "9-cSHNP35GMr",
        "outputId": "d9d10297-dda3-41af-8ac5-53dd9e038074",
        "colab": {
          "base_uri": "https://localhost:8080/"
        }
      },
      "execution_count": 28,
      "outputs": [
        {
          "output_type": "execute_result",
          "data": {
            "text/plain": [
              "209400"
            ]
          },
          "metadata": {},
          "execution_count": 28
        }
      ]
    },
    {
      "cell_type": "code",
      "execution_count": null,
      "metadata": {
        "id": "344SRmiiziNO"
      },
      "outputs": [],
      "source": [
        "#version 4"
      ]
    },
    {
      "cell_type": "code",
      "source": [
        "##decreasing threshold to .15"
      ],
      "metadata": {
        "id": "Nwj01H5o5Q-e"
      },
      "execution_count": null,
      "outputs": []
    },
    {
      "cell_type": "code",
      "source": [
        "megatelco6_tree = DecisionTreeClassifier(criterion=\"entropy\", max_depth=4)\n",
        "\n",
        "# Create Decision Tree Classifer\n",
        "megatelco6_tree = megatelco6_tree.fit(x_train,y_train)\n",
        "\n",
        "# Use the tree to predict \"leave\"\n",
        "y_predict6 = (megatelco6_tree.predict_proba(x_test)[:,1] >= 0.17)\n",
        "\n",
        "\n",
        "# create a confusion matrix\n",
        "megatelco6_matrix = confusion_matrix(y_test, y_predict6)\n",
        "print(megatelco6_matrix)"
      ],
      "metadata": {
        "id": "_0Q15MGF5W9U",
        "outputId": "e8b64f4f-98f2-4a05-b1c9-e306cec06210",
        "colab": {
          "base_uri": "https://localhost:8080/"
        }
      },
      "execution_count": 45,
      "outputs": [
        {
          "output_type": "stream",
          "name": "stdout",
          "text": [
            "[[108 410]\n",
            " [ 19 462]]\n"
          ]
        }
      ]
    },
    {
      "cell_type": "code",
      "source": [
        "#Create a heatmap from our confusion matrix\n",
        "cm = sns.heatmap(megatelco6_matrix , annot=True, fmt='d',cmap='Reds')\n",
        "\n",
        "cm.set_title('Confusion Matrix');\n",
        "cm.set_xlabel('Predicted')\n",
        "cm.set_ylabel('Observered (Actual)');\n",
        "\n",
        "cm.xaxis.set_ticklabels(['Stay','Leave'])\n",
        "cm.yaxis.set_ticklabels(['Stay','Leave'])"
      ],
      "metadata": {
        "id": "Cm1oa3j05jlb",
        "outputId": "d6c7c681-293f-43aa-ee08-a730bbbc5804",
        "colab": {
          "base_uri": "https://localhost:8080/",
          "height": 490
        }
      },
      "execution_count": 46,
      "outputs": [
        {
          "output_type": "execute_result",
          "data": {
            "text/plain": [
              "[Text(0, 0.5, 'Stay'), Text(0, 1.5, 'Leave')]"
            ]
          },
          "metadata": {},
          "execution_count": 46
        },
        {
          "output_type": "display_data",
          "data": {
            "text/plain": [
              "<Figure size 640x480 with 2 Axes>"
            ],
            "image/png": "[encoded data removed]"
          },
          "metadata": {}
        }
      ]
    },
    {
      "cell_type": "code",
      "source": [
        "#True leavers * 600 -> You rescued these leave-leave people\n",
        "# False leavers * 200 -> You wasted your money on the leave-stay people since they weren't actually going to leave\n",
        "( 462 * (800-200)) - (19 * 200)"
      ],
      "metadata": {
        "id": "mwLrRWIE5l2X",
        "outputId": "f94b8cc8-5913-4dbe-9bc5-0f608274f9c7",
        "colab": {
          "base_uri": "https://localhost:8080/"
        }
      },
      "execution_count": 47,
      "outputs": [
        {
          "output_type": "execute_result",
          "data": {
            "text/plain": [
              "273400"
            ]
          },
          "metadata": {},
          "execution_count": 47
        }
      ]
    },
    {
      "cell_type": "code",
      "execution_count": null,
      "metadata": {
        "id": "WThQPsWTziNT"
      },
      "outputs": [],
      "source": [
        "#version 5"
      ]
    },
    {
      "cell_type": "code",
      "source": [
        "##lowering Threshold down to 1 and adding min split"
      ],
      "metadata": {
        "id": "3shpqxDT7tLt"
      },
      "execution_count": null,
      "outputs": []
    },
    {
      "cell_type": "code",
      "source": [
        "megatelco7_tree = DecisionTreeClassifier(criterion=\"entropy\", max_depth=4, min_samples_split=2)\n",
        "\n",
        "# Create Decision Tree Classifer\n",
        "megatelco7_tree = megatelco7_tree.fit(x_train,y_train)\n",
        "\n",
        "# Use the tree to predict \"leave\"\n",
        "y_predict7 = (megatelco7_tree.predict_proba(x_test)[:,1] >= 0.1)\n",
        "\n",
        "\n",
        "# create a confusion matrix\n",
        "megatelco7_matrix = confusion_matrix(y_test, y_predict7)\n",
        "print(megatelco7_matrix)"
      ],
      "metadata": {
        "id": "gtgIrakU6pGQ",
        "outputId": "a55d3fc1-a5cd-4913-f8f8-1ba5c9ef337f",
        "colab": {
          "base_uri": "https://localhost:8080/"
        }
      },
      "execution_count": 48,
      "outputs": [
        {
          "output_type": "stream",
          "name": "stdout",
          "text": [
            "[[  6 512]\n",
            " [  4 477]]\n"
          ]
        }
      ]
    },
    {
      "cell_type": "code",
      "source": [
        "#Create a heatmap from our confusion matrix\n",
        "cm = sns.heatmap(megatelco7_matrix , annot=True, fmt='d',cmap='Reds')\n",
        "\n",
        "cm.set_title('Confusion Matrix');\n",
        "cm.set_xlabel('Predicted')\n",
        "cm.set_ylabel('Observered (Actual)');\n",
        "\n",
        "cm.xaxis.set_ticklabels(['Stay','Leave'])\n",
        "cm.yaxis.set_ticklabels(['Stay','Leave'])"
      ],
      "metadata": {
        "id": "z9-8TD1p7gRM",
        "outputId": "1ddadbb8-8aa6-43bc-d41f-0306e3919fc3",
        "colab": {
          "base_uri": "https://localhost:8080/",
          "height": 490
        }
      },
      "execution_count": 49,
      "outputs": [
        {
          "output_type": "execute_result",
          "data": {
            "text/plain": [
              "[Text(0, 0.5, 'Stay'), Text(0, 1.5, 'Leave')]"
            ]
          },
          "metadata": {},
          "execution_count": 49
        },
        {
          "output_type": "display_data",
          "data": {
            "text/plain": [
              "<Figure size 640x480 with 2 Axes>"
            ],
            "image/png": "[encoded data removed]"
          },
          "metadata": {}
        }
      ]
    },
    {
      "cell_type": "code",
      "source": [
        "#True leavers * 600 -> You rescued these leave-leave people\n",
        "# False leavers * 200 -> You wasted your money on the leave-stay people since they weren't actually going to leave\n",
        "( 477 * (800-200)) - (4 * 200)"
      ],
      "metadata": {
        "id": "00HcpeN27mYA",
        "outputId": "aea38cc2-83cb-4aea-b00b-1115bb8dc087",
        "colab": {
          "base_uri": "https://localhost:8080/"
        }
      },
      "execution_count": 50,
      "outputs": [
        {
          "output_type": "execute_result",
          "data": {
            "text/plain": [
              "285400"
            ]
          },
          "metadata": {},
          "execution_count": 50
        }
      ]
    }
  ],
  "metadata": {
    "colab": {
      "name": "Module6_Script_v1.5.ipynb",
      "provenance": [],
      "include_colab_link": true
    },
    "kernelspec": {
      "display_name": "Python 3",
      "name": "python3"
    },
    "language_info": {
      "name": "python"
    }
  },
  "nbformat": 4,
  "nbformat_minor": 0
}